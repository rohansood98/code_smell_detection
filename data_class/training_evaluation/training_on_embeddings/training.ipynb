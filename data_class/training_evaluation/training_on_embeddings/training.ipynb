{
 "cells": [
  {
   "cell_type": "code",
   "execution_count": 13,
   "metadata": {},
   "outputs": [],
   "source": [
    "import pandas as pd\n",
    "import numpy as np\n",
    "from sklearn.model_selection import train_test_split, StratifiedKFold, GridSearchCV\n",
    "from sklearn.preprocessing import StandardScaler\n",
    "from sklearn.ensemble import RandomForestClassifier, BaggingClassifier\n",
    "import matplotlib.pyplot as plt\n",
    "from sklearn.svm import SVC\n",
    "from xgboost import XGBClassifier\n",
    "from sklearn.metrics import (\n",
    "    f1_score,\n",
    "    precision_score,\n",
    "    recall_score,\n",
    "    accuracy_score,\n",
    "    classification_report\n",
    ")\n",
    "import pickle"
   ]
  },
  {
   "cell_type": "code",
   "execution_count": 14,
   "metadata": {},
   "outputs": [],
   "source": [
    "def process_embeddings_and_train(file_path, output_path):\n",
    "    # Load data\n",
    "    data = pd.read_pickle(file_path)\n",
    "\n",
    "    # Separate features and labels\n",
    "    X = data[[col for col in data.columns if col.startswith(\"emb_\")]].values  # Select embedding columns\n",
    "    y = data['label'].values\n",
    "\n",
    "    # Define class weights\n",
    "    class_weights = {0: 1, 1: 4}\n",
    "\n",
    "    # Split dataset\n",
    "    X_train, X_test, y_train, y_test = train_test_split(X, y, test_size=0.3, random_state=42, stratify=y)\n",
    "\n",
    "    # Standardize features\n",
    "    scaler = StandardScaler()\n",
    "    X_train = scaler.fit_transform(X_train)\n",
    "    X_test = scaler.transform(X_test)\n",
    "\n",
    "    # Define classifiers with hyperparameter grids\n",
    "    classifiers = {\n",
    "        \"Random Forest\": {\n",
    "            \"model\": RandomForestClassifier(random_state=42, class_weight=class_weights),\n",
    "            \"params\": {\n",
    "                \"n_estimators\": [50, 100, 200],\n",
    "                \"max_depth\": [5,10, 20, None],\n",
    "                \"min_samples_split\": [2, 5, 10]\n",
    "            }\n",
    "        },\n",
    "        \"Bagging\": {\n",
    "            \"model\": BaggingClassifier(estimator=RandomForestClassifier(random_state=42, class_weight=class_weights), random_state=42),\n",
    "            \"params\": {\n",
    "                \"n_estimators\": [10, 50, 100],\n",
    "                \"max_samples\": [0.5, 0.7, 1.0]\n",
    "            }\n",
    "        },\n",
    "        \"XGBoost\": {\n",
    "            \"model\": XGBClassifier(random_state=42, use_label_encoder=False, eval_metric='logloss'),\n",
    "            \"params\": {\n",
    "                \"n_estimators\": [50, 100, 200],\n",
    "                \"max_depth\": [3, 6, 10],\n",
    "                \"learning_rate\": [0.01, 0.1, 0.3]\n",
    "            }\n",
    "        },\n",
    "        \"SVM\": {\n",
    "            \"model\": SVC(probability=True, class_weight=class_weights, random_state=42),\n",
    "            \"params\": {\n",
    "                \"C\": [0.1, 1, 10],\n",
    "                \"kernel\": [\"linear\", \"rbf\", \"poly\"],\n",
    "                \"gamma\": [\"scale\", \"auto\"]\n",
    "            }\n",
    "        }\n",
    "    }\n",
    "\n",
    "    # Train and evaluate each classifier\n",
    "    results = {}\n",
    "    for clf_name, clf_info in classifiers.items():\n",
    "        print(f\"\\nTuning {clf_name}...\")\n",
    "        grid_search = GridSearchCV(\n",
    "            estimator=clf_info[\"model\"],\n",
    "            param_grid=clf_info[\"params\"],\n",
    "            scoring='f1_macro',\n",
    "            cv=StratifiedKFold(n_splits=5, shuffle=True, random_state=42),\n",
    "            n_jobs=-1\n",
    "        )\n",
    "        grid_search.fit(X_train, y_train)\n",
    "\n",
    "        # Best model\n",
    "        best_model = grid_search.best_estimator_\n",
    "        best_params = grid_search.best_params_\n",
    "\n",
    "        # Evaluate on the test set\n",
    "        y_pred = best_model.predict(X_test)\n",
    "        metrics = {\n",
    "            \"f1_micro\": f1_score(y_test, y_pred, average='micro'),\n",
    "            \"f1_macro\": f1_score(y_test, y_pred, average='macro'),\n",
    "            \"precision_macro\": precision_score(y_test, y_pred, average='macro'),\n",
    "            \"recall_macro\": recall_score(y_test, y_pred, average='macro'),\n",
    "            \"accuracy\": accuracy_score(y_test, y_pred),\n",
    "            \"classification_report\": classification_report(y_test, y_pred)\n",
    "        }\n",
    "\n",
    "        # Save results\n",
    "        results[clf_name] = {\n",
    "            \"best_params\": best_params,\n",
    "            \"metrics\": metrics\n",
    "        }\n",
    "\n",
    "        # Print metrics and best parameters\n",
    "        print(f\"\\n{clf_name} Results:\")\n",
    "        print(f\"Best Parameters: {best_params}\")\n",
    "        for metric, value in metrics.items():\n",
    "            if metric != \"classification_report\":\n",
    "                print(f\"{metric.capitalize()}: {value:.4f}\")\n",
    "            else:\n",
    "                print(f\"\\n{metric.capitalize()}:\\n{value}\")\n",
    "\n",
    "    # Plot F1 Macro Scores\n",
    "    f1_scores = {clf: result['metrics']['f1_macro'] for clf, result in results.items()}\n",
    "    plt.figure(figsize=(10, 6))\n",
    "    plt.bar(f1_scores.keys(), f1_scores.values())\n",
    "    plt.title('F1 Macro Scores of Classifiers')\n",
    "    plt.xlabel('Classifier')\n",
    "    plt.ylabel('F1 Macro Score')\n",
    "    plt.xticks(rotation=45)\n",
    "    plt.tight_layout()\n",
    "    plt.show()\n",
    "\n",
    "    # Plot Accuracies\n",
    "    accuracies = {clf: result['metrics']['accuracy'] for clf, result in results.items()}\n",
    "    plt.figure(figsize=(10, 6))\n",
    "    plt.bar(accuracies.keys(), accuracies.values())\n",
    "    plt.title('Accuracy of Classifiers')\n",
    "    plt.xlabel('Classifier')\n",
    "    plt.ylabel('Accuracy')\n",
    "    plt.xticks(rotation=45)\n",
    "    plt.tight_layout()\n",
    "    plt.show()\n",
    "\n",
    "    # Save all results to output path\n",
    "    with open(output_path, \"wb\") as f:\n",
    "        pickle.dump(results, f)\n",
    "    print(f\"\\nResults saved to {output_path}\")\n",
    "\n"
   ]
  },
  {
   "cell_type": "markdown",
   "metadata": {},
   "source": [
    "# Codebert"
   ]
  },
  {
   "cell_type": "code",
   "execution_count": null,
   "metadata": {},
   "outputs": [
    {
     "name": "stdout",
     "output_type": "stream",
     "text": [
      "Classification using AVG embeddings\n",
      "\n",
      "Tuning Random Forest...\n"
     ]
    }
   ],
   "source": [
    "# AVG Embeddings\n",
    "print(\"Classification using AVG embeddings\")\n",
    "file_path = \"C:/Users/Rohan/Downloads/Code_Smell_Detection-20241216T154125Z-001/Code_Smell_Detection/dataset/data_class/codebert_embeddings/processed_embeddings/codebert_base_embed_line_by_line_avg.pkl\"\n",
    "output_path = \"C:/Users/Rohan/Downloads/Code_Smell_Detection-20241216T154125Z-001/Code_Smell_Detection/data_class/results/codebert/result_codebert_base_avg.pkl\"  \n",
    "process_embeddings_and_train(file_path, output_path)\n"
   ]
  },
  {
   "cell_type": "code",
   "execution_count": 12,
   "metadata": {},
   "outputs": [
    {
     "name": "stdout",
     "output_type": "stream",
     "text": [
      "Classification using SUM embeddings\n",
      "\n",
      "Tuning Random Forest...\n",
      "\n",
      "Random Forest Results:\n",
      "Best Parameters: {'max_depth': 10, 'min_samples_split': 5, 'n_estimators': 50}\n",
      "F1_micro: 0.7921\n",
      "F1_macro: 0.5902\n",
      "Precision_macro: 0.5846\n",
      "Recall_macro: 0.5986\n",
      "Accuracy: 0.7921\n",
      "\n",
      "Classification_report:\n",
      "              precision    recall  f1-score   support\n",
      "\n",
      "           0       0.89      0.86      0.88       786\n",
      "           1       0.28      0.33      0.30       123\n",
      "\n",
      "    accuracy                           0.79       909\n",
      "   macro avg       0.58      0.60      0.59       909\n",
      "weighted avg       0.81      0.79      0.80       909\n",
      "\n",
      "\n",
      "Tuning Bagging...\n",
      "\n",
      "Bagging Results:\n",
      "Best Parameters: {'max_samples': 1.0, 'n_estimators': 10}\n",
      "F1_micro: 0.8372\n",
      "F1_macro: 0.6049\n",
      "Precision_macro: 0.6243\n",
      "Recall_macro: 0.5938\n",
      "Accuracy: 0.8372\n",
      "\n",
      "Classification_report:\n",
      "              precision    recall  f1-score   support\n",
      "\n",
      "           0       0.89      0.93      0.91       786\n",
      "           1       0.36      0.26      0.30       123\n",
      "\n",
      "    accuracy                           0.84       909\n",
      "   macro avg       0.62      0.59      0.60       909\n",
      "weighted avg       0.82      0.84      0.83       909\n",
      "\n",
      "\n",
      "Tuning XGBoost...\n"
     ]
    },
    {
     "name": "stderr",
     "output_type": "stream",
     "text": [
      "c:\\ProgramData\\anaconda3\\envs\\python_3.9\\lib\\site-packages\\xgboost\\core.py:158: UserWarning: [11:49:59] WARNING: C:\\buildkite-agent\\builds\\buildkite-windows-cpu-autoscaling-group-i-0c55ff5f71b100e98-1\\xgboost\\xgboost-ci-windows\\src\\learner.cc:740: \n",
      "Parameters: { \"use_label_encoder\" } are not used.\n",
      "\n",
      "  warnings.warn(smsg, UserWarning)\n"
     ]
    },
    {
     "name": "stdout",
     "output_type": "stream",
     "text": [
      "\n",
      "XGBoost Results:\n",
      "Best Parameters: {'learning_rate': 0.3, 'max_depth': 3, 'n_estimators': 200}\n",
      "F1_micro: 0.8273\n",
      "F1_macro: 0.5720\n",
      "Precision_macro: 0.5894\n",
      "Recall_macro: 0.5641\n",
      "Accuracy: 0.8273\n",
      "\n",
      "Classification_report:\n",
      "              precision    recall  f1-score   support\n",
      "\n",
      "           0       0.88      0.92      0.90       786\n",
      "           1       0.30      0.20      0.24       123\n",
      "\n",
      "    accuracy                           0.83       909\n",
      "   macro avg       0.59      0.56      0.57       909\n",
      "weighted avg       0.80      0.83      0.81       909\n",
      "\n",
      "\n",
      "Tuning SVM...\n",
      "\n",
      "SVM Results:\n",
      "Best Parameters: {'C': 1, 'gamma': 'scale', 'kernel': 'rbf'}\n",
      "F1_micro: 0.7943\n",
      "F1_macro: 0.6175\n",
      "Precision_macro: 0.6069\n",
      "Recall_macro: 0.6376\n",
      "Accuracy: 0.7943\n",
      "\n",
      "Classification_report:\n",
      "              precision    recall  f1-score   support\n",
      "\n",
      "           0       0.90      0.85      0.88       786\n",
      "           1       0.31      0.42      0.36       123\n",
      "\n",
      "    accuracy                           0.79       909\n",
      "   macro avg       0.61      0.64      0.62       909\n",
      "weighted avg       0.82      0.79      0.81       909\n",
      "\n"
     ]
    },
    {
     "data": {
      "image/png": "[encoded data removed]",
      "text/plain": [
       "<Figure size 1000x600 with 1 Axes>"
      ]
     },
     "metadata": {},
     "output_type": "display_data"
    },
    {
     "data": {
      "image/png": "[encoded data removed]",
      "text/plain": [
       "<Figure size 1000x600 with 1 Axes>"
      ]
     },
     "metadata": {},
     "output_type": "display_data"
    },
    {
     "name": "stdout",
     "output_type": "stream",
     "text": [
      "\n",
      "Results saved to C:/Users/Rohan/Downloads/Code_Smell_Detection-20241216T154125Z-001/Code_Smell_Detection/data_class/results/codebert/result_codebert_base_sum.pkl\n"
     ]
    }
   ],
   "source": [
    "# SUM Embeddings\n",
    "print(\"Classification using SUM embeddings\")\n",
    "file_path = \"C:/Users/Rohan/Downloads/Code_Smell_Detection-20241216T154125Z-001/Code_Smell_Detection/dataset/data_class/codebert_embeddings/processed_embeddings/codebert_base_embed_line_by_line_sum.pkl\"\n",
    "output_path = \"C:/Users/Rohan/Downloads/Code_Smell_Detection-20241216T154125Z-001/Code_Smell_Detection/data_class/results/codebert/result_codebert_base_sum.pkl\"  \n",
    "process_embeddings_and_train(file_path, output_path)"
   ]
  },
  {
   "cell_type": "markdown",
   "metadata": {},
   "source": [
    "# codeT5 base"
   ]
  },
  {
   "cell_type": "code",
   "execution_count": null,
   "metadata": {},
   "outputs": [],
   "source": [
    "# AVG Embeddings\n",
    "print(\"Classification using AVG embeddings\")\n",
    "file_path = \"C:/Users/Rohan/Downloads/Code_Smell_Detection-20241216T154125Z-001/Code_Smell_Detection/dataset/data_class/codeT5_embeddings/processed_embeddings/codeT5_base_embed_line_by_line_avg.pkl\"\n",
    "output_path = \"C:/Users/Rohan/Downloads/Code_Smell_Detection-20241216T154125Z-001/Code_Smell_Detection/data_class/results/codeT5/base/result_codeT5_base_avg.pkl\"  \n",
    "process_embeddings_and_train(file_path, output_path)\n"
   ]
  },
  {
   "cell_type": "code",
   "execution_count": null,
   "metadata": {},
   "outputs": [],
   "source": [
    "# SUM Embeddings\n",
    "print(\"Classification using SUM embeddings\")\n",
    "file_path = \"C:/Users/Rohan/Downloads/Code_Smell_Detection-20241216T154125Z-001/Code_Smell_Detection/dataset/data_class/codeT5_embeddings/processed_embeddings/codeT5_base_embed_line_by_line_sum.pkl\"\n",
    "output_path = \"C:/Users/Rohan/Downloads/Code_Smell_Detection-20241216T154125Z-001/Code_Smell_Detection/data_class/results/codeT5/base/result_codeT5_base_sum.pkl\"  \n",
    "process_embeddings_and_train(file_path, output_path)"
   ]
  },
  {
   "cell_type": "markdown",
   "metadata": {},
   "source": [
    "# codeT5 small"
   ]
  },
  {
   "cell_type": "code",
   "execution_count": null,
   "metadata": {},
   "outputs": [],
   "source": [
    "# AVG Embeddings\n",
    "print(\"Classification using AVG embeddings\")\n",
    "file_path = \"C:/Users/Rohan/Downloads/Code_Smell_Detection-20241216T154125Z-001/Code_Smell_Detection/dataset/data_class/codeT5_embeddings/processed_embeddings/codeT5_small_embed_line_by_line_avg.pkl\"\n",
    "output_path = \"C:/Users/Rohan/Downloads/Code_Smell_Detection-20241216T154125Z-001/Code_Smell_Detection/data_class/results/codeT5/small/result_codeT5_small_avg.pkl\"  \n",
    "process_embeddings_and_train(file_path, output_path)"
   ]
  },
  {
   "cell_type": "code",
   "execution_count": null,
   "metadata": {},
   "outputs": [],
   "source": [
    "# SUM Embeddings\n",
    "print(\"Classification using SUM embeddings\")\n",
    "file_path = \"C:/Users/Rohan/Downloads/Code_Smell_Detection-20241216T154125Z-001/Code_Smell_Detection/dataset/data_class/codeT5_embeddings/processed_embeddings/codeT5_small_embed_line_by_line_sum.pkl\"\n",
    "output_path = \"C:/Users/Rohan/Downloads/Code_Smell_Detection-20241216T154125Z-001/Code_Smell_Detection/data_class/results/codeT5/small/result_codeT5_small_sum.pkl\"  \n",
    "process_embeddings_and_train(file_path, output_path)"
   ]
  },
  {
   "cell_type": "markdown",
   "metadata": {},
   "source": [
    "# Cubert"
   ]
  },
  {
   "cell_type": "code",
   "execution_count": null,
   "metadata": {},
   "outputs": [],
   "source": [
    "# AVG Embeddings\n",
    "print(\"Classification using AVG embeddings\")\n",
    "file_path = \"C:/Users/Rohan/Downloads/Code_Smell_Detection-20241216T154125Z-001/Code_Smell_Detection/dataset/data_class/cubert_embeddings/processed_embeddings/cubert_embed_line_by_line_avg.pkl\"\n",
    "output_path = \"C:/Users/Rohan/Downloads/Code_Smell_Detection-20241216T154125Z-001/Code_Smell_Detection/data_class/results/cubert/result_cubert_avg.pkl\"  \n",
    "process_embeddings_and_train(file_path, output_path)\n"
   ]
  },
  {
   "cell_type": "code",
   "execution_count": null,
   "metadata": {},
   "outputs": [],
   "source": [
    "# SUM Embeddings\n",
    "print(\"Classification using SUM embeddings\")\n",
    "file_path = \"C:/Users/Rohan/Downloads/Code_Smell_Detection-20241216T154125Z-001/Code_Smell_Detection/dataset/data_class/cubert_embeddings/processed_embeddings/cubert_embed_line_by_line_sum.pkl\"\n",
    "output_path = \"C:/Users/Rohan/Downloads/Code_Smell_Detection-20241216T154125Z-001/Code_Smell_Detection/data_class/results/cubert/result_cubert_sum.pkl\"  \n",
    "process_embeddings_and_train(file_path, output_path)"
   ]
  },
  {
   "cell_type": "markdown",
   "metadata": {},
   "source": [
    "# Plbart-base"
   ]
  },
  {
   "cell_type": "code",
   "execution_count": null,
   "metadata": {},
   "outputs": [],
   "source": [
    "# AVG Embeddings\n",
    "print(\"Classification using AVG embeddings\")\n",
    "file_path = \"C:/Users/Rohan/Downloads/Code_Smell_Detection-20241216T154125Z-001/Code_Smell_Detection/dataset/data_class/plbart_base_embeddings/processed_embeddings/plbart_embed_line_by_line_avg.pkl\"\n",
    "output_path = \"C:/Users/Rohan/Downloads/Code_Smell_Detection-20241216T154125Z-001/Code_Smell_Detection/data_class/results/plbart/result_plbart_avg.pkl\"  \n",
    "process_embeddings_and_train(file_path, output_path)\n"
   ]
  },
  {
   "cell_type": "code",
   "execution_count": null,
   "metadata": {},
   "outputs": [],
   "source": [
    "# SUM Embeddings\n",
    "print(\"Classification using SUM embeddings\")\n",
    "file_path = \"C:/Users/Rohan/Downloads/Code_Smell_Detection-20241216T154125Z-001/Code_Smell_Detection/dataset/data_class/plbart_base_embeddings/processed_embeddings/plbart_embed_line_by_line_sum.pkl\"\n",
    "output_path = \"C:/Users/Rohan/Downloads/Code_Smell_Detection-20241216T154125Z-001/Code_Smell_Detection/data_class/results/plbart/result_plbart_sum.pkl\"  \n",
    "process_embeddings_and_train(file_path, output_path)"
   ]
  }
 ],
 "metadata": {
  "kernelspec": {
   "display_name": "python_3.9",
   "language": "python",
   "name": "python3"
  },
  "language_info": {
   "codemirror_mode": {
    "name": "ipython",
    "version": 3
   },
   "file_extension": ".py",
   "mimetype": "text/x-python",
   "name": "python",
   "nbconvert_exporter": "python",
   "pygments_lexer": "ipython3",
   "version": "3.9.20"
  }
 },
 "nbformat": 4,
 "nbformat_minor": 2
}
