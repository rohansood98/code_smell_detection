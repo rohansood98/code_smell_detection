{
 "cells": [
  {
   "cell_type": "code",
   "execution_count": 20,
   "metadata": {},
   "outputs": [],
   "source": [
    "import pandas as pd\n",
    "import pickle"
   ]
  },
  {
   "cell_type": "code",
   "execution_count": 21,
   "metadata": {},
   "outputs": [
    {
     "name": "stderr",
     "output_type": "stream",
     "text": [
      "/var/folders/d8/cr798cb57kzd5kz_r8g8jm380000gn/T/ipykernel_31878/2678406953.py:3: DeprecationWarning: numpy.core.numeric is deprecated and has been renamed to numpy._core.numeric. The numpy._core namespace contains private NumPy internals and its use is discouraged, as NumPy internals can change without warning in any release. In practice, most real-world usage of numpy.core is to access functionality in the public NumPy API. If that is the case, use the public NumPy API. If not, you are using NumPy internals. If you would still like to access an internal attribute, use numpy._core.numeric._frombuffer.\n",
      "  df = pickle.load(fh)\n"
     ]
    }
   ],
   "source": [
    "file_path = \"/Users/mac/Desktop/Code_Smell_Detection/dataset/data_class/cubert_embeddings/df_dc_embeded_by_line_cubert.pkl\"\n",
    "with open(file_path, \"rb\") as fh:\n",
    "  df = pickle.load(fh)"
   ]
  },
  {
   "cell_type": "code",
   "execution_count": 22,
   "metadata": {},
   "outputs": [
    {
     "data": {
      "text/html": [
       "<div>\n",
       "<style scoped>\n",
       "    .dataframe tbody tr th:only-of-type {\n",
       "        vertical-align: middle;\n",
       "    }\n",
       "\n",
       "    .dataframe tbody tr th {\n",
       "        vertical-align: top;\n",
       "    }\n",
       "\n",
       "    .dataframe thead th {\n",
       "        text-align: right;\n",
       "    }\n",
       "</style>\n",
       "<table border=\"1\" class=\"dataframe\">\n",
       "  <thead>\n",
       "    <tr style=\"text-align: right;\">\n",
       "      <th></th>\n",
       "      <th>sample_id</th>\n",
       "      <th>severity</th>\n",
       "      <th>method</th>\n",
       "      <th>label</th>\n",
       "      <th>embeded_sequence_sum</th>\n",
       "      <th>embeded_sequence_avg</th>\n",
       "    </tr>\n",
       "  </thead>\n",
       "  <tbody>\n",
       "    <tr>\n",
       "      <th>0</th>\n",
       "      <td>8077</td>\n",
       "      <td>critical</td>\n",
       "      <td>public class DruidPooledCallableStatement exte...</td>\n",
       "      <td>1</td>\n",
       "      <td>[[493.20623779296875, -94.64544677734375, -291...</td>\n",
       "      <td>[[0.5314722657203674, -0.10198862850666046, -0...</td>\n",
       "    </tr>\n",
       "    <tr>\n",
       "      <th>1</th>\n",
       "      <td>5553</td>\n",
       "      <td>critical</td>\n",
       "      <td>public interface IAopReferenceModel {\\n\\t\\n\\tv...</td>\n",
       "      <td>1</td>\n",
       "      <td>[[7.537168979644775, -14.017938613891602, -10....</td>\n",
       "      <td>[[0.41873160004615784, -0.7787743806838989, -0...</td>\n",
       "    </tr>\n",
       "    <tr>\n",
       "      <th>2</th>\n",
       "      <td>9341</td>\n",
       "      <td>critical</td>\n",
       "      <td>@XmlAccessorType(XmlAccessType.FIELD)\\n@XmlTyp...</td>\n",
       "      <td>1</td>\n",
       "      <td>[[0.23157545924186707, -9.463057518005371, -18...</td>\n",
       "      <td>[[0.006258795969188213, -0.2557583153247833, -...</td>\n",
       "    </tr>\n",
       "    <tr>\n",
       "      <th>3</th>\n",
       "      <td>10419</td>\n",
       "      <td>critical</td>\n",
       "      <td>public class Ipam {\\n  private String driver;\\...</td>\n",
       "      <td>1</td>\n",
       "      <td>[[37.18507385253906, -24.23702049255371, -40.5...</td>\n",
       "      <td>[[0.5468392968177795, -0.35642677545547485, -0...</td>\n",
       "    </tr>\n",
       "    <tr>\n",
       "      <th>4</th>\n",
       "      <td>12232</td>\n",
       "      <td>critical</td>\n",
       "      <td>public class DruidPooledCallableStatement exte...</td>\n",
       "      <td>1</td>\n",
       "      <td>[[493.20623779296875, -94.64544677734375, -291...</td>\n",
       "      <td>[[0.5314722657203674, -0.10198862850666046, -0...</td>\n",
       "    </tr>\n",
       "  </tbody>\n",
       "</table>\n",
       "</div>"
      ],
      "text/plain": [
       "   sample_id  severity                                             method  \\\n",
       "0       8077  critical  public class DruidPooledCallableStatement exte...   \n",
       "1       5553  critical  public interface IAopReferenceModel {\\n\\t\\n\\tv...   \n",
       "2       9341  critical  @XmlAccessorType(XmlAccessType.FIELD)\\n@XmlTyp...   \n",
       "3      10419  critical  public class Ipam {\\n  private String driver;\\...   \n",
       "4      12232  critical  public class DruidPooledCallableStatement exte...   \n",
       "\n",
       "   label                               embeded_sequence_sum  \\\n",
       "0      1  [[493.20623779296875, -94.64544677734375, -291...   \n",
       "1      1  [[7.537168979644775, -14.017938613891602, -10....   \n",
       "2      1  [[0.23157545924186707, -9.463057518005371, -18...   \n",
       "3      1  [[37.18507385253906, -24.23702049255371, -40.5...   \n",
       "4      1  [[493.20623779296875, -94.64544677734375, -291...   \n",
       "\n",
       "                                embeded_sequence_avg  \n",
       "0  [[0.5314722657203674, -0.10198862850666046, -0...  \n",
       "1  [[0.41873160004615784, -0.7787743806838989, -0...  \n",
       "2  [[0.006258795969188213, -0.2557583153247833, -...  \n",
       "3  [[0.5468392968177795, -0.35642677545547485, -0...  \n",
       "4  [[0.5314722657203674, -0.10198862850666046, -0...  "
      ]
     },
     "execution_count": 22,
     "metadata": {},
     "output_type": "execute_result"
    }
   ],
   "source": [
    "df.head()"
   ]
  },
  {
   "cell_type": "code",
   "execution_count": 23,
   "metadata": {},
   "outputs": [
    {
     "data": {
      "text/html": [
       "<div>\n",
       "<style scoped>\n",
       "    .dataframe tbody tr th:only-of-type {\n",
       "        vertical-align: middle;\n",
       "    }\n",
       "\n",
       "    .dataframe tbody tr th {\n",
       "        vertical-align: top;\n",
       "    }\n",
       "\n",
       "    .dataframe thead th {\n",
       "        text-align: right;\n",
       "    }\n",
       "</style>\n",
       "<table border=\"1\" class=\"dataframe\">\n",
       "  <thead>\n",
       "    <tr style=\"text-align: right;\">\n",
       "      <th></th>\n",
       "      <th>sample_id</th>\n",
       "      <th>severity</th>\n",
       "      <th>label</th>\n",
       "      <th>embeded_sequence_sum</th>\n",
       "    </tr>\n",
       "  </thead>\n",
       "  <tbody>\n",
       "    <tr>\n",
       "      <th>0</th>\n",
       "      <td>8077</td>\n",
       "      <td>critical</td>\n",
       "      <td>1</td>\n",
       "      <td>[[493.20623779296875, -94.64544677734375, -291...</td>\n",
       "    </tr>\n",
       "    <tr>\n",
       "      <th>1</th>\n",
       "      <td>5553</td>\n",
       "      <td>critical</td>\n",
       "      <td>1</td>\n",
       "      <td>[[7.537168979644775, -14.017938613891602, -10....</td>\n",
       "    </tr>\n",
       "    <tr>\n",
       "      <th>2</th>\n",
       "      <td>9341</td>\n",
       "      <td>critical</td>\n",
       "      <td>1</td>\n",
       "      <td>[[0.23157545924186707, -9.463057518005371, -18...</td>\n",
       "    </tr>\n",
       "    <tr>\n",
       "      <th>3</th>\n",
       "      <td>10419</td>\n",
       "      <td>critical</td>\n",
       "      <td>1</td>\n",
       "      <td>[[37.18507385253906, -24.23702049255371, -40.5...</td>\n",
       "    </tr>\n",
       "    <tr>\n",
       "      <th>4</th>\n",
       "      <td>12232</td>\n",
       "      <td>critical</td>\n",
       "      <td>1</td>\n",
       "      <td>[[493.20623779296875, -94.64544677734375, -291...</td>\n",
       "    </tr>\n",
       "  </tbody>\n",
       "</table>\n",
       "</div>"
      ],
      "text/plain": [
       "   sample_id  severity  label  \\\n",
       "0       8077  critical      1   \n",
       "1       5553  critical      1   \n",
       "2       9341  critical      1   \n",
       "3      10419  critical      1   \n",
       "4      12232  critical      1   \n",
       "\n",
       "                                embeded_sequence_sum  \n",
       "0  [[493.20623779296875, -94.64544677734375, -291...  \n",
       "1  [[7.537168979644775, -14.017938613891602, -10....  \n",
       "2  [[0.23157545924186707, -9.463057518005371, -18...  \n",
       "3  [[37.18507385253906, -24.23702049255371, -40.5...  \n",
       "4  [[493.20623779296875, -94.64544677734375, -291...  "
      ]
     },
     "execution_count": 23,
     "metadata": {},
     "output_type": "execute_result"
    }
   ],
   "source": [
    "embeded_sum = df.loc[:, ['sample_id', 'severity', 'label', 'embeded_sequence_sum']]\n",
    "embeded_avg = df.loc[:, ['sample_id', 'severity', 'label', 'embeded_sequence_avg']]\n",
    "embeded_sum.head()"
   ]
  },
  {
   "cell_type": "code",
   "execution_count": 24,
   "metadata": {},
   "outputs": [
    {
     "name": "stdout",
     "output_type": "stream",
     "text": [
      "0    [[493.20623779296875, -94.64544677734375, -291...\n",
      "1    [[7.537168979644775, -14.017938613891602, -10....\n",
      "2    [[0.23157545924186707, -9.463057518005371, -18...\n",
      "3    [[37.18507385253906, -24.23702049255371, -40.5...\n",
      "4    [[493.20623779296875, -94.64544677734375, -291...\n",
      "Name: embeded_sequence_sum, dtype: object\n",
      "embeded_sequence_sum\n",
      "<class 'list'>    3694\n",
      "Name: count, dtype: int64\n"
     ]
    }
   ],
   "source": [
    "print(embeded_sum[\"embeded_sequence_sum\"].head())\n",
    "print(embeded_sum[\"embeded_sequence_sum\"].apply(type).value_counts())"
   ]
  },
  {
   "cell_type": "code",
   "execution_count": 25,
   "metadata": {},
   "outputs": [],
   "source": [
    "def process_embedding(x):\n",
    "    if x is None:\n",
    "        return []  \n",
    "    elif isinstance(x, pd.Series):\n",
    "        return \" \".join(map(str, x))\n",
    "    else:\n",
    "        return str(x)  \n",
    "\n",
    "embeded_sum[\"embeded_sequence_sum\"] = embeded_sum[\"embeded_sequence_sum\"].apply(process_embedding)\n"
   ]
  },
  {
   "cell_type": "code",
   "execution_count": 26,
   "metadata": {},
   "outputs": [
    {
     "name": "stdout",
     "output_type": "stream",
     "text": [
      "0    [[493.20623779296875, -94.64544677734375, -291...\n",
      "1    [[7.537168979644775, -14.017938613891602, -10....\n",
      "2    [[0.23157545924186707, -9.463057518005371, -18...\n",
      "3    [[37.18507385253906, -24.23702049255371, -40.5...\n",
      "4    [[493.20623779296875, -94.64544677734375, -291...\n",
      "Name: embeded_sequence_sum, dtype: object\n"
     ]
    }
   ],
   "source": [
    "print(embeded_sum[\"embeded_sequence_sum\"].head())"
   ]
  },
  {
   "cell_type": "code",
   "execution_count": 27,
   "metadata": {},
   "outputs": [],
   "source": [
    "embeded_sum[\"embeded_sequence_sum\"] = embeded_sum[\"embeded_sequence_sum\"].apply(\n",
    "    lambda x: \" \".join(str(i) for i in x) if isinstance(x, pd.Series) else str(x)\n",
    ")"
   ]
  },
  {
   "cell_type": "code",
   "execution_count": 28,
   "metadata": {},
   "outputs": [],
   "source": [
    "import re\n",
    "\n",
    "def parse_flat_embedding(embedding_str):\n",
    "    # Ensure input is a string\n",
    "    if not isinstance(embedding_str, str):\n",
    "        return []\n",
    "    try:\n",
    "        # Extract numerical values from the string\n",
    "        values = re.findall(r\"[-+]?\\d*\\.\\d+|\\d+\", embedding_str)\n",
    "        return [float(v) for v in values]\n",
    "    except Exception as e:\n",
    "        print(f\"Error parsing: {embedding_str} -> {e}\")\n",
    "        return []\n"
   ]
  },
  {
   "cell_type": "code",
   "execution_count": 29,
   "metadata": {},
   "outputs": [],
   "source": [
    "embeded_sum[\"embeded_sequence_sum\"] = embeded_sum[\"embeded_sequence_sum\"].apply(parse_flat_embedding)"
   ]
  },
  {
   "cell_type": "code",
   "execution_count": 30,
   "metadata": {},
   "outputs": [
    {
     "name": "stdout",
     "output_type": "stream",
     "text": [
      "Embedding length: 768\n",
      "Most common sequence length: 768\n",
      "Count of rows with this length: 3681\n"
     ]
    }
   ],
   "source": [
    "n = len(embeded_sum[\"embeded_sequence_sum\"][0])\n",
    "print(f\"Embedding length: {n}\")\n",
    "\n",
    "embed_lengths = embeded_sum[\"embeded_sequence_sum\"].apply(len)\n",
    "length_counts = embed_lengths.value_counts()\n",
    "most_common_length = length_counts.idxmax()\n",
    "\n",
    "n = most_common_length\n",
    "print(f\"Most common sequence length: {most_common_length}\")\n",
    "print(f\"Count of rows with this length: {length_counts[most_common_length]}\")\n"
   ]
  },
  {
   "cell_type": "code",
   "execution_count": 31,
   "metadata": {},
   "outputs": [
    {
     "name": "stdout",
     "output_type": "stream",
     "text": [
      "0    [493.20623779296875, -94.64544677734375, -291....\n",
      "1    [7.537168979644775, -14.017938613891602, -10.7...\n",
      "2    [0.23157545924186707, -9.463057518005371, -18....\n",
      "3    [37.18507385253906, -24.23702049255371, -40.55...\n",
      "4    [493.20623779296875, -94.64544677734375, -291....\n",
      "Name: embeded_sequence_sum, dtype: object\n"
     ]
    }
   ],
   "source": [
    " # Function to handle the trimming or padding of the sequence\n",
    "embeded_sum[\"embeded_sequence_sum\"] = embeded_sum[\"embeded_sequence_sum\"].apply(\n",
    "    lambda x: (x[:n] if len(x) > n else x + [0] * (n - len(x))) if isinstance(x, list) else [0] * n\n",
    ")\n",
    "\n",
    "print(embeded_sum[\"embeded_sequence_sum\"].head())"
   ]
  },
  {
   "cell_type": "code",
   "execution_count": 32,
   "metadata": {},
   "outputs": [
    {
     "name": "stdout",
     "output_type": "stream",
     "text": [
      "embeded_sequence_sum\n",
      "768    3694\n",
      "Name: count, dtype: int64\n"
     ]
    }
   ],
   "source": [
    "embed_lengths = embeded_sum[\"embeded_sequence_sum\"].apply(len)\n",
    "print(embed_lengths.value_counts())\n"
   ]
  },
  {
   "cell_type": "code",
   "execution_count": 33,
   "metadata": {},
   "outputs": [
    {
     "name": "stdout",
     "output_type": "stream",
     "text": [
      "        emb_1      emb_2       emb_3       emb_4      emb_5       emb_6  \\\n",
      "0  493.206238 -94.645447 -291.701904  601.198914 -32.923615 -662.838440   \n",
      "1    7.537169 -14.017939  -10.766094   16.649782  -1.662095  -11.386008   \n",
      "2    0.231575  -9.463058  -18.066072   34.561588  -7.121534  -28.618713   \n",
      "3   37.185074 -24.237020  -40.553955   42.658749  -3.337812  -17.803162   \n",
      "4  493.206238 -94.645447 -291.701904  601.198914 -32.923615 -662.838440   \n",
      "\n",
      "        emb_7       emb_8       emb_9      emb_10  ...     emb_762  \\\n",
      "0  809.795105 -380.377197  825.971680  420.571716  ...  194.174377   \n",
      "1   16.042494   -3.683760   25.835314    1.784303  ...   -8.649843   \n",
      "2   19.281786   -5.490053   35.314980   12.210077  ...  -12.267640   \n",
      "3   60.351562  -24.570055   50.746403   32.497662  ...    6.340598   \n",
      "4  809.795105 -380.377197  825.971680  420.571716  ...  194.174377   \n",
      "\n",
      "      emb_763     emb_764     emb_765     emb_766      emb_767     emb_768  \\\n",
      "0 -267.659790 -500.838837  256.607788  408.753296  1069.934570 -142.697815   \n",
      "1   -6.559853  -23.561625   23.530941   -1.597989    23.579197   -2.988943   \n",
      "2   -5.113117  -20.395214   11.202926   -1.206951    24.665892  -19.308853   \n",
      "3   10.465193   -7.663659   28.312252   11.600004    40.185349  -49.591957   \n",
      "4 -267.659790 -500.838837  256.607788  408.753296  1069.934570 -142.697815   \n",
      "\n",
      "   label  sample_id  severity  \n",
      "0      1       8077  critical  \n",
      "1      1       5553  critical  \n",
      "2      1       9341  critical  \n",
      "3      1      10419  critical  \n",
      "4      1      12232  critical  \n",
      "\n",
      "[5 rows x 771 columns]\n"
     ]
    }
   ],
   "source": [
    "# Create column names for embeddings\n",
    "columns = [f'emb_{i+1}' for i in range(n)]\n",
    "\n",
    "# Create a DataFrame for embedding values\n",
    "data = pd.DataFrame(embeded_sum[\"embeded_sequence_sum\"].to_list(), columns=columns)\n",
    "\n",
    "# Add metadata columns\n",
    "data['label'] = embeded_sum['label']\n",
    "data['sample_id'] = embeded_sum['sample_id']\n",
    "data['severity'] = embeded_sum['severity']\n",
    "\n",
    "# Display the result\n",
    "print(data.head())\n"
   ]
  },
  {
   "cell_type": "code",
   "execution_count": 34,
   "metadata": {},
   "outputs": [],
   "source": [
    "dataset_path =  \"/Users/mac/Desktop/Code_Smell_Detection/dataset/data_class/cubert_embeddings/processed_embeddings/cubert_embed_line_by_line_sum.pkl\"\n",
    "pd.to_pickle(data, dataset_path)"
   ]
  },
  {
   "cell_type": "code",
   "execution_count": 35,
   "metadata": {},
   "outputs": [
    {
     "name": "stdout",
     "output_type": "stream",
     "text": [
      "0    [[0.5314722657203674, -0.10198862850666046, -0...\n",
      "1    [[0.41873160004615784, -0.7787743806838989, -0...\n",
      "2    [[0.006258795969188213, -0.2557583153247833, -...\n",
      "3    [[0.5468392968177795, -0.35642677545547485, -0...\n",
      "4    [[0.5314722657203674, -0.10198862850666046, -0...\n",
      "Name: embeded_sequence_avg, dtype: object\n",
      "embeded_sequence_avg\n",
      "<class 'list'>    3694\n",
      "Name: count, dtype: int64\n"
     ]
    }
   ],
   "source": [
    "print(embeded_avg[\"embeded_sequence_avg\"].head())\n",
    "print(embeded_avg[\"embeded_sequence_avg\"].apply(type).value_counts())"
   ]
  },
  {
   "cell_type": "code",
   "execution_count": 36,
   "metadata": {},
   "outputs": [],
   "source": [
    "embeded_avg[\"embeded_sequence_avg\"] = embeded_avg[\"embeded_sequence_avg\"].apply(\n",
    "    lambda x: \" \".join(str(i) for i in x) if isinstance(x, pd.Series) else str(x)\n",
    ")"
   ]
  },
  {
   "cell_type": "code",
   "execution_count": 37,
   "metadata": {},
   "outputs": [
    {
     "name": "stdout",
     "output_type": "stream",
     "text": [
      "Embedding length: 16037\n"
     ]
    }
   ],
   "source": [
    "n = len(embeded_avg[\"embeded_sequence_avg\"][0])\n",
    "print(f\"Embedding length: {n}\")"
   ]
  },
  {
   "cell_type": "code",
   "execution_count": 38,
   "metadata": {},
   "outputs": [],
   "source": [
    "embeded_avg[\"embeded_sequence_avg\"] = embeded_avg[\"embeded_sequence_avg\"].apply(parse_flat_embedding)"
   ]
  },
  {
   "cell_type": "code",
   "execution_count": 39,
   "metadata": {},
   "outputs": [
    {
     "name": "stdout",
     "output_type": "stream",
     "text": [
      "Most common sequence length: 768\n",
      "Count of rows with this length: 3336\n"
     ]
    }
   ],
   "source": [
    "embed_lengths = embeded_avg[\"embeded_sequence_avg\"].apply(len)\n",
    "length_counts = embed_lengths.value_counts()\n",
    "most_common_length = length_counts.idxmax()\n",
    "\n",
    "n = most_common_length\n",
    "print(f\"Most common sequence length: {most_common_length}\")\n",
    "print(f\"Count of rows with this length: {length_counts[most_common_length]}\")"
   ]
  },
  {
   "cell_type": "code",
   "execution_count": 40,
   "metadata": {},
   "outputs": [
    {
     "name": "stdout",
     "output_type": "stream",
     "text": [
      "0    [0.5314722657203674, -0.10198862850666046, -0....\n",
      "1    [0.41873160004615784, -0.7787743806838989, -0....\n",
      "2    [0.006258795969188213, -0.2557583153247833, -0...\n",
      "3    [0.5468392968177795, -0.35642677545547485, -0....\n",
      "4    [0.5314722657203674, -0.10198862850666046, -0....\n",
      "Name: embeded_sequence_avg, dtype: object\n"
     ]
    }
   ],
   "source": [
    "# Function to handle the trimming or padding of the sequence\n",
    "embeded_avg[\"embeded_sequence_avg\"] = embeded_avg[\"embeded_sequence_avg\"].apply(\n",
    "    lambda x: (x[:n] if len(x) > n else x + [0] * (n - len(x))) if isinstance(x, list) else [0] * n\n",
    ")\n",
    "\n",
    "print(embeded_avg[\"embeded_sequence_avg\"].head())"
   ]
  },
  {
   "cell_type": "code",
   "execution_count": 41,
   "metadata": {},
   "outputs": [
    {
     "name": "stdout",
     "output_type": "stream",
     "text": [
      "embeded_sequence_avg\n",
      "768    3694\n",
      "Name: count, dtype: int64\n"
     ]
    }
   ],
   "source": [
    "embed_lengths = embeded_avg[\"embeded_sequence_avg\"].apply(len)\n",
    "print(embed_lengths.value_counts())"
   ]
  },
  {
   "cell_type": "code",
   "execution_count": 42,
   "metadata": {},
   "outputs": [
    {
     "data": {
      "text/html": [
       "<div>\n",
       "<style scoped>\n",
       "    .dataframe tbody tr th:only-of-type {\n",
       "        vertical-align: middle;\n",
       "    }\n",
       "\n",
       "    .dataframe tbody tr th {\n",
       "        vertical-align: top;\n",
       "    }\n",
       "\n",
       "    .dataframe thead th {\n",
       "        text-align: right;\n",
       "    }\n",
       "</style>\n",
       "<table border=\"1\" class=\"dataframe\">\n",
       "  <thead>\n",
       "    <tr style=\"text-align: right;\">\n",
       "      <th></th>\n",
       "      <th>emb_1</th>\n",
       "      <th>emb_2</th>\n",
       "      <th>emb_3</th>\n",
       "      <th>emb_4</th>\n",
       "      <th>emb_5</th>\n",
       "      <th>emb_6</th>\n",
       "      <th>emb_7</th>\n",
       "      <th>emb_8</th>\n",
       "      <th>emb_9</th>\n",
       "      <th>emb_10</th>\n",
       "      <th>...</th>\n",
       "      <th>emb_762</th>\n",
       "      <th>emb_763</th>\n",
       "      <th>emb_764</th>\n",
       "      <th>emb_765</th>\n",
       "      <th>emb_766</th>\n",
       "      <th>emb_767</th>\n",
       "      <th>emb_768</th>\n",
       "      <th>label</th>\n",
       "      <th>sample_id</th>\n",
       "      <th>severity</th>\n",
       "    </tr>\n",
       "  </thead>\n",
       "  <tbody>\n",
       "    <tr>\n",
       "      <th>0</th>\n",
       "      <td>0.531472</td>\n",
       "      <td>-0.101989</td>\n",
       "      <td>-0.314334</td>\n",
       "      <td>0.647844</td>\n",
       "      <td>-0.035478</td>\n",
       "      <td>-0.714266</td>\n",
       "      <td>0.872624</td>\n",
       "      <td>-0.409889</td>\n",
       "      <td>0.890056</td>\n",
       "      <td>0.453202</td>\n",
       "      <td>...</td>\n",
       "      <td>0.209240</td>\n",
       "      <td>-0.288426</td>\n",
       "      <td>-0.539697</td>\n",
       "      <td>0.276517</td>\n",
       "      <td>0.440467</td>\n",
       "      <td>1.152947</td>\n",
       "      <td>-0.153769</td>\n",
       "      <td>1</td>\n",
       "      <td>8077</td>\n",
       "      <td>critical</td>\n",
       "    </tr>\n",
       "    <tr>\n",
       "      <th>1</th>\n",
       "      <td>0.418732</td>\n",
       "      <td>-0.778774</td>\n",
       "      <td>-0.598116</td>\n",
       "      <td>0.924988</td>\n",
       "      <td>-0.092339</td>\n",
       "      <td>-0.632556</td>\n",
       "      <td>0.891250</td>\n",
       "      <td>-0.204653</td>\n",
       "      <td>1.435295</td>\n",
       "      <td>0.099128</td>\n",
       "      <td>...</td>\n",
       "      <td>-0.480547</td>\n",
       "      <td>-0.364436</td>\n",
       "      <td>-1.308979</td>\n",
       "      <td>1.307274</td>\n",
       "      <td>-0.088777</td>\n",
       "      <td>1.309955</td>\n",
       "      <td>-0.166052</td>\n",
       "      <td>1</td>\n",
       "      <td>5553</td>\n",
       "      <td>critical</td>\n",
       "    </tr>\n",
       "    <tr>\n",
       "      <th>2</th>\n",
       "      <td>0.006259</td>\n",
       "      <td>-0.255758</td>\n",
       "      <td>-0.488272</td>\n",
       "      <td>0.934097</td>\n",
       "      <td>-0.192474</td>\n",
       "      <td>-0.773479</td>\n",
       "      <td>0.521129</td>\n",
       "      <td>-0.148380</td>\n",
       "      <td>0.954459</td>\n",
       "      <td>0.330002</td>\n",
       "      <td>...</td>\n",
       "      <td>0.690031</td>\n",
       "      <td>-0.331558</td>\n",
       "      <td>-0.138192</td>\n",
       "      <td>-0.551222</td>\n",
       "      <td>0.302782</td>\n",
       "      <td>-0.032620</td>\n",
       "      <td>0.666646</td>\n",
       "      <td>1</td>\n",
       "      <td>9341</td>\n",
       "      <td>critical</td>\n",
       "    </tr>\n",
       "    <tr>\n",
       "      <th>3</th>\n",
       "      <td>0.546839</td>\n",
       "      <td>-0.356427</td>\n",
       "      <td>-0.596382</td>\n",
       "      <td>0.627335</td>\n",
       "      <td>-0.049085</td>\n",
       "      <td>-0.261811</td>\n",
       "      <td>0.887523</td>\n",
       "      <td>-0.361324</td>\n",
       "      <td>0.746271</td>\n",
       "      <td>0.477907</td>\n",
       "      <td>...</td>\n",
       "      <td>0.093244</td>\n",
       "      <td>0.153900</td>\n",
       "      <td>-0.112701</td>\n",
       "      <td>0.416357</td>\n",
       "      <td>0.170588</td>\n",
       "      <td>0.590961</td>\n",
       "      <td>-0.729293</td>\n",
       "      <td>1</td>\n",
       "      <td>10419</td>\n",
       "      <td>critical</td>\n",
       "    </tr>\n",
       "    <tr>\n",
       "      <th>4</th>\n",
       "      <td>0.531472</td>\n",
       "      <td>-0.101989</td>\n",
       "      <td>-0.314334</td>\n",
       "      <td>0.647844</td>\n",
       "      <td>-0.035478</td>\n",
       "      <td>-0.714266</td>\n",
       "      <td>0.872624</td>\n",
       "      <td>-0.409889</td>\n",
       "      <td>0.890056</td>\n",
       "      <td>0.453202</td>\n",
       "      <td>...</td>\n",
       "      <td>0.209240</td>\n",
       "      <td>-0.288426</td>\n",
       "      <td>-0.539697</td>\n",
       "      <td>0.276517</td>\n",
       "      <td>0.440467</td>\n",
       "      <td>1.152947</td>\n",
       "      <td>-0.153769</td>\n",
       "      <td>1</td>\n",
       "      <td>12232</td>\n",
       "      <td>critical</td>\n",
       "    </tr>\n",
       "  </tbody>\n",
       "</table>\n",
       "<p>5 rows × 771 columns</p>\n",
       "</div>"
      ],
      "text/plain": [
       "      emb_1     emb_2     emb_3     emb_4     emb_5     emb_6     emb_7  \\\n",
       "0  0.531472 -0.101989 -0.314334  0.647844 -0.035478 -0.714266  0.872624   \n",
       "1  0.418732 -0.778774 -0.598116  0.924988 -0.092339 -0.632556  0.891250   \n",
       "2  0.006259 -0.255758 -0.488272  0.934097 -0.192474 -0.773479  0.521129   \n",
       "3  0.546839 -0.356427 -0.596382  0.627335 -0.049085 -0.261811  0.887523   \n",
       "4  0.531472 -0.101989 -0.314334  0.647844 -0.035478 -0.714266  0.872624   \n",
       "\n",
       "      emb_8     emb_9    emb_10  ...   emb_762   emb_763   emb_764   emb_765  \\\n",
       "0 -0.409889  0.890056  0.453202  ...  0.209240 -0.288426 -0.539697  0.276517   \n",
       "1 -0.204653  1.435295  0.099128  ... -0.480547 -0.364436 -1.308979  1.307274   \n",
       "2 -0.148380  0.954459  0.330002  ...  0.690031 -0.331558 -0.138192 -0.551222   \n",
       "3 -0.361324  0.746271  0.477907  ...  0.093244  0.153900 -0.112701  0.416357   \n",
       "4 -0.409889  0.890056  0.453202  ...  0.209240 -0.288426 -0.539697  0.276517   \n",
       "\n",
       "    emb_766   emb_767   emb_768  label  sample_id  severity  \n",
       "0  0.440467  1.152947 -0.153769      1       8077  critical  \n",
       "1 -0.088777  1.309955 -0.166052      1       5553  critical  \n",
       "2  0.302782 -0.032620  0.666646      1       9341  critical  \n",
       "3  0.170588  0.590961 -0.729293      1      10419  critical  \n",
       "4  0.440467  1.152947 -0.153769      1      12232  critical  \n",
       "\n",
       "[5 rows x 771 columns]"
      ]
     },
     "execution_count": 42,
     "metadata": {},
     "output_type": "execute_result"
    }
   ],
   "source": [
    "columns = [f'emb_{i+1}' for i in range(n)]\n",
    "data = pd.DataFrame(embeded_avg[\"embeded_sequence_avg\"].to_list(), columns=columns)\n",
    "data['label'] = embeded_avg['label']\n",
    "data['sample_id'] = embeded_avg['sample_id']\n",
    "data['severity'] = embeded_avg['severity']\n",
    "data.head()"
   ]
  },
  {
   "cell_type": "code",
   "execution_count": 43,
   "metadata": {},
   "outputs": [],
   "source": [
    "dataset_path = '/Users/mac/Desktop/Code_Smell_Detection/dataset/data_class/cubert_embeddings/processed_embeddings/cubert_embed_line_by_line_avg.pkl'\n",
    "pd.to_pickle(data, dataset_path)"
   ]
  }
 ],
 "metadata": {
  "kernelspec": {
   "display_name": "Python 3",
   "language": "python",
   "name": "python3"
  },
  "language_info": {
   "codemirror_mode": {
    "name": "ipython",
    "version": 3
   },
   "file_extension": ".py",
   "mimetype": "text/x-python",
   "name": "python",
   "nbconvert_exporter": "python",
   "pygments_lexer": "ipython3",
   "version": "3.13.0"
  }
 },
 "nbformat": 4,
 "nbformat_minor": 2
}
