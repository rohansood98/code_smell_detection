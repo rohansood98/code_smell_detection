{
 "cells": [
  {
   "cell_type": "code",
   "execution_count": 24,
   "metadata": {},
   "outputs": [],
   "source": [
    "import pandas as pd\n",
    "import pickle"
   ]
  },
  {
   "cell_type": "code",
   "execution_count": 25,
   "metadata": {},
   "outputs": [
    {
     "name": "stderr",
     "output_type": "stream",
     "text": [
      "/var/folders/d8/cr798cb57kzd5kz_r8g8jm380000gn/T/ipykernel_29567/1855975146.py:3: DeprecationWarning: numpy.core.numeric is deprecated and has been renamed to numpy._core.numeric. The numpy._core namespace contains private NumPy internals and its use is discouraged, as NumPy internals can change without warning in any release. In practice, most real-world usage of numpy.core is to access functionality in the public NumPy API. If that is the case, use the public NumPy API. If not, you are using NumPy internals. If you would still like to access an internal attribute, use numpy._core.numeric._frombuffer.\n",
      "  df = pickle.load(fh)\n"
     ]
    }
   ],
   "source": [
    "file_path = '/Users/mac/Desktop/Code_Smell_Detection/dataset/data_class/codeT5_embeddings/df_dc_embeded_by_line_small.pkl'\n",
    "with open(file_path, \"rb\") as fh:\n",
    "  df = pickle.load(fh)"
   ]
  },
  {
   "cell_type": "code",
   "execution_count": 26,
   "metadata": {},
   "outputs": [
    {
     "data": {
      "text/html": [
       "<div>\n",
       "<style scoped>\n",
       "    .dataframe tbody tr th:only-of-type {\n",
       "        vertical-align: middle;\n",
       "    }\n",
       "\n",
       "    .dataframe tbody tr th {\n",
       "        vertical-align: top;\n",
       "    }\n",
       "\n",
       "    .dataframe thead th {\n",
       "        text-align: right;\n",
       "    }\n",
       "</style>\n",
       "<table border=\"1\" class=\"dataframe\">\n",
       "  <thead>\n",
       "    <tr style=\"text-align: right;\">\n",
       "      <th></th>\n",
       "      <th>sample_id</th>\n",
       "      <th>severity</th>\n",
       "      <th>method</th>\n",
       "      <th>label</th>\n",
       "      <th>embeded_sequence_sum</th>\n",
       "      <th>embeded_sequence_avg</th>\n",
       "    </tr>\n",
       "  </thead>\n",
       "  <tbody>\n",
       "    <tr>\n",
       "      <th>0</th>\n",
       "      <td>8077</td>\n",
       "      <td>critical</td>\n",
       "      <td>public class DruidPooledCallableStatement exte...</td>\n",
       "      <td>1</td>\n",
       "      <td>0      189.393524\n",
       "1     -147.649734\n",
       "2     -362...</td>\n",
       "      <td>0      0.203212\n",
       "1     -0.158422\n",
       "2     -0.38943...</td>\n",
       "    </tr>\n",
       "    <tr>\n",
       "      <th>1</th>\n",
       "      <td>5553</td>\n",
       "      <td>critical</td>\n",
       "      <td>public interface IAopReferenceModel {\\n\\t\\n\\tv...</td>\n",
       "      <td>1</td>\n",
       "      <td>0      3.520596\n",
       "1      0.237391\n",
       "2     -6.19085...</td>\n",
       "      <td>0      0.153069\n",
       "1      0.010321\n",
       "2     -0.26916...</td>\n",
       "    </tr>\n",
       "    <tr>\n",
       "      <th>2</th>\n",
       "      <td>9341</td>\n",
       "      <td>critical</td>\n",
       "      <td>@XmlAccessorType(XmlAccessType.FIELD)\\n@XmlTyp...</td>\n",
       "      <td>1</td>\n",
       "      <td>0       3.876191\n",
       "1       4.709641\n",
       "2     -14.20...</td>\n",
       "      <td>0      0.104762\n",
       "1      0.127288\n",
       "2     -0.38399...</td>\n",
       "    </tr>\n",
       "    <tr>\n",
       "      <th>3</th>\n",
       "      <td>10419</td>\n",
       "      <td>critical</td>\n",
       "      <td>public class Ipam {\\n  private String driver;\\...</td>\n",
       "      <td>1</td>\n",
       "      <td>0      20.053326\n",
       "1      -9.636232\n",
       "2     -25.69...</td>\n",
       "      <td>0      0.294902\n",
       "1     -0.141709\n",
       "2     -0.37787...</td>\n",
       "    </tr>\n",
       "    <tr>\n",
       "      <th>4</th>\n",
       "      <td>12232</td>\n",
       "      <td>critical</td>\n",
       "      <td>public class DruidPooledCallableStatement exte...</td>\n",
       "      <td>1</td>\n",
       "      <td>0      188.645142\n",
       "1     -144.839706\n",
       "2     -355...</td>\n",
       "      <td>0      0.202409\n",
       "1     -0.155407\n",
       "2     -0.38151...</td>\n",
       "    </tr>\n",
       "  </tbody>\n",
       "</table>\n",
       "</div>"
      ],
      "text/plain": [
       "   sample_id  severity                                             method  \\\n",
       "0       8077  critical  public class DruidPooledCallableStatement exte...   \n",
       "1       5553  critical  public interface IAopReferenceModel {\\n\\t\\n\\tv...   \n",
       "2       9341  critical  @XmlAccessorType(XmlAccessType.FIELD)\\n@XmlTyp...   \n",
       "3      10419  critical  public class Ipam {\\n  private String driver;\\...   \n",
       "4      12232  critical  public class DruidPooledCallableStatement exte...   \n",
       "\n",
       "   label                               embeded_sequence_sum  \\\n",
       "0      1  0      189.393524\n",
       "1     -147.649734\n",
       "2     -362...   \n",
       "1      1  0      3.520596\n",
       "1      0.237391\n",
       "2     -6.19085...   \n",
       "2      1  0       3.876191\n",
       "1       4.709641\n",
       "2     -14.20...   \n",
       "3      1  0      20.053326\n",
       "1      -9.636232\n",
       "2     -25.69...   \n",
       "4      1  0      188.645142\n",
       "1     -144.839706\n",
       "2     -355...   \n",
       "\n",
       "                                embeded_sequence_avg  \n",
       "0  0      0.203212\n",
       "1     -0.158422\n",
       "2     -0.38943...  \n",
       "1  0      0.153069\n",
       "1      0.010321\n",
       "2     -0.26916...  \n",
       "2  0      0.104762\n",
       "1      0.127288\n",
       "2     -0.38399...  \n",
       "3  0      0.294902\n",
       "1     -0.141709\n",
       "2     -0.37787...  \n",
       "4  0      0.202409\n",
       "1     -0.155407\n",
       "2     -0.38151...  "
      ]
     },
     "execution_count": 26,
     "metadata": {},
     "output_type": "execute_result"
    }
   ],
   "source": [
    "df.head()"
   ]
  },
  {
   "cell_type": "code",
   "execution_count": 27,
   "metadata": {},
   "outputs": [
    {
     "data": {
      "text/html": [
       "<div>\n",
       "<style scoped>\n",
       "    .dataframe tbody tr th:only-of-type {\n",
       "        vertical-align: middle;\n",
       "    }\n",
       "\n",
       "    .dataframe tbody tr th {\n",
       "        vertical-align: top;\n",
       "    }\n",
       "\n",
       "    .dataframe thead th {\n",
       "        text-align: right;\n",
       "    }\n",
       "</style>\n",
       "<table border=\"1\" class=\"dataframe\">\n",
       "  <thead>\n",
       "    <tr style=\"text-align: right;\">\n",
       "      <th></th>\n",
       "      <th>sample_id</th>\n",
       "      <th>severity</th>\n",
       "      <th>label</th>\n",
       "      <th>embeded_sequence_sum</th>\n",
       "    </tr>\n",
       "  </thead>\n",
       "  <tbody>\n",
       "    <tr>\n",
       "      <th>0</th>\n",
       "      <td>8077</td>\n",
       "      <td>critical</td>\n",
       "      <td>1</td>\n",
       "      <td>0      189.393524\n",
       "1     -147.649734\n",
       "2     -362...</td>\n",
       "    </tr>\n",
       "    <tr>\n",
       "      <th>1</th>\n",
       "      <td>5553</td>\n",
       "      <td>critical</td>\n",
       "      <td>1</td>\n",
       "      <td>0      3.520596\n",
       "1      0.237391\n",
       "2     -6.19085...</td>\n",
       "    </tr>\n",
       "    <tr>\n",
       "      <th>2</th>\n",
       "      <td>9341</td>\n",
       "      <td>critical</td>\n",
       "      <td>1</td>\n",
       "      <td>0       3.876191\n",
       "1       4.709641\n",
       "2     -14.20...</td>\n",
       "    </tr>\n",
       "    <tr>\n",
       "      <th>3</th>\n",
       "      <td>10419</td>\n",
       "      <td>critical</td>\n",
       "      <td>1</td>\n",
       "      <td>0      20.053326\n",
       "1      -9.636232\n",
       "2     -25.69...</td>\n",
       "    </tr>\n",
       "    <tr>\n",
       "      <th>4</th>\n",
       "      <td>12232</td>\n",
       "      <td>critical</td>\n",
       "      <td>1</td>\n",
       "      <td>0      188.645142\n",
       "1     -144.839706\n",
       "2     -355...</td>\n",
       "    </tr>\n",
       "  </tbody>\n",
       "</table>\n",
       "</div>"
      ],
      "text/plain": [
       "   sample_id  severity  label  \\\n",
       "0       8077  critical      1   \n",
       "1       5553  critical      1   \n",
       "2       9341  critical      1   \n",
       "3      10419  critical      1   \n",
       "4      12232  critical      1   \n",
       "\n",
       "                                embeded_sequence_sum  \n",
       "0  0      189.393524\n",
       "1     -147.649734\n",
       "2     -362...  \n",
       "1  0      3.520596\n",
       "1      0.237391\n",
       "2     -6.19085...  \n",
       "2  0       3.876191\n",
       "1       4.709641\n",
       "2     -14.20...  \n",
       "3  0      20.053326\n",
       "1      -9.636232\n",
       "2     -25.69...  \n",
       "4  0      188.645142\n",
       "1     -144.839706\n",
       "2     -355...  "
      ]
     },
     "execution_count": 27,
     "metadata": {},
     "output_type": "execute_result"
    }
   ],
   "source": [
    "embeded_sum = df.loc[:, ['sample_id', 'severity', 'label', 'embeded_sequence_sum']]\n",
    "embeded_avg = df.loc[:, ['sample_id', 'severity', 'label', 'embeded_sequence_avg']]\n",
    "embeded_sum.head()"
   ]
  },
  {
   "cell_type": "code",
   "execution_count": 28,
   "metadata": {},
   "outputs": [
    {
     "name": "stdout",
     "output_type": "stream",
     "text": [
      "0    0      189.393524\n",
      "1     -147.649734\n",
      "2     -362...\n",
      "1    0      3.520596\n",
      "1      0.237391\n",
      "2     -6.19085...\n",
      "2    0       3.876191\n",
      "1       4.709641\n",
      "2     -14.20...\n",
      "3    0      20.053326\n",
      "1      -9.636232\n",
      "2     -25.69...\n",
      "4    0      188.645142\n",
      "1     -144.839706\n",
      "2     -355...\n",
      "Name: embeded_sequence_sum, dtype: object\n",
      "embeded_sequence_sum\n",
      "<class 'pandas.core.series.Series'>    3694\n",
      "Name: count, dtype: int64\n"
     ]
    }
   ],
   "source": [
    "print(embeded_sum[\"embeded_sequence_sum\"].head())\n",
    "print(embeded_sum[\"embeded_sequence_sum\"].apply(type).value_counts())"
   ]
  },
  {
   "cell_type": "code",
   "execution_count": 29,
   "metadata": {},
   "outputs": [],
   "source": [
    "embeded_sum[\"embeded_sequence_sum\"] = embeded_sum[\"embeded_sequence_sum\"].apply(\n",
    "    lambda x: \" \".join(str(i) for i in x) if isinstance(x, pd.Series) else str(x)\n",
    ")"
   ]
  },
  {
   "cell_type": "code",
   "execution_count": 30,
   "metadata": {},
   "outputs": [],
   "source": [
    "import re\n",
    "\n",
    "def parse_flat_embedding(embedding_str):\n",
    "    # Ensure input is a string\n",
    "    if not isinstance(embedding_str, str):\n",
    "        return []\n",
    "    try:\n",
    "        # Extract numerical values from the string\n",
    "        values = re.findall(r\"[-+]?\\d*\\.\\d+|\\d+\", embedding_str)\n",
    "        return [float(v) for v in values]\n",
    "    except Exception as e:\n",
    "        print(f\"Error parsing: {embedding_str} -> {e}\")\n",
    "        return []\n"
   ]
  },
  {
   "cell_type": "code",
   "execution_count": 31,
   "metadata": {},
   "outputs": [],
   "source": [
    "embeded_sum[\"embeded_sequence_sum\"] = embeded_sum[\"embeded_sequence_sum\"].apply(parse_flat_embedding)"
   ]
  },
  {
   "cell_type": "code",
   "execution_count": 32,
   "metadata": {},
   "outputs": [
    {
     "name": "stdout",
     "output_type": "stream",
     "text": [
      "Embedding length: 512\n"
     ]
    }
   ],
   "source": [
    "n = len(embeded_sum[\"embeded_sequence_sum\"][0])\n",
    "print(f\"Embedding length: {n}\")"
   ]
  },
  {
   "cell_type": "code",
   "execution_count": 33,
   "metadata": {},
   "outputs": [
    {
     "name": "stdout",
     "output_type": "stream",
     "text": [
      "Most common sequence length: 512\n",
      "Count of rows with this length: 3670\n"
     ]
    }
   ],
   "source": [
    "embed_lengths = embeded_sum[\"embeded_sequence_sum\"].apply(len)\n",
    "length_counts = embed_lengths.value_counts()\n",
    "most_common_length = length_counts.idxmax()\n",
    "\n",
    "n = most_common_length\n",
    "print(f\"Most common sequence length: {most_common_length}\")\n",
    "print(f\"Count of rows with this length: {length_counts[most_common_length]}\")\n"
   ]
  },
  {
   "cell_type": "code",
   "execution_count": 34,
   "metadata": {},
   "outputs": [
    {
     "name": "stdout",
     "output_type": "stream",
     "text": [
      "0    [189.39352416992188, -147.6497344970703, -362....\n",
      "1    [3.5205957889556885, 0.23739111423492432, -6.1...\n",
      "2    [3.8761911392211914, 4.7096405029296875, -14.2...\n",
      "3    [20.053325653076172, -9.636232376098633, -25.6...\n",
      "4    [188.6451416015625, -144.83970642089844, -355....\n",
      "Name: embeded_sequence_sum, dtype: object\n"
     ]
    }
   ],
   "source": [
    "# Function to handle the trimming or padding of the sequence\n",
    "embeded_sum[\"embeded_sequence_sum\"] = embeded_sum[\"embeded_sequence_sum\"].apply(\n",
    "    lambda x: (x[:n] if len(x) > n else x + [0] * (n - len(x))) if isinstance(x, list) else [0] * 512\n",
    ")\n",
    "\n",
    "print(embeded_sum[\"embeded_sequence_sum\"].head())\n"
   ]
  },
  {
   "cell_type": "code",
   "execution_count": 35,
   "metadata": {},
   "outputs": [
    {
     "name": "stdout",
     "output_type": "stream",
     "text": [
      "embeded_sequence_sum\n",
      "512    3694\n",
      "Name: count, dtype: int64\n"
     ]
    }
   ],
   "source": [
    "embed_lengths = embeded_sum[\"embeded_sequence_sum\"].apply(len)\n",
    "print(embed_lengths.value_counts())"
   ]
  },
  {
   "cell_type": "code",
   "execution_count": 36,
   "metadata": {},
   "outputs": [
    {
     "name": "stdout",
     "output_type": "stream",
     "text": [
      "        emb_1       emb_2       emb_3       emb_4      emb_5      emb_6  \\\n",
      "0  189.393524 -147.649734 -362.955963  139.653641 -85.471199 -66.070679   \n",
      "1    3.520596    0.237391   -6.190857    3.774145   1.713395  -4.886091   \n",
      "2    3.876191    4.709641  -14.207751    1.015683  -2.791239  -4.798626   \n",
      "3   20.053326   -9.636232  -25.695652    0.598159   1.013416  -7.998230   \n",
      "4  188.645142 -144.839706 -355.567810  147.655869 -95.026077 -88.978615   \n",
      "\n",
      "        emb_7       emb_8       emb_9      emb_10  ...     emb_506    emb_507  \\\n",
      "0 -474.727875  120.052200  622.299561  116.579880  ... -333.419464 -25.977442   \n",
      "1  -11.591867    6.478320   14.700498    2.681563  ...   -7.203462   0.416520   \n",
      "2  -17.614422    5.810671   18.924332    1.923258  ...  -14.868880  -5.807928   \n",
      "3  -30.077368   17.036211   28.593739   18.520885  ...  -17.841141   1.948726   \n",
      "4 -476.859650  130.700760  622.824158  118.304016  ... -338.199280  -6.570933   \n",
      "\n",
      "     emb_508     emb_509    emb_510    emb_511     emb_512  label  sample_id  \\\n",
      "0 -56.553913 -348.846710  -6.254611  16.088152  160.038864      1       8077   \n",
      "1  -1.725735   -5.898596  -5.929474   2.987580   -6.565398      1       5553   \n",
      "2  -1.909955  -13.305037  -2.716194   3.255790    0.641796      1       9341   \n",
      "3  -4.335785  -17.123833   1.435278   5.188768    3.573848      1      10419   \n",
      "4 -49.001118 -364.383820 -19.460947  19.270901  142.164978      1      12232   \n",
      "\n",
      "   severity  \n",
      "0  critical  \n",
      "1  critical  \n",
      "2  critical  \n",
      "3  critical  \n",
      "4  critical  \n",
      "\n",
      "[5 rows x 515 columns]\n"
     ]
    }
   ],
   "source": [
    "# Create column names for embeddings\n",
    "columns = [f'emb_{i+1}' for i in range(n)]\n",
    "\n",
    "# Create a DataFrame for embedding values\n",
    "data = pd.DataFrame(embeded_sum[\"embeded_sequence_sum\"].to_list(), columns=columns)\n",
    "\n",
    "# Add metadata columns\n",
    "data['label'] = embeded_sum['label']\n",
    "data['sample_id'] = embeded_sum['sample_id']\n",
    "data['severity'] = embeded_sum['severity']\n",
    "\n",
    "# Display the result\n",
    "print(data.head())\n"
   ]
  },
  {
   "cell_type": "code",
   "execution_count": 37,
   "metadata": {},
   "outputs": [],
   "source": [
    "dataset_path = '/Users/mac/Desktop/Code_Smell_Detection/dataset/data_class/codeT5_embeddings/processed_embeddings/codeT5_small_embed_line_by_line_sum.pkl'\n",
    "pd.to_pickle(data, dataset_path)"
   ]
  },
  {
   "cell_type": "code",
   "execution_count": 38,
   "metadata": {},
   "outputs": [
    {
     "name": "stdout",
     "output_type": "stream",
     "text": [
      "0    0      0.203212\n",
      "1     -0.158422\n",
      "2     -0.38943...\n",
      "1    0      0.153069\n",
      "1      0.010321\n",
      "2     -0.26916...\n",
      "2    0      0.104762\n",
      "1      0.127288\n",
      "2     -0.38399...\n",
      "3    0      0.294902\n",
      "1     -0.141709\n",
      "2     -0.37787...\n",
      "4    0      0.202409\n",
      "1     -0.155407\n",
      "2     -0.38151...\n",
      "Name: embeded_sequence_avg, dtype: object\n",
      "embeded_sequence_avg\n",
      "<class 'pandas.core.series.Series'>    3694\n",
      "Name: count, dtype: int64\n"
     ]
    }
   ],
   "source": [
    "print(embeded_avg[\"embeded_sequence_avg\"].head())\n",
    "print(embeded_avg[\"embeded_sequence_avg\"].apply(type).value_counts())"
   ]
  },
  {
   "cell_type": "code",
   "execution_count": 39,
   "metadata": {},
   "outputs": [
    {
     "name": "stdout",
     "output_type": "stream",
     "text": [
      "Embedding length: 512\n"
     ]
    }
   ],
   "source": [
    "n = len(embeded_avg[\"embeded_sequence_avg\"][0])\n",
    "print(f\"Embedding length: {n}\")"
   ]
  },
  {
   "cell_type": "code",
   "execution_count": 40,
   "metadata": {},
   "outputs": [],
   "source": [
    "embeded_avg[\"embeded_sequence_avg\"] = embeded_avg[\"embeded_sequence_avg\"].apply(\n",
    "    lambda x: \" \".join(str(i) for i in x) if isinstance(x, pd.Series) else str(x)\n",
    ")"
   ]
  },
  {
   "cell_type": "code",
   "execution_count": 41,
   "metadata": {},
   "outputs": [],
   "source": [
    "embeded_avg[\"embeded_sequence_avg\"] = embeded_avg[\"embeded_sequence_avg\"].apply(parse_flat_embedding)"
   ]
  },
  {
   "cell_type": "code",
   "execution_count": 42,
   "metadata": {},
   "outputs": [
    {
     "name": "stdout",
     "output_type": "stream",
     "text": [
      "Most common sequence length: 512\n",
      "Count of rows with this length: 3018\n"
     ]
    }
   ],
   "source": [
    "embed_lengths = embeded_avg[\"embeded_sequence_avg\"].apply(len)\n",
    "length_counts = embed_lengths.value_counts()\n",
    "most_common_length = length_counts.idxmax()\n",
    "\n",
    "n = most_common_length\n",
    "print(f\"Most common sequence length: {most_common_length}\")\n",
    "print(f\"Count of rows with this length: {length_counts[most_common_length]}\")"
   ]
  },
  {
   "cell_type": "code",
   "execution_count": 43,
   "metadata": {},
   "outputs": [
    {
     "name": "stdout",
     "output_type": "stream",
     "text": [
      "0    [0.2032119333744049, -0.15842245519161224, -0....\n",
      "1    [0.1530693769454956, 0.010321352630853653, -0....\n",
      "2    [0.10476192086935043, 0.1272875815629959, -0.3...\n",
      "3    [0.29490184783935547, -0.14170929789543152, -0...\n",
      "4    [0.20240895450115204, -0.15540741384029388, -0...\n",
      "Name: embeded_sequence_avg, dtype: object\n"
     ]
    }
   ],
   "source": [
    "# Function to handle the trimming or padding of the sequence\n",
    "embeded_avg[\"embeded_sequence_avg\"] = embeded_avg[\"embeded_sequence_avg\"].apply(\n",
    "    lambda x: (x[:n] if len(x) > n else x + [0] * (n - len(x))) if isinstance(x, list) else [0] * 512\n",
    ")\n",
    "\n",
    "print(embeded_avg[\"embeded_sequence_avg\"].head())"
   ]
  },
  {
   "cell_type": "code",
   "execution_count": 44,
   "metadata": {},
   "outputs": [
    {
     "name": "stdout",
     "output_type": "stream",
     "text": [
      "embeded_sequence_avg\n",
      "512    3694\n",
      "Name: count, dtype: int64\n"
     ]
    }
   ],
   "source": [
    "embed_lengths = embeded_avg[\"embeded_sequence_avg\"].apply(len)\n",
    "print(embed_lengths.value_counts())"
   ]
  },
  {
   "cell_type": "code",
   "execution_count": 45,
   "metadata": {},
   "outputs": [
    {
     "data": {
      "text/html": [
       "<div>\n",
       "<style scoped>\n",
       "    .dataframe tbody tr th:only-of-type {\n",
       "        vertical-align: middle;\n",
       "    }\n",
       "\n",
       "    .dataframe tbody tr th {\n",
       "        vertical-align: top;\n",
       "    }\n",
       "\n",
       "    .dataframe thead th {\n",
       "        text-align: right;\n",
       "    }\n",
       "</style>\n",
       "<table border=\"1\" class=\"dataframe\">\n",
       "  <thead>\n",
       "    <tr style=\"text-align: right;\">\n",
       "      <th></th>\n",
       "      <th>emb_1</th>\n",
       "      <th>emb_2</th>\n",
       "      <th>emb_3</th>\n",
       "      <th>emb_4</th>\n",
       "      <th>emb_5</th>\n",
       "      <th>emb_6</th>\n",
       "      <th>emb_7</th>\n",
       "      <th>emb_8</th>\n",
       "      <th>emb_9</th>\n",
       "      <th>emb_10</th>\n",
       "      <th>...</th>\n",
       "      <th>emb_506</th>\n",
       "      <th>emb_507</th>\n",
       "      <th>emb_508</th>\n",
       "      <th>emb_509</th>\n",
       "      <th>emb_510</th>\n",
       "      <th>emb_511</th>\n",
       "      <th>emb_512</th>\n",
       "      <th>label</th>\n",
       "      <th>sample_id</th>\n",
       "      <th>severity</th>\n",
       "    </tr>\n",
       "  </thead>\n",
       "  <tbody>\n",
       "    <tr>\n",
       "      <th>0</th>\n",
       "      <td>0.203212</td>\n",
       "      <td>-0.158422</td>\n",
       "      <td>-0.389438</td>\n",
       "      <td>0.149843</td>\n",
       "      <td>-0.091707</td>\n",
       "      <td>-0.070891</td>\n",
       "      <td>-0.509365</td>\n",
       "      <td>0.128811</td>\n",
       "      <td>0.667703</td>\n",
       "      <td>0.125086</td>\n",
       "      <td>...</td>\n",
       "      <td>-0.357746</td>\n",
       "      <td>-0.027873</td>\n",
       "      <td>-0.060680</td>\n",
       "      <td>-0.374299</td>\n",
       "      <td>-0.006711</td>\n",
       "      <td>0.017262</td>\n",
       "      <td>0.171716</td>\n",
       "      <td>1</td>\n",
       "      <td>8077</td>\n",
       "      <td>critical</td>\n",
       "    </tr>\n",
       "    <tr>\n",
       "      <th>1</th>\n",
       "      <td>0.153069</td>\n",
       "      <td>0.010321</td>\n",
       "      <td>-0.269168</td>\n",
       "      <td>0.164093</td>\n",
       "      <td>0.074495</td>\n",
       "      <td>-0.212439</td>\n",
       "      <td>-0.503994</td>\n",
       "      <td>0.281666</td>\n",
       "      <td>0.639152</td>\n",
       "      <td>0.116590</td>\n",
       "      <td>...</td>\n",
       "      <td>0.197503</td>\n",
       "      <td>-0.313194</td>\n",
       "      <td>0.018110</td>\n",
       "      <td>-0.075032</td>\n",
       "      <td>-0.256461</td>\n",
       "      <td>-0.257803</td>\n",
       "      <td>0.129895</td>\n",
       "      <td>1</td>\n",
       "      <td>5553</td>\n",
       "      <td>critical</td>\n",
       "    </tr>\n",
       "    <tr>\n",
       "      <th>2</th>\n",
       "      <td>0.104762</td>\n",
       "      <td>0.127288</td>\n",
       "      <td>-0.383993</td>\n",
       "      <td>0.027451</td>\n",
       "      <td>-0.075439</td>\n",
       "      <td>-0.129693</td>\n",
       "      <td>-0.476065</td>\n",
       "      <td>0.157045</td>\n",
       "      <td>0.511468</td>\n",
       "      <td>0.051980</td>\n",
       "      <td>...</td>\n",
       "      <td>0.075900</td>\n",
       "      <td>-0.401862</td>\n",
       "      <td>-0.156971</td>\n",
       "      <td>-0.051620</td>\n",
       "      <td>-0.359596</td>\n",
       "      <td>-0.073411</td>\n",
       "      <td>0.087994</td>\n",
       "      <td>1</td>\n",
       "      <td>9341</td>\n",
       "      <td>critical</td>\n",
       "    </tr>\n",
       "    <tr>\n",
       "      <th>3</th>\n",
       "      <td>0.294902</td>\n",
       "      <td>-0.141709</td>\n",
       "      <td>-0.377877</td>\n",
       "      <td>0.008796</td>\n",
       "      <td>0.014903</td>\n",
       "      <td>-0.117621</td>\n",
       "      <td>-0.442314</td>\n",
       "      <td>0.250533</td>\n",
       "      <td>0.420496</td>\n",
       "      <td>0.272366</td>\n",
       "      <td>...</td>\n",
       "      <td>0.165051</td>\n",
       "      <td>-0.262370</td>\n",
       "      <td>0.028658</td>\n",
       "      <td>-0.063762</td>\n",
       "      <td>-0.251821</td>\n",
       "      <td>0.021107</td>\n",
       "      <td>0.076305</td>\n",
       "      <td>1</td>\n",
       "      <td>10419</td>\n",
       "      <td>critical</td>\n",
       "    </tr>\n",
       "    <tr>\n",
       "      <th>4</th>\n",
       "      <td>0.202409</td>\n",
       "      <td>-0.155407</td>\n",
       "      <td>-0.381511</td>\n",
       "      <td>0.158429</td>\n",
       "      <td>-0.101959</td>\n",
       "      <td>-0.095471</td>\n",
       "      <td>-0.511652</td>\n",
       "      <td>0.140237</td>\n",
       "      <td>0.668266</td>\n",
       "      <td>0.126936</td>\n",
       "      <td>...</td>\n",
       "      <td>-0.362875</td>\n",
       "      <td>-0.007050</td>\n",
       "      <td>-0.052576</td>\n",
       "      <td>-0.390970</td>\n",
       "      <td>-0.020881</td>\n",
       "      <td>0.020677</td>\n",
       "      <td>0.152538</td>\n",
       "      <td>1</td>\n",
       "      <td>12232</td>\n",
       "      <td>critical</td>\n",
       "    </tr>\n",
       "  </tbody>\n",
       "</table>\n",
       "<p>5 rows × 515 columns</p>\n",
       "</div>"
      ],
      "text/plain": [
       "      emb_1     emb_2     emb_3     emb_4     emb_5     emb_6     emb_7  \\\n",
       "0  0.203212 -0.158422 -0.389438  0.149843 -0.091707 -0.070891 -0.509365   \n",
       "1  0.153069  0.010321 -0.269168  0.164093  0.074495 -0.212439 -0.503994   \n",
       "2  0.104762  0.127288 -0.383993  0.027451 -0.075439 -0.129693 -0.476065   \n",
       "3  0.294902 -0.141709 -0.377877  0.008796  0.014903 -0.117621 -0.442314   \n",
       "4  0.202409 -0.155407 -0.381511  0.158429 -0.101959 -0.095471 -0.511652   \n",
       "\n",
       "      emb_8     emb_9    emb_10  ...   emb_506   emb_507   emb_508   emb_509  \\\n",
       "0  0.128811  0.667703  0.125086  ... -0.357746 -0.027873 -0.060680 -0.374299   \n",
       "1  0.281666  0.639152  0.116590  ...  0.197503 -0.313194  0.018110 -0.075032   \n",
       "2  0.157045  0.511468  0.051980  ...  0.075900 -0.401862 -0.156971 -0.051620   \n",
       "3  0.250533  0.420496  0.272366  ...  0.165051 -0.262370  0.028658 -0.063762   \n",
       "4  0.140237  0.668266  0.126936  ... -0.362875 -0.007050 -0.052576 -0.390970   \n",
       "\n",
       "    emb_510   emb_511   emb_512  label  sample_id  severity  \n",
       "0 -0.006711  0.017262  0.171716      1       8077  critical  \n",
       "1 -0.256461 -0.257803  0.129895      1       5553  critical  \n",
       "2 -0.359596 -0.073411  0.087994      1       9341  critical  \n",
       "3 -0.251821  0.021107  0.076305      1      10419  critical  \n",
       "4 -0.020881  0.020677  0.152538      1      12232  critical  \n",
       "\n",
       "[5 rows x 515 columns]"
      ]
     },
     "execution_count": 45,
     "metadata": {},
     "output_type": "execute_result"
    }
   ],
   "source": [
    "columns = [f'emb_{i+1}' for i in range(n)]\n",
    "data = pd.DataFrame(embeded_avg[\"embeded_sequence_avg\"].to_list(), columns=columns)\n",
    "data['label'] = embeded_avg['label']\n",
    "data['sample_id'] = embeded_avg['sample_id']\n",
    "data['severity'] = embeded_avg['severity']\n",
    "data.head()"
   ]
  },
  {
   "cell_type": "code",
   "execution_count": 46,
   "metadata": {},
   "outputs": [],
   "source": [
    "dataset_path = '/Users/mac/Desktop/Code_Smell_Detection/dataset/data_class/codeT5_embeddings/processed_embeddings/codeT5_small_embed_line_by_line_avg.pkl'\n",
    "pd.to_pickle(data, dataset_path)"
   ]
  }
 ],
 "metadata": {
  "kernelspec": {
   "display_name": "Python 3",
   "language": "python",
   "name": "python3"
  },
  "language_info": {
   "codemirror_mode": {
    "name": "ipython",
    "version": 3
   },
   "file_extension": ".py",
   "mimetype": "text/x-python",
   "name": "python",
   "nbconvert_exporter": "python",
   "pygments_lexer": "ipython3",
   "version": "3.13.0"
  }
 },
 "nbformat": 4,
 "nbformat_minor": 2
}
