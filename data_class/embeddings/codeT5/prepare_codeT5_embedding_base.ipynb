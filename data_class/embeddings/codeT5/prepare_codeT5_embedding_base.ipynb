{
 "cells": [
  {
   "cell_type": "code",
   "execution_count": 1,
   "metadata": {},
   "outputs": [],
   "source": [
    "import pandas as pd\n",
    "import pickle"
   ]
  },
  {
   "cell_type": "code",
   "execution_count": 2,
   "metadata": {},
   "outputs": [
    {
     "name": "stderr",
     "output_type": "stream",
     "text": [
      "/var/folders/d8/cr798cb57kzd5kz_r8g8jm380000gn/T/ipykernel_30036/2582950095.py:3: DeprecationWarning: numpy.core.numeric is deprecated and has been renamed to numpy._core.numeric. The numpy._core namespace contains private NumPy internals and its use is discouraged, as NumPy internals can change without warning in any release. In practice, most real-world usage of numpy.core is to access functionality in the public NumPy API. If that is the case, use the public NumPy API. If not, you are using NumPy internals. If you would still like to access an internal attribute, use numpy._core.numeric._frombuffer.\n",
      "  df = pickle.load(fh)\n"
     ]
    }
   ],
   "source": [
    "file_path = \"/Users/mac/Desktop/Code_Smell_Detection/dataset/data_class/codeT5_embeddings/df_dc_embeded_by_line_base.pkl\"\n",
    "with open(file_path, \"rb\") as fh:\n",
    "  df = pickle.load(fh)"
   ]
  },
  {
   "cell_type": "code",
   "execution_count": 3,
   "metadata": {},
   "outputs": [
    {
     "data": {
      "text/html": [
       "<div>\n",
       "<style scoped>\n",
       "    .dataframe tbody tr th:only-of-type {\n",
       "        vertical-align: middle;\n",
       "    }\n",
       "\n",
       "    .dataframe tbody tr th {\n",
       "        vertical-align: top;\n",
       "    }\n",
       "\n",
       "    .dataframe thead th {\n",
       "        text-align: right;\n",
       "    }\n",
       "</style>\n",
       "<table border=\"1\" class=\"dataframe\">\n",
       "  <thead>\n",
       "    <tr style=\"text-align: right;\">\n",
       "      <th></th>\n",
       "      <th>sample_id</th>\n",
       "      <th>severity</th>\n",
       "      <th>method</th>\n",
       "      <th>label</th>\n",
       "      <th>embeded_sequence_sum</th>\n",
       "      <th>embeded_sequence_avg</th>\n",
       "    </tr>\n",
       "  </thead>\n",
       "  <tbody>\n",
       "    <tr>\n",
       "      <th>0</th>\n",
       "      <td>8077</td>\n",
       "      <td>critical</td>\n",
       "      <td>public class DruidPooledCallableStatement exte...</td>\n",
       "      <td>1</td>\n",
       "      <td>0      -73.317101\n",
       "1      -42.687691\n",
       "2     -150...</td>\n",
       "      <td>0     -0.078666\n",
       "1     -0.045802\n",
       "2     -0.16141...</td>\n",
       "    </tr>\n",
       "    <tr>\n",
       "      <th>1</th>\n",
       "      <td>5553</td>\n",
       "      <td>critical</td>\n",
       "      <td>public interface IAopReferenceModel {\\n\\t\\n\\tv...</td>\n",
       "      <td>1</td>\n",
       "      <td>0     -0.477835\n",
       "1      0.831359\n",
       "2     -7.71129...</td>\n",
       "      <td>0     -0.020775\n",
       "1      0.036146\n",
       "2     -0.33527...</td>\n",
       "    </tr>\n",
       "    <tr>\n",
       "      <th>2</th>\n",
       "      <td>9341</td>\n",
       "      <td>critical</td>\n",
       "      <td>@XmlAccessorType(XmlAccessType.FIELD)\\n@XmlTyp...</td>\n",
       "      <td>1</td>\n",
       "      <td>0      -4.968647\n",
       "1      -1.361101\n",
       "2      -4.72...</td>\n",
       "      <td>0     -0.134288\n",
       "1     -0.036787\n",
       "2     -0.12759...</td>\n",
       "    </tr>\n",
       "    <tr>\n",
       "      <th>3</th>\n",
       "      <td>10419</td>\n",
       "      <td>critical</td>\n",
       "      <td>public class Ipam {\\n  private String driver;\\...</td>\n",
       "      <td>1</td>\n",
       "      <td>0      -2.197651\n",
       "1      -6.160445\n",
       "2      -5.59...</td>\n",
       "      <td>0     -0.032318\n",
       "1     -0.090595\n",
       "2     -0.08222...</td>\n",
       "    </tr>\n",
       "    <tr>\n",
       "      <th>4</th>\n",
       "      <td>12232</td>\n",
       "      <td>critical</td>\n",
       "      <td>public class DruidPooledCallableStatement exte...</td>\n",
       "      <td>1</td>\n",
       "      <td>0      -72.336136\n",
       "1      -41.620876\n",
       "2     -147...</td>\n",
       "      <td>0     -0.077614\n",
       "1     -0.044658\n",
       "2     -0.15841...</td>\n",
       "    </tr>\n",
       "  </tbody>\n",
       "</table>\n",
       "</div>"
      ],
      "text/plain": [
       "   sample_id  severity                                             method  \\\n",
       "0       8077  critical  public class DruidPooledCallableStatement exte...   \n",
       "1       5553  critical  public interface IAopReferenceModel {\\n\\t\\n\\tv...   \n",
       "2       9341  critical  @XmlAccessorType(XmlAccessType.FIELD)\\n@XmlTyp...   \n",
       "3      10419  critical  public class Ipam {\\n  private String driver;\\...   \n",
       "4      12232  critical  public class DruidPooledCallableStatement exte...   \n",
       "\n",
       "   label                               embeded_sequence_sum  \\\n",
       "0      1  0      -73.317101\n",
       "1      -42.687691\n",
       "2     -150...   \n",
       "1      1  0     -0.477835\n",
       "1      0.831359\n",
       "2     -7.71129...   \n",
       "2      1  0      -4.968647\n",
       "1      -1.361101\n",
       "2      -4.72...   \n",
       "3      1  0      -2.197651\n",
       "1      -6.160445\n",
       "2      -5.59...   \n",
       "4      1  0      -72.336136\n",
       "1      -41.620876\n",
       "2     -147...   \n",
       "\n",
       "                                embeded_sequence_avg  \n",
       "0  0     -0.078666\n",
       "1     -0.045802\n",
       "2     -0.16141...  \n",
       "1  0     -0.020775\n",
       "1      0.036146\n",
       "2     -0.33527...  \n",
       "2  0     -0.134288\n",
       "1     -0.036787\n",
       "2     -0.12759...  \n",
       "3  0     -0.032318\n",
       "1     -0.090595\n",
       "2     -0.08222...  \n",
       "4  0     -0.077614\n",
       "1     -0.044658\n",
       "2     -0.15841...  "
      ]
     },
     "execution_count": 3,
     "metadata": {},
     "output_type": "execute_result"
    }
   ],
   "source": [
    "df.head()"
   ]
  },
  {
   "cell_type": "code",
   "execution_count": 4,
   "metadata": {},
   "outputs": [
    {
     "data": {
      "text/html": [
       "<div>\n",
       "<style scoped>\n",
       "    .dataframe tbody tr th:only-of-type {\n",
       "        vertical-align: middle;\n",
       "    }\n",
       "\n",
       "    .dataframe tbody tr th {\n",
       "        vertical-align: top;\n",
       "    }\n",
       "\n",
       "    .dataframe thead th {\n",
       "        text-align: right;\n",
       "    }\n",
       "</style>\n",
       "<table border=\"1\" class=\"dataframe\">\n",
       "  <thead>\n",
       "    <tr style=\"text-align: right;\">\n",
       "      <th></th>\n",
       "      <th>sample_id</th>\n",
       "      <th>severity</th>\n",
       "      <th>label</th>\n",
       "      <th>embeded_sequence_sum</th>\n",
       "    </tr>\n",
       "  </thead>\n",
       "  <tbody>\n",
       "    <tr>\n",
       "      <th>0</th>\n",
       "      <td>8077</td>\n",
       "      <td>critical</td>\n",
       "      <td>1</td>\n",
       "      <td>0      -73.317101\n",
       "1      -42.687691\n",
       "2     -150...</td>\n",
       "    </tr>\n",
       "    <tr>\n",
       "      <th>1</th>\n",
       "      <td>5553</td>\n",
       "      <td>critical</td>\n",
       "      <td>1</td>\n",
       "      <td>0     -0.477835\n",
       "1      0.831359\n",
       "2     -7.71129...</td>\n",
       "    </tr>\n",
       "    <tr>\n",
       "      <th>2</th>\n",
       "      <td>9341</td>\n",
       "      <td>critical</td>\n",
       "      <td>1</td>\n",
       "      <td>0      -4.968647\n",
       "1      -1.361101\n",
       "2      -4.72...</td>\n",
       "    </tr>\n",
       "    <tr>\n",
       "      <th>3</th>\n",
       "      <td>10419</td>\n",
       "      <td>critical</td>\n",
       "      <td>1</td>\n",
       "      <td>0      -2.197651\n",
       "1      -6.160445\n",
       "2      -5.59...</td>\n",
       "    </tr>\n",
       "    <tr>\n",
       "      <th>4</th>\n",
       "      <td>12232</td>\n",
       "      <td>critical</td>\n",
       "      <td>1</td>\n",
       "      <td>0      -72.336136\n",
       "1      -41.620876\n",
       "2     -147...</td>\n",
       "    </tr>\n",
       "  </tbody>\n",
       "</table>\n",
       "</div>"
      ],
      "text/plain": [
       "   sample_id  severity  label  \\\n",
       "0       8077  critical      1   \n",
       "1       5553  critical      1   \n",
       "2       9341  critical      1   \n",
       "3      10419  critical      1   \n",
       "4      12232  critical      1   \n",
       "\n",
       "                                embeded_sequence_sum  \n",
       "0  0      -73.317101\n",
       "1      -42.687691\n",
       "2     -150...  \n",
       "1  0     -0.477835\n",
       "1      0.831359\n",
       "2     -7.71129...  \n",
       "2  0      -4.968647\n",
       "1      -1.361101\n",
       "2      -4.72...  \n",
       "3  0      -2.197651\n",
       "1      -6.160445\n",
       "2      -5.59...  \n",
       "4  0      -72.336136\n",
       "1      -41.620876\n",
       "2     -147...  "
      ]
     },
     "execution_count": 4,
     "metadata": {},
     "output_type": "execute_result"
    }
   ],
   "source": [
    "embeded_sum = df.loc[:, ['sample_id', 'severity', 'label', 'embeded_sequence_sum']]\n",
    "embeded_avg = df.loc[:, ['sample_id', 'severity', 'label', 'embeded_sequence_avg']]\n",
    "embeded_sum.head()"
   ]
  },
  {
   "cell_type": "code",
   "execution_count": 5,
   "metadata": {},
   "outputs": [
    {
     "name": "stdout",
     "output_type": "stream",
     "text": [
      "0    0      -73.317101\n",
      "1      -42.687691\n",
      "2     -150...\n",
      "1    0     -0.477835\n",
      "1      0.831359\n",
      "2     -7.71129...\n",
      "2    0      -4.968647\n",
      "1      -1.361101\n",
      "2      -4.72...\n",
      "3    0      -2.197651\n",
      "1      -6.160445\n",
      "2      -5.59...\n",
      "4    0      -72.336136\n",
      "1      -41.620876\n",
      "2     -147...\n",
      "Name: embeded_sequence_sum, dtype: object\n",
      "embeded_sequence_sum\n",
      "<class 'pandas.core.series.Series'>    2250\n",
      "<class 'NoneType'>                     1444\n",
      "Name: count, dtype: int64\n"
     ]
    }
   ],
   "source": [
    "print(embeded_sum[\"embeded_sequence_sum\"].head())\n",
    "print(embeded_sum[\"embeded_sequence_sum\"].apply(type).value_counts())"
   ]
  },
  {
   "cell_type": "code",
   "execution_count": 6,
   "metadata": {},
   "outputs": [],
   "source": [
    "def process_embedding(x):\n",
    "    if x is None:\n",
    "        return []  \n",
    "    elif isinstance(x, pd.Series):\n",
    "        return \" \".join(map(str, x))\n",
    "    else:\n",
    "        return str(x)  \n",
    "\n",
    "embeded_sum[\"embeded_sequence_sum\"] = embeded_sum[\"embeded_sequence_sum\"].apply(process_embedding)\n"
   ]
  },
  {
   "cell_type": "code",
   "execution_count": 7,
   "metadata": {},
   "outputs": [
    {
     "name": "stdout",
     "output_type": "stream",
     "text": [
      "0    -73.31710052490234 -42.68769073486328 -150.438...\n",
      "1    -0.47783464193344116 0.8313590884208679 -7.711...\n",
      "2    -4.968647003173828 -1.3611005544662476 -4.7210...\n",
      "3    -2.197650909423828 -6.160444736480713 -5.59121...\n",
      "4    -72.33613586425781 -41.62087631225586 -147.642...\n",
      "Name: embeded_sequence_sum, dtype: object\n"
     ]
    }
   ],
   "source": [
    "print(embeded_sum[\"embeded_sequence_sum\"].head())"
   ]
  },
  {
   "cell_type": "code",
   "execution_count": 8,
   "metadata": {},
   "outputs": [],
   "source": [
    "embeded_sum[\"embeded_sequence_sum\"] = embeded_sum[\"embeded_sequence_sum\"].apply(\n",
    "    lambda x: \" \".join(str(i) for i in x) if isinstance(x, pd.Series) else str(x)\n",
    ")"
   ]
  },
  {
   "cell_type": "code",
   "execution_count": 9,
   "metadata": {},
   "outputs": [],
   "source": [
    "import re\n",
    "\n",
    "def parse_flat_embedding(embedding_str):\n",
    "    # Ensure input is a string\n",
    "    if not isinstance(embedding_str, str):\n",
    "        return []\n",
    "    try:\n",
    "        # Extract numerical values from the string\n",
    "        values = re.findall(r\"[-+]?\\d*\\.\\d+|\\d+\", embedding_str)\n",
    "        return [float(v) for v in values]\n",
    "    except Exception as e:\n",
    "        print(f\"Error parsing: {embedding_str} -> {e}\")\n",
    "        return []\n"
   ]
  },
  {
   "cell_type": "code",
   "execution_count": 10,
   "metadata": {},
   "outputs": [],
   "source": [
    "embeded_sum[\"embeded_sequence_sum\"] = embeded_sum[\"embeded_sequence_sum\"].apply(parse_flat_embedding)"
   ]
  },
  {
   "cell_type": "code",
   "execution_count": 11,
   "metadata": {},
   "outputs": [
    {
     "name": "stdout",
     "output_type": "stream",
     "text": [
      "Embedding length: 768\n",
      "Most common sequence length: 768\n",
      "Count of rows with this length: 2227\n"
     ]
    }
   ],
   "source": [
    "n = len(embeded_sum[\"embeded_sequence_sum\"][0])\n",
    "print(f\"Embedding length: {n}\")\n",
    "\n",
    "embed_lengths = embeded_sum[\"embeded_sequence_sum\"].apply(len)\n",
    "length_counts = embed_lengths.value_counts()\n",
    "most_common_length = length_counts.idxmax()\n",
    "\n",
    "n = most_common_length\n",
    "print(f\"Most common sequence length: {most_common_length}\")\n",
    "print(f\"Count of rows with this length: {length_counts[most_common_length]}\")\n"
   ]
  },
  {
   "cell_type": "code",
   "execution_count": 12,
   "metadata": {},
   "outputs": [
    {
     "name": "stdout",
     "output_type": "stream",
     "text": [
      "0    [-73.31710052490234, -42.68769073486328, -150....\n",
      "1    [-0.47783464193344116, 0.8313590884208679, -7....\n",
      "2    [-4.968647003173828, -1.3611005544662476, -4.7...\n",
      "3    [-2.197650909423828, -6.160444736480713, -5.59...\n",
      "4    [-72.33613586425781, -41.62087631225586, -147....\n",
      "Name: embeded_sequence_sum, dtype: object\n"
     ]
    }
   ],
   "source": [
    " # Function to handle the trimming or padding of the sequence\n",
    "embeded_sum[\"embeded_sequence_sum\"] = embeded_sum[\"embeded_sequence_sum\"].apply(\n",
    "    lambda x: (x[:n] if len(x) > n else x + [0] * (n - len(x))) if isinstance(x, list) else [0] * n\n",
    ")\n",
    "\n",
    "print(embeded_sum[\"embeded_sequence_sum\"].head())"
   ]
  },
  {
   "cell_type": "code",
   "execution_count": 13,
   "metadata": {},
   "outputs": [
    {
     "name": "stdout",
     "output_type": "stream",
     "text": [
      "embeded_sequence_sum\n",
      "768    3694\n",
      "Name: count, dtype: int64\n"
     ]
    }
   ],
   "source": [
    "embed_lengths = embeded_sum[\"embeded_sequence_sum\"].apply(len)\n",
    "print(embed_lengths.value_counts())\n"
   ]
  },
  {
   "cell_type": "code",
   "execution_count": 14,
   "metadata": {},
   "outputs": [
    {
     "name": "stdout",
     "output_type": "stream",
     "text": [
      "       emb_1      emb_2       emb_3       emb_4      emb_5       emb_6  \\\n",
      "0 -73.317101 -42.687691 -150.438019  103.039841  35.124355  140.111664   \n",
      "1  -0.477835   0.831359   -7.711295    4.890903  -0.823007    4.241571   \n",
      "2  -4.968647  -1.361101   -4.721052    5.020623   1.029872    2.879137   \n",
      "3  -2.197651  -6.160445   -5.591215    9.961710  -1.178440    1.964401   \n",
      "4 -72.336136 -41.620876 -147.642883  101.578682  38.796505  128.714645   \n",
      "\n",
      "      emb_7      emb_8      emb_9     emb_10  ...    emb_762     emb_763  \\\n",
      "0 -2.328502  76.979721  -7.235710 -77.745911  ... -19.821392  239.506317   \n",
      "1  4.829412   3.451910   0.837943  -2.760350  ...   0.750222    5.456442   \n",
      "2  0.307737   3.433656   0.364186  -4.503881  ...   0.244199    5.047576   \n",
      "3 -4.029890   2.628404   3.564538  -0.590118  ...  -4.493562   14.434325   \n",
      "4 -3.810141  86.228577 -15.177495 -73.152466  ... -16.878183  235.330811   \n",
      "\n",
      "      emb_764     emb_765    emb_766     emb_767     emb_768  label  \\\n",
      "0 -121.746979   99.123787  56.894653  271.065552 -103.196686      1   \n",
      "1   -2.421868    5.281622   0.601051    6.162732   -4.039612      1   \n",
      "2   -2.402542    7.650143  -0.041209   13.090829   -2.404206      1   \n",
      "3   -4.533132    2.106451   4.950000   19.625042  -10.807867      1   \n",
      "4 -127.239655  102.509422  58.616405  273.087921  -89.457779      1   \n",
      "\n",
      "   sample_id  severity  \n",
      "0       8077  critical  \n",
      "1       5553  critical  \n",
      "2       9341  critical  \n",
      "3      10419  critical  \n",
      "4      12232  critical  \n",
      "\n",
      "[5 rows x 771 columns]\n"
     ]
    }
   ],
   "source": [
    "# Create column names for embeddings\n",
    "columns = [f'emb_{i+1}' for i in range(n)]\n",
    "\n",
    "# Create a DataFrame for embedding values\n",
    "data = pd.DataFrame(embeded_sum[\"embeded_sequence_sum\"].to_list(), columns=columns)\n",
    "\n",
    "# Add metadata columns\n",
    "data['label'] = embeded_sum['label']\n",
    "data['sample_id'] = embeded_sum['sample_id']\n",
    "data['severity'] = embeded_sum['severity']\n",
    "\n",
    "# Display the result\n",
    "print(data.head())\n"
   ]
  },
  {
   "cell_type": "code",
   "execution_count": 15,
   "metadata": {},
   "outputs": [],
   "source": [
    "dataset_path = '/Users/mac/Desktop/Code_Smell_Detection/dataset/data_class/codeT5_embeddings/processed_embeddings/codeT5_base_embed_line_by_line_sum.pkl'\n",
    "pd.to_pickle(data, dataset_path)"
   ]
  },
  {
   "cell_type": "code",
   "execution_count": 16,
   "metadata": {},
   "outputs": [
    {
     "name": "stdout",
     "output_type": "stream",
     "text": [
      "0    0     -0.078666\n",
      "1     -0.045802\n",
      "2     -0.16141...\n",
      "1    0     -0.020775\n",
      "1      0.036146\n",
      "2     -0.33527...\n",
      "2    0     -0.134288\n",
      "1     -0.036787\n",
      "2     -0.12759...\n",
      "3    0     -0.032318\n",
      "1     -0.090595\n",
      "2     -0.08222...\n",
      "4    0     -0.077614\n",
      "1     -0.044658\n",
      "2     -0.15841...\n",
      "Name: embeded_sequence_avg, dtype: object\n",
      "embeded_sequence_avg\n",
      "<class 'pandas.core.series.Series'>    2250\n",
      "<class 'NoneType'>                     1444\n",
      "Name: count, dtype: int64\n"
     ]
    }
   ],
   "source": [
    "print(embeded_avg[\"embeded_sequence_avg\"].head())\n",
    "print(embeded_avg[\"embeded_sequence_avg\"].apply(type).value_counts())"
   ]
  },
  {
   "cell_type": "code",
   "execution_count": 17,
   "metadata": {},
   "outputs": [],
   "source": [
    "embeded_avg[\"embeded_sequence_avg\"] = embeded_avg[\"embeded_sequence_avg\"].apply(\n",
    "    lambda x: \" \".join(str(i) for i in x) if isinstance(x, pd.Series) else str(x)\n",
    ")"
   ]
  },
  {
   "cell_type": "code",
   "execution_count": 18,
   "metadata": {},
   "outputs": [
    {
     "name": "stdout",
     "output_type": "stream",
     "text": [
      "Embedding length: 15694\n"
     ]
    }
   ],
   "source": [
    "n = len(embeded_avg[\"embeded_sequence_avg\"][0])\n",
    "print(f\"Embedding length: {n}\")"
   ]
  },
  {
   "cell_type": "code",
   "execution_count": 19,
   "metadata": {},
   "outputs": [],
   "source": [
    "embeded_avg[\"embeded_sequence_avg\"] = embeded_avg[\"embeded_sequence_avg\"].apply(parse_flat_embedding)"
   ]
  },
  {
   "cell_type": "code",
   "execution_count": 20,
   "metadata": {},
   "outputs": [
    {
     "name": "stdout",
     "output_type": "stream",
     "text": [
      "Most common sequence length: 768\n",
      "Count of rows with this length: 1481\n"
     ]
    }
   ],
   "source": [
    "embed_lengths = embeded_avg[\"embeded_sequence_avg\"].apply(len)\n",
    "length_counts = embed_lengths.value_counts()\n",
    "most_common_length = length_counts.idxmax()\n",
    "\n",
    "n = most_common_length\n",
    "print(f\"Most common sequence length: {most_common_length}\")\n",
    "print(f\"Count of rows with this length: {length_counts[most_common_length]}\")"
   ]
  },
  {
   "cell_type": "code",
   "execution_count": 21,
   "metadata": {},
   "outputs": [
    {
     "name": "stdout",
     "output_type": "stream",
     "text": [
      "0    [-0.07866641879081726, -0.045802243053913116, ...\n",
      "1    [-0.02077541872859001, 0.036146048456430435, -...\n",
      "2    [-0.1342877596616745, -0.03678650036454201, -0...\n",
      "3    [-0.032318394631147385, -0.09059477597475052, ...\n",
      "4    [-0.07761388272047043, -0.044657591730356216, ...\n",
      "Name: embeded_sequence_avg, dtype: object\n"
     ]
    }
   ],
   "source": [
    "# Function to handle the trimming or padding of the sequence\n",
    "embeded_avg[\"embeded_sequence_avg\"] = embeded_avg[\"embeded_sequence_avg\"].apply(\n",
    "    lambda x: (x[:n] if len(x) > n else x + [0] * (n - len(x))) if isinstance(x, list) else [0] * n\n",
    ")\n",
    "\n",
    "print(embeded_avg[\"embeded_sequence_avg\"].head())"
   ]
  },
  {
   "cell_type": "code",
   "execution_count": 22,
   "metadata": {},
   "outputs": [
    {
     "name": "stdout",
     "output_type": "stream",
     "text": [
      "embeded_sequence_avg\n",
      "768    3694\n",
      "Name: count, dtype: int64\n"
     ]
    }
   ],
   "source": [
    "embed_lengths = embeded_avg[\"embeded_sequence_avg\"].apply(len)\n",
    "print(embed_lengths.value_counts())"
   ]
  },
  {
   "cell_type": "code",
   "execution_count": 23,
   "metadata": {},
   "outputs": [
    {
     "data": {
      "text/html": [
       "<div>\n",
       "<style scoped>\n",
       "    .dataframe tbody tr th:only-of-type {\n",
       "        vertical-align: middle;\n",
       "    }\n",
       "\n",
       "    .dataframe tbody tr th {\n",
       "        vertical-align: top;\n",
       "    }\n",
       "\n",
       "    .dataframe thead th {\n",
       "        text-align: right;\n",
       "    }\n",
       "</style>\n",
       "<table border=\"1\" class=\"dataframe\">\n",
       "  <thead>\n",
       "    <tr style=\"text-align: right;\">\n",
       "      <th></th>\n",
       "      <th>emb_1</th>\n",
       "      <th>emb_2</th>\n",
       "      <th>emb_3</th>\n",
       "      <th>emb_4</th>\n",
       "      <th>emb_5</th>\n",
       "      <th>emb_6</th>\n",
       "      <th>emb_7</th>\n",
       "      <th>emb_8</th>\n",
       "      <th>emb_9</th>\n",
       "      <th>emb_10</th>\n",
       "      <th>...</th>\n",
       "      <th>emb_762</th>\n",
       "      <th>emb_763</th>\n",
       "      <th>emb_764</th>\n",
       "      <th>emb_765</th>\n",
       "      <th>emb_766</th>\n",
       "      <th>emb_767</th>\n",
       "      <th>emb_768</th>\n",
       "      <th>label</th>\n",
       "      <th>sample_id</th>\n",
       "      <th>severity</th>\n",
       "    </tr>\n",
       "  </thead>\n",
       "  <tbody>\n",
       "    <tr>\n",
       "      <th>0</th>\n",
       "      <td>-0.078666</td>\n",
       "      <td>-0.045802</td>\n",
       "      <td>-0.161414</td>\n",
       "      <td>0.110558</td>\n",
       "      <td>0.037687</td>\n",
       "      <td>0.150334</td>\n",
       "      <td>-0.002498</td>\n",
       "      <td>0.082596</td>\n",
       "      <td>-0.007764</td>\n",
       "      <td>-0.083418</td>\n",
       "      <td>...</td>\n",
       "      <td>-0.074862</td>\n",
       "      <td>-0.004713</td>\n",
       "      <td>-0.021268</td>\n",
       "      <td>0.256981</td>\n",
       "      <td>-0.130630</td>\n",
       "      <td>0.106356</td>\n",
       "      <td>0.061046</td>\n",
       "      <td>1</td>\n",
       "      <td>8077</td>\n",
       "      <td>critical</td>\n",
       "    </tr>\n",
       "    <tr>\n",
       "      <th>1</th>\n",
       "      <td>-0.020775</td>\n",
       "      <td>0.036146</td>\n",
       "      <td>-0.335274</td>\n",
       "      <td>0.212648</td>\n",
       "      <td>-0.035783</td>\n",
       "      <td>0.184416</td>\n",
       "      <td>0.209974</td>\n",
       "      <td>0.150083</td>\n",
       "      <td>0.036432</td>\n",
       "      <td>-0.120015</td>\n",
       "      <td>...</td>\n",
       "      <td>0.032618</td>\n",
       "      <td>0.237237</td>\n",
       "      <td>-0.105299</td>\n",
       "      <td>0.229636</td>\n",
       "      <td>0.026133</td>\n",
       "      <td>0.267945</td>\n",
       "      <td>-0.175635</td>\n",
       "      <td>1</td>\n",
       "      <td>5553</td>\n",
       "      <td>critical</td>\n",
       "    </tr>\n",
       "    <tr>\n",
       "      <th>2</th>\n",
       "      <td>-0.134288</td>\n",
       "      <td>-0.036787</td>\n",
       "      <td>-0.127596</td>\n",
       "      <td>0.135693</td>\n",
       "      <td>0.027834</td>\n",
       "      <td>0.077815</td>\n",
       "      <td>0.008317</td>\n",
       "      <td>0.092802</td>\n",
       "      <td>0.009843</td>\n",
       "      <td>-0.121727</td>\n",
       "      <td>...</td>\n",
       "      <td>-0.028849</td>\n",
       "      <td>0.006600</td>\n",
       "      <td>0.136421</td>\n",
       "      <td>-0.064934</td>\n",
       "      <td>0.206761</td>\n",
       "      <td>-0.001114</td>\n",
       "      <td>0.353806</td>\n",
       "      <td>1</td>\n",
       "      <td>9341</td>\n",
       "      <td>critical</td>\n",
       "    </tr>\n",
       "    <tr>\n",
       "      <th>3</th>\n",
       "      <td>-0.032318</td>\n",
       "      <td>-0.090595</td>\n",
       "      <td>-0.082224</td>\n",
       "      <td>0.146496</td>\n",
       "      <td>-0.017330</td>\n",
       "      <td>0.028888</td>\n",
       "      <td>-0.059263</td>\n",
       "      <td>0.038653</td>\n",
       "      <td>0.052420</td>\n",
       "      <td>-0.008678</td>\n",
       "      <td>...</td>\n",
       "      <td>-0.066082</td>\n",
       "      <td>0.212269</td>\n",
       "      <td>-0.066664</td>\n",
       "      <td>0.030977</td>\n",
       "      <td>0.072794</td>\n",
       "      <td>0.288604</td>\n",
       "      <td>-0.158939</td>\n",
       "      <td>1</td>\n",
       "      <td>10419</td>\n",
       "      <td>critical</td>\n",
       "    </tr>\n",
       "    <tr>\n",
       "      <th>4</th>\n",
       "      <td>-0.077614</td>\n",
       "      <td>-0.044658</td>\n",
       "      <td>-0.158415</td>\n",
       "      <td>0.108990</td>\n",
       "      <td>0.041627</td>\n",
       "      <td>0.138106</td>\n",
       "      <td>-0.004088</td>\n",
       "      <td>0.092520</td>\n",
       "      <td>-0.016285</td>\n",
       "      <td>-0.078490</td>\n",
       "      <td>...</td>\n",
       "      <td>-0.018110</td>\n",
       "      <td>0.252501</td>\n",
       "      <td>-0.136523</td>\n",
       "      <td>0.109989</td>\n",
       "      <td>0.062893</td>\n",
       "      <td>0.293013</td>\n",
       "      <td>-0.095985</td>\n",
       "      <td>1</td>\n",
       "      <td>12232</td>\n",
       "      <td>critical</td>\n",
       "    </tr>\n",
       "  </tbody>\n",
       "</table>\n",
       "<p>5 rows × 771 columns</p>\n",
       "</div>"
      ],
      "text/plain": [
       "      emb_1     emb_2     emb_3     emb_4     emb_5     emb_6     emb_7  \\\n",
       "0 -0.078666 -0.045802 -0.161414  0.110558  0.037687  0.150334 -0.002498   \n",
       "1 -0.020775  0.036146 -0.335274  0.212648 -0.035783  0.184416  0.209974   \n",
       "2 -0.134288 -0.036787 -0.127596  0.135693  0.027834  0.077815  0.008317   \n",
       "3 -0.032318 -0.090595 -0.082224  0.146496 -0.017330  0.028888 -0.059263   \n",
       "4 -0.077614 -0.044658 -0.158415  0.108990  0.041627  0.138106 -0.004088   \n",
       "\n",
       "      emb_8     emb_9    emb_10  ...   emb_762   emb_763   emb_764   emb_765  \\\n",
       "0  0.082596 -0.007764 -0.083418  ... -0.074862 -0.004713 -0.021268  0.256981   \n",
       "1  0.150083  0.036432 -0.120015  ...  0.032618  0.237237 -0.105299  0.229636   \n",
       "2  0.092802  0.009843 -0.121727  ... -0.028849  0.006600  0.136421 -0.064934   \n",
       "3  0.038653  0.052420 -0.008678  ... -0.066082  0.212269 -0.066664  0.030977   \n",
       "4  0.092520 -0.016285 -0.078490  ... -0.018110  0.252501 -0.136523  0.109989   \n",
       "\n",
       "    emb_766   emb_767   emb_768  label  sample_id  severity  \n",
       "0 -0.130630  0.106356  0.061046      1       8077  critical  \n",
       "1  0.026133  0.267945 -0.175635      1       5553  critical  \n",
       "2  0.206761 -0.001114  0.353806      1       9341  critical  \n",
       "3  0.072794  0.288604 -0.158939      1      10419  critical  \n",
       "4  0.062893  0.293013 -0.095985      1      12232  critical  \n",
       "\n",
       "[5 rows x 771 columns]"
      ]
     },
     "execution_count": 23,
     "metadata": {},
     "output_type": "execute_result"
    }
   ],
   "source": [
    "columns = [f'emb_{i+1}' for i in range(n)]\n",
    "data = pd.DataFrame(embeded_avg[\"embeded_sequence_avg\"].to_list(), columns=columns)\n",
    "data['label'] = embeded_avg['label']\n",
    "data['sample_id'] = embeded_avg['sample_id']\n",
    "data['severity'] = embeded_avg['severity']\n",
    "data.head()"
   ]
  },
  {
   "cell_type": "code",
   "execution_count": 24,
   "metadata": {},
   "outputs": [],
   "source": [
    "dataset_path = '/Users/mac/Desktop/Code_Smell_Detection/dataset/data_class/codeT5_embeddings/processed_embeddings/codeT5_base_embed_line_by_line_avg.pkl'\n",
    "pd.to_pickle(data, dataset_path)"
   ]
  }
 ],
 "metadata": {
  "kernelspec": {
   "display_name": "Python 3",
   "language": "python",
   "name": "python3"
  },
  "language_info": {
   "codemirror_mode": {
    "name": "ipython",
    "version": 3
   },
   "file_extension": ".py",
   "mimetype": "text/x-python",
   "name": "python",
   "nbconvert_exporter": "python",
   "pygments_lexer": "ipython3",
   "version": "3.13.0"
  }
 },
 "nbformat": 4,
 "nbformat_minor": 2
}
