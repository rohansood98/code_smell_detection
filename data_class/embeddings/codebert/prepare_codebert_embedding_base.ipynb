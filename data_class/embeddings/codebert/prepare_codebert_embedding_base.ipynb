{
 "cells": [
  {
   "cell_type": "code",
   "execution_count": 1,
   "metadata": {},
   "outputs": [],
   "source": [
    "import pandas as pd\n",
    "import pickle"
   ]
  },
  {
   "cell_type": "code",
   "execution_count": 2,
   "metadata": {},
   "outputs": [
    {
     "name": "stderr",
     "output_type": "stream",
     "text": [
      "/var/folders/d8/cr798cb57kzd5kz_r8g8jm380000gn/T/ipykernel_35293/1492473580.py:3: DeprecationWarning: numpy.core.numeric is deprecated and has been renamed to numpy._core.numeric. The numpy._core namespace contains private NumPy internals and its use is discouraged, as NumPy internals can change without warning in any release. In practice, most real-world usage of numpy.core is to access functionality in the public NumPy API. If that is the case, use the public NumPy API. If not, you are using NumPy internals. If you would still like to access an internal attribute, use numpy._core.numeric._frombuffer.\n",
      "  df = pickle.load(fh)\n"
     ]
    }
   ],
   "source": [
    "file_path = \"/Users/mac/Desktop/Code_Smell_Detection/dataset/data_class/codebert_embeddings/df_dc_embeded_by_line_codebert_base.pkl\"\n",
    "with open(file_path, \"rb\") as fh:\n",
    "  df = pickle.load(fh)"
   ]
  },
  {
   "cell_type": "code",
   "execution_count": 3,
   "metadata": {},
   "outputs": [
    {
     "data": {
      "text/html": [
       "<div>\n",
       "<style scoped>\n",
       "    .dataframe tbody tr th:only-of-type {\n",
       "        vertical-align: middle;\n",
       "    }\n",
       "\n",
       "    .dataframe tbody tr th {\n",
       "        vertical-align: top;\n",
       "    }\n",
       "\n",
       "    .dataframe thead th {\n",
       "        text-align: right;\n",
       "    }\n",
       "</style>\n",
       "<table border=\"1\" class=\"dataframe\">\n",
       "  <thead>\n",
       "    <tr style=\"text-align: right;\">\n",
       "      <th></th>\n",
       "      <th>sample_id</th>\n",
       "      <th>severity</th>\n",
       "      <th>method</th>\n",
       "      <th>label</th>\n",
       "      <th>embeded_sequence_sum</th>\n",
       "      <th>embeded_sequence_avg</th>\n",
       "    </tr>\n",
       "  </thead>\n",
       "  <tbody>\n",
       "    <tr>\n",
       "      <th>0</th>\n",
       "      <td>8077</td>\n",
       "      <td>critical</td>\n",
       "      <td>public class DruidPooledCallableStatement exte...</td>\n",
       "      <td>1</td>\n",
       "      <td>[[-142.3737335205078, 271.9561767578125, -16.3...</td>\n",
       "      <td>[[-0.15341997146606445, 0.2930562198162079, -0...</td>\n",
       "    </tr>\n",
       "    <tr>\n",
       "      <th>1</th>\n",
       "      <td>5553</td>\n",
       "      <td>critical</td>\n",
       "      <td>public interface IAopReferenceModel {\\n\\t\\n\\tv...</td>\n",
       "      <td>1</td>\n",
       "      <td>[[-2.4264557361602783, 5.172459602355957, 0.18...</td>\n",
       "      <td>[[-0.13480310142040253, 0.2873588800430298, 0....</td>\n",
       "    </tr>\n",
       "    <tr>\n",
       "      <th>2</th>\n",
       "      <td>9341</td>\n",
       "      <td>critical</td>\n",
       "      <td>@XmlAccessorType(XmlAccessType.FIELD)\\n@XmlTyp...</td>\n",
       "      <td>1</td>\n",
       "      <td>[[-5.216373920440674, 12.301513671875, -0.1164...</td>\n",
       "      <td>[[-0.14098307490348816, 0.3324733376502991, -0...</td>\n",
       "    </tr>\n",
       "    <tr>\n",
       "      <th>3</th>\n",
       "      <td>10419</td>\n",
       "      <td>critical</td>\n",
       "      <td>public class Ipam {\\n  private String driver;\\...</td>\n",
       "      <td>1</td>\n",
       "      <td>[[-10.633790969848633, 23.82303237915039, -1.5...</td>\n",
       "      <td>[[-0.15637928247451782, 0.3503386974334717, -0...</td>\n",
       "    </tr>\n",
       "    <tr>\n",
       "      <th>4</th>\n",
       "      <td>12232</td>\n",
       "      <td>critical</td>\n",
       "      <td>public class DruidPooledCallableStatement exte...</td>\n",
       "      <td>1</td>\n",
       "      <td>[[-142.3737335205078, 271.9561767578125, -16.3...</td>\n",
       "      <td>[[-0.15341997146606445, 0.2930562198162079, -0...</td>\n",
       "    </tr>\n",
       "  </tbody>\n",
       "</table>\n",
       "</div>"
      ],
      "text/plain": [
       "   sample_id  severity                                             method  \\\n",
       "0       8077  critical  public class DruidPooledCallableStatement exte...   \n",
       "1       5553  critical  public interface IAopReferenceModel {\\n\\t\\n\\tv...   \n",
       "2       9341  critical  @XmlAccessorType(XmlAccessType.FIELD)\\n@XmlTyp...   \n",
       "3      10419  critical  public class Ipam {\\n  private String driver;\\...   \n",
       "4      12232  critical  public class DruidPooledCallableStatement exte...   \n",
       "\n",
       "   label                               embeded_sequence_sum  \\\n",
       "0      1  [[-142.3737335205078, 271.9561767578125, -16.3...   \n",
       "1      1  [[-2.4264557361602783, 5.172459602355957, 0.18...   \n",
       "2      1  [[-5.216373920440674, 12.301513671875, -0.1164...   \n",
       "3      1  [[-10.633790969848633, 23.82303237915039, -1.5...   \n",
       "4      1  [[-142.3737335205078, 271.9561767578125, -16.3...   \n",
       "\n",
       "                                embeded_sequence_avg  \n",
       "0  [[-0.15341997146606445, 0.2930562198162079, -0...  \n",
       "1  [[-0.13480310142040253, 0.2873588800430298, 0....  \n",
       "2  [[-0.14098307490348816, 0.3324733376502991, -0...  \n",
       "3  [[-0.15637928247451782, 0.3503386974334717, -0...  \n",
       "4  [[-0.15341997146606445, 0.2930562198162079, -0...  "
      ]
     },
     "execution_count": 3,
     "metadata": {},
     "output_type": "execute_result"
    }
   ],
   "source": [
    "df.head()"
   ]
  },
  {
   "cell_type": "code",
   "execution_count": 4,
   "metadata": {},
   "outputs": [
    {
     "data": {
      "text/html": [
       "<div>\n",
       "<style scoped>\n",
       "    .dataframe tbody tr th:only-of-type {\n",
       "        vertical-align: middle;\n",
       "    }\n",
       "\n",
       "    .dataframe tbody tr th {\n",
       "        vertical-align: top;\n",
       "    }\n",
       "\n",
       "    .dataframe thead th {\n",
       "        text-align: right;\n",
       "    }\n",
       "</style>\n",
       "<table border=\"1\" class=\"dataframe\">\n",
       "  <thead>\n",
       "    <tr style=\"text-align: right;\">\n",
       "      <th></th>\n",
       "      <th>sample_id</th>\n",
       "      <th>severity</th>\n",
       "      <th>label</th>\n",
       "      <th>embeded_sequence_sum</th>\n",
       "    </tr>\n",
       "  </thead>\n",
       "  <tbody>\n",
       "    <tr>\n",
       "      <th>0</th>\n",
       "      <td>8077</td>\n",
       "      <td>critical</td>\n",
       "      <td>1</td>\n",
       "      <td>[[-142.3737335205078, 271.9561767578125, -16.3...</td>\n",
       "    </tr>\n",
       "    <tr>\n",
       "      <th>1</th>\n",
       "      <td>5553</td>\n",
       "      <td>critical</td>\n",
       "      <td>1</td>\n",
       "      <td>[[-2.4264557361602783, 5.172459602355957, 0.18...</td>\n",
       "    </tr>\n",
       "    <tr>\n",
       "      <th>2</th>\n",
       "      <td>9341</td>\n",
       "      <td>critical</td>\n",
       "      <td>1</td>\n",
       "      <td>[[-5.216373920440674, 12.301513671875, -0.1164...</td>\n",
       "    </tr>\n",
       "    <tr>\n",
       "      <th>3</th>\n",
       "      <td>10419</td>\n",
       "      <td>critical</td>\n",
       "      <td>1</td>\n",
       "      <td>[[-10.633790969848633, 23.82303237915039, -1.5...</td>\n",
       "    </tr>\n",
       "    <tr>\n",
       "      <th>4</th>\n",
       "      <td>12232</td>\n",
       "      <td>critical</td>\n",
       "      <td>1</td>\n",
       "      <td>[[-142.3737335205078, 271.9561767578125, -16.3...</td>\n",
       "    </tr>\n",
       "  </tbody>\n",
       "</table>\n",
       "</div>"
      ],
      "text/plain": [
       "   sample_id  severity  label  \\\n",
       "0       8077  critical      1   \n",
       "1       5553  critical      1   \n",
       "2       9341  critical      1   \n",
       "3      10419  critical      1   \n",
       "4      12232  critical      1   \n",
       "\n",
       "                                embeded_sequence_sum  \n",
       "0  [[-142.3737335205078, 271.9561767578125, -16.3...  \n",
       "1  [[-2.4264557361602783, 5.172459602355957, 0.18...  \n",
       "2  [[-5.216373920440674, 12.301513671875, -0.1164...  \n",
       "3  [[-10.633790969848633, 23.82303237915039, -1.5...  \n",
       "4  [[-142.3737335205078, 271.9561767578125, -16.3...  "
      ]
     },
     "execution_count": 4,
     "metadata": {},
     "output_type": "execute_result"
    }
   ],
   "source": [
    "embeded_sum = df.loc[:, ['sample_id', 'severity', 'label', 'embeded_sequence_sum']]\n",
    "embeded_avg = df.loc[:, ['sample_id', 'severity', 'label', 'embeded_sequence_avg']]\n",
    "embeded_sum.head()"
   ]
  },
  {
   "cell_type": "code",
   "execution_count": 5,
   "metadata": {},
   "outputs": [
    {
     "name": "stdout",
     "output_type": "stream",
     "text": [
      "0    [[-142.3737335205078, 271.9561767578125, -16.3...\n",
      "1    [[-2.4264557361602783, 5.172459602355957, 0.18...\n",
      "2    [[-5.216373920440674, 12.301513671875, -0.1164...\n",
      "3    [[-10.633790969848633, 23.82303237915039, -1.5...\n",
      "4    [[-142.3737335205078, 271.9561767578125, -16.3...\n",
      "Name: embeded_sequence_sum, dtype: object\n",
      "embeded_sequence_sum\n",
      "<class 'list'>    3694\n",
      "Name: count, dtype: int64\n"
     ]
    }
   ],
   "source": [
    "print(embeded_sum[\"embeded_sequence_sum\"].head())\n",
    "print(embeded_sum[\"embeded_sequence_sum\"].apply(type).value_counts())"
   ]
  },
  {
   "cell_type": "code",
   "execution_count": 6,
   "metadata": {},
   "outputs": [],
   "source": [
    "def process_embedding(x):\n",
    "    if x is None:\n",
    "        return []  \n",
    "    elif isinstance(x, pd.Series):\n",
    "        return \" \".join(map(str, x))\n",
    "    else:\n",
    "        return str(x)  \n",
    "\n",
    "embeded_sum[\"embeded_sequence_sum\"] = embeded_sum[\"embeded_sequence_sum\"].apply(process_embedding)\n"
   ]
  },
  {
   "cell_type": "code",
   "execution_count": 7,
   "metadata": {},
   "outputs": [
    {
     "name": "stdout",
     "output_type": "stream",
     "text": [
      "0    [[-142.3737335205078, 271.9561767578125, -16.3...\n",
      "1    [[-2.4264557361602783, 5.172459602355957, 0.18...\n",
      "2    [[-5.216373920440674, 12.301513671875, -0.1164...\n",
      "3    [[-10.633790969848633, 23.82303237915039, -1.5...\n",
      "4    [[-142.3737335205078, 271.9561767578125, -16.3...\n",
      "Name: embeded_sequence_sum, dtype: object\n"
     ]
    }
   ],
   "source": [
    "print(embeded_sum[\"embeded_sequence_sum\"].head())"
   ]
  },
  {
   "cell_type": "code",
   "execution_count": 8,
   "metadata": {},
   "outputs": [],
   "source": [
    "embeded_sum[\"embeded_sequence_sum\"] = embeded_sum[\"embeded_sequence_sum\"].apply(\n",
    "    lambda x: \" \".join(str(i) for i in x) if isinstance(x, pd.Series) else str(x)\n",
    ")"
   ]
  },
  {
   "cell_type": "code",
   "execution_count": 9,
   "metadata": {},
   "outputs": [],
   "source": [
    "import re\n",
    "\n",
    "def parse_flat_embedding(embedding_str):\n",
    "    # Ensure input is a string\n",
    "    if not isinstance(embedding_str, str):\n",
    "        return []\n",
    "    try:\n",
    "        # Extract numerical values from the string\n",
    "        values = re.findall(r\"[-+]?\\d*\\.\\d+|\\d+\", embedding_str)\n",
    "        return [float(v) for v in values]\n",
    "    except Exception as e:\n",
    "        print(f\"Error parsing: {embedding_str} -> {e}\")\n",
    "        return []\n"
   ]
  },
  {
   "cell_type": "code",
   "execution_count": 10,
   "metadata": {},
   "outputs": [],
   "source": [
    "embeded_sum[\"embeded_sequence_sum\"] = embeded_sum[\"embeded_sequence_sum\"].apply(parse_flat_embedding)"
   ]
  },
  {
   "cell_type": "code",
   "execution_count": 11,
   "metadata": {},
   "outputs": [
    {
     "name": "stdout",
     "output_type": "stream",
     "text": [
      "Embedding length: 768\n",
      "Most common sequence length: 768\n",
      "Count of rows with this length: 3670\n"
     ]
    }
   ],
   "source": [
    "n = len(embeded_sum[\"embeded_sequence_sum\"][0])\n",
    "print(f\"Embedding length: {n}\")\n",
    "\n",
    "embed_lengths = embeded_sum[\"embeded_sequence_sum\"].apply(len)\n",
    "length_counts = embed_lengths.value_counts()\n",
    "most_common_length = length_counts.idxmax()\n",
    "\n",
    "n = most_common_length\n",
    "print(f\"Most common sequence length: {most_common_length}\")\n",
    "print(f\"Count of rows with this length: {length_counts[most_common_length]}\")\n"
   ]
  },
  {
   "cell_type": "code",
   "execution_count": 12,
   "metadata": {},
   "outputs": [
    {
     "name": "stdout",
     "output_type": "stream",
     "text": [
      "0    [-142.3737335205078, 271.9561767578125, -16.33...\n",
      "1    [-2.4264557361602783, 5.172459602355957, 0.183...\n",
      "2    [-5.216373920440674, 12.301513671875, -0.11644...\n",
      "3    [-10.633790969848633, 23.82303237915039, -1.59...\n",
      "4    [-142.3737335205078, 271.9561767578125, -16.33...\n",
      "Name: embeded_sequence_sum, dtype: object\n"
     ]
    }
   ],
   "source": [
    " # Function to handle the trimming or padding of the sequence\n",
    "embeded_sum[\"embeded_sequence_sum\"] = embeded_sum[\"embeded_sequence_sum\"].apply(\n",
    "    lambda x: (x[:n] if len(x) > n else x + [0] * (n - len(x))) if isinstance(x, list) else [0] * n\n",
    ")\n",
    "\n",
    "print(embeded_sum[\"embeded_sequence_sum\"].head())"
   ]
  },
  {
   "cell_type": "code",
   "execution_count": 13,
   "metadata": {},
   "outputs": [
    {
     "name": "stdout",
     "output_type": "stream",
     "text": [
      "embeded_sequence_sum\n",
      "768    3694\n",
      "Name: count, dtype: int64\n"
     ]
    }
   ],
   "source": [
    "embed_lengths = embeded_sum[\"embeded_sequence_sum\"].apply(len)\n",
    "print(embed_lengths.value_counts())\n"
   ]
  },
  {
   "cell_type": "code",
   "execution_count": 14,
   "metadata": {},
   "outputs": [
    {
     "name": "stdout",
     "output_type": "stream",
     "text": [
      "        emb_1       emb_2      emb_3      emb_4      emb_5       emb_6  \\\n",
      "0 -142.373734  271.956177 -16.337118  51.671291  76.822624 -245.059525   \n",
      "1   -2.426456    5.172460   0.183453   1.040403   0.761608   -3.009145   \n",
      "2   -5.216374   12.301514  -0.116449   2.123092   3.188100   -7.073945   \n",
      "3  -10.633791   23.823032  -1.599639   3.053346   3.419122  -15.894526   \n",
      "4 -142.373734  271.956177 -16.337118  51.671291  76.822624 -245.059525   \n",
      "\n",
      "       emb_7      emb_8       emb_9      emb_10  ...     emb_762    emb_763  \\\n",
      "0  27.996546  38.375412  261.649292 -244.260834  ...  512.339355 -60.587494   \n",
      "1  -0.883193   0.836070    2.778491   -2.877727  ...   10.506008  -3.874928   \n",
      "2  -0.892327   1.628437    7.502768   -8.853976  ...   19.812071  -4.468370   \n",
      "3  -2.235992   3.425864   15.858608  -15.242412  ...   30.434586  -7.688050   \n",
      "4  27.996546  38.375412  261.649292 -244.260834  ...  512.339355 -60.587494   \n",
      "\n",
      "     emb_764     emb_765     emb_766     emb_767     emb_768  label  \\\n",
      "0 -10.584517  370.291687 -274.114868 -321.223785  312.296051      1   \n",
      "1   1.081834    7.217535   -4.412273   -6.149477    5.995068      1   \n",
      "2   1.009261   14.174513   -9.546618  -12.650854   13.139441      1   \n",
      "3   1.636729   25.253891  -21.265335  -20.495380   22.952433      1   \n",
      "4 -10.584517  370.291687 -274.114868 -321.223785  312.296051      1   \n",
      "\n",
      "   sample_id  severity  \n",
      "0       8077  critical  \n",
      "1       5553  critical  \n",
      "2       9341  critical  \n",
      "3      10419  critical  \n",
      "4      12232  critical  \n",
      "\n",
      "[5 rows x 771 columns]\n"
     ]
    }
   ],
   "source": [
    "# Create column names for embeddings\n",
    "columns = [f'emb_{i+1}' for i in range(n)]\n",
    "\n",
    "# Create a DataFrame for embedding values\n",
    "data = pd.DataFrame(embeded_sum[\"embeded_sequence_sum\"].to_list(), columns=columns)\n",
    "\n",
    "# Add metadata columns\n",
    "data['label'] = embeded_sum['label']\n",
    "data['sample_id'] = embeded_sum['sample_id']\n",
    "data['severity'] = embeded_sum['severity']\n",
    "\n",
    "# Display the result\n",
    "print(data.head())\n"
   ]
  },
  {
   "cell_type": "code",
   "execution_count": 15,
   "metadata": {},
   "outputs": [],
   "source": [
    "dataset_path = '/Users/mac/Desktop/Code_Smell_Detection/dataset/data_class/codebert_embeddings/processed_embeddings/codebert_base_embed_line_by_line_sum.pkl'\n",
    "pd.to_pickle(data, dataset_path)"
   ]
  },
  {
   "cell_type": "code",
   "execution_count": 16,
   "metadata": {},
   "outputs": [
    {
     "name": "stdout",
     "output_type": "stream",
     "text": [
      "0    [[-0.15341997146606445, 0.2930562198162079, -0...\n",
      "1    [[-0.13480310142040253, 0.2873588800430298, 0....\n",
      "2    [[-0.14098307490348816, 0.3324733376502991, -0...\n",
      "3    [[-0.15637928247451782, 0.3503386974334717, -0...\n",
      "4    [[-0.15341997146606445, 0.2930562198162079, -0...\n",
      "Name: embeded_sequence_avg, dtype: object\n",
      "embeded_sequence_avg\n",
      "<class 'list'>    3694\n",
      "Name: count, dtype: int64\n"
     ]
    }
   ],
   "source": [
    "print(embeded_avg[\"embeded_sequence_avg\"].head())\n",
    "print(embeded_avg[\"embeded_sequence_avg\"].apply(type).value_counts())"
   ]
  },
  {
   "cell_type": "code",
   "execution_count": 17,
   "metadata": {},
   "outputs": [],
   "source": [
    "embeded_avg[\"embeded_sequence_avg\"] = embeded_avg[\"embeded_sequence_avg\"].apply(\n",
    "    lambda x: \" \".join(str(i) for i in x) if isinstance(x, pd.Series) else str(x)\n",
    ")"
   ]
  },
  {
   "cell_type": "code",
   "execution_count": 18,
   "metadata": {},
   "outputs": [
    {
     "name": "stdout",
     "output_type": "stream",
     "text": [
      "Embedding length: 16294\n"
     ]
    }
   ],
   "source": [
    "n = len(embeded_avg[\"embeded_sequence_avg\"][0])\n",
    "print(f\"Embedding length: {n}\")"
   ]
  },
  {
   "cell_type": "code",
   "execution_count": 19,
   "metadata": {},
   "outputs": [],
   "source": [
    "embeded_avg[\"embeded_sequence_avg\"] = embeded_avg[\"embeded_sequence_avg\"].apply(parse_flat_embedding)"
   ]
  },
  {
   "cell_type": "code",
   "execution_count": 20,
   "metadata": {},
   "outputs": [
    {
     "name": "stdout",
     "output_type": "stream",
     "text": [
      "Most common sequence length: 768\n",
      "Count of rows with this length: 2754\n"
     ]
    }
   ],
   "source": [
    "embed_lengths = embeded_avg[\"embeded_sequence_avg\"].apply(len)\n",
    "length_counts = embed_lengths.value_counts()\n",
    "most_common_length = length_counts.idxmax()\n",
    "\n",
    "n = most_common_length\n",
    "print(f\"Most common sequence length: {most_common_length}\")\n",
    "print(f\"Count of rows with this length: {length_counts[most_common_length]}\")"
   ]
  },
  {
   "cell_type": "code",
   "execution_count": 21,
   "metadata": {},
   "outputs": [
    {
     "name": "stdout",
     "output_type": "stream",
     "text": [
      "0    [-0.15341997146606445, 0.2930562198162079, -0....\n",
      "1    [-0.13480310142040253, 0.2873588800430298, 0.0...\n",
      "2    [-0.14098307490348816, 0.3324733376502991, -0....\n",
      "3    [-0.15637928247451782, 0.3503386974334717, -0....\n",
      "4    [-0.15341997146606445, 0.2930562198162079, -0....\n",
      "Name: embeded_sequence_avg, dtype: object\n"
     ]
    }
   ],
   "source": [
    "# Function to handle the trimming or padding of the sequence\n",
    "embeded_avg[\"embeded_sequence_avg\"] = embeded_avg[\"embeded_sequence_avg\"].apply(\n",
    "    lambda x: (x[:n] if len(x) > n else x + [0] * (n - len(x))) if isinstance(x, list) else [0] * n\n",
    ")\n",
    "\n",
    "print(embeded_avg[\"embeded_sequence_avg\"].head())"
   ]
  },
  {
   "cell_type": "code",
   "execution_count": 22,
   "metadata": {},
   "outputs": [
    {
     "name": "stdout",
     "output_type": "stream",
     "text": [
      "embeded_sequence_avg\n",
      "768    3694\n",
      "Name: count, dtype: int64\n"
     ]
    }
   ],
   "source": [
    "embed_lengths = embeded_avg[\"embeded_sequence_avg\"].apply(len)\n",
    "print(embed_lengths.value_counts())"
   ]
  },
  {
   "cell_type": "code",
   "execution_count": 23,
   "metadata": {},
   "outputs": [
    {
     "data": {
      "text/html": [
       "<div>\n",
       "<style scoped>\n",
       "    .dataframe tbody tr th:only-of-type {\n",
       "        vertical-align: middle;\n",
       "    }\n",
       "\n",
       "    .dataframe tbody tr th {\n",
       "        vertical-align: top;\n",
       "    }\n",
       "\n",
       "    .dataframe thead th {\n",
       "        text-align: right;\n",
       "    }\n",
       "</style>\n",
       "<table border=\"1\" class=\"dataframe\">\n",
       "  <thead>\n",
       "    <tr style=\"text-align: right;\">\n",
       "      <th></th>\n",
       "      <th>emb_1</th>\n",
       "      <th>emb_2</th>\n",
       "      <th>emb_3</th>\n",
       "      <th>emb_4</th>\n",
       "      <th>emb_5</th>\n",
       "      <th>emb_6</th>\n",
       "      <th>emb_7</th>\n",
       "      <th>emb_8</th>\n",
       "      <th>emb_9</th>\n",
       "      <th>emb_10</th>\n",
       "      <th>...</th>\n",
       "      <th>emb_762</th>\n",
       "      <th>emb_763</th>\n",
       "      <th>emb_764</th>\n",
       "      <th>emb_765</th>\n",
       "      <th>emb_766</th>\n",
       "      <th>emb_767</th>\n",
       "      <th>emb_768</th>\n",
       "      <th>label</th>\n",
       "      <th>sample_id</th>\n",
       "      <th>severity</th>\n",
       "    </tr>\n",
       "  </thead>\n",
       "  <tbody>\n",
       "    <tr>\n",
       "      <th>0</th>\n",
       "      <td>-0.153420</td>\n",
       "      <td>0.293056</td>\n",
       "      <td>-0.017605</td>\n",
       "      <td>0.055680</td>\n",
       "      <td>0.082783</td>\n",
       "      <td>-0.264073</td>\n",
       "      <td>0.030169</td>\n",
       "      <td>0.041353</td>\n",
       "      <td>0.281950</td>\n",
       "      <td>-0.263212</td>\n",
       "      <td>...</td>\n",
       "      <td>0.552090</td>\n",
       "      <td>-0.065288</td>\n",
       "      <td>-0.011406</td>\n",
       "      <td>0.399021</td>\n",
       "      <td>-0.295382</td>\n",
       "      <td>-0.346146</td>\n",
       "      <td>0.336526</td>\n",
       "      <td>1</td>\n",
       "      <td>8077</td>\n",
       "      <td>critical</td>\n",
       "    </tr>\n",
       "    <tr>\n",
       "      <th>1</th>\n",
       "      <td>-0.134803</td>\n",
       "      <td>0.287359</td>\n",
       "      <td>0.010192</td>\n",
       "      <td>0.057800</td>\n",
       "      <td>0.042312</td>\n",
       "      <td>-0.167175</td>\n",
       "      <td>-0.049066</td>\n",
       "      <td>0.046448</td>\n",
       "      <td>0.154361</td>\n",
       "      <td>-0.159874</td>\n",
       "      <td>...</td>\n",
       "      <td>0.583667</td>\n",
       "      <td>-0.215274</td>\n",
       "      <td>0.060102</td>\n",
       "      <td>0.400974</td>\n",
       "      <td>-0.245126</td>\n",
       "      <td>-0.341638</td>\n",
       "      <td>0.333059</td>\n",
       "      <td>1</td>\n",
       "      <td>5553</td>\n",
       "      <td>critical</td>\n",
       "    </tr>\n",
       "    <tr>\n",
       "      <th>2</th>\n",
       "      <td>-0.140983</td>\n",
       "      <td>0.332473</td>\n",
       "      <td>-0.003147</td>\n",
       "      <td>0.057381</td>\n",
       "      <td>0.086165</td>\n",
       "      <td>-0.191188</td>\n",
       "      <td>-0.024117</td>\n",
       "      <td>0.044012</td>\n",
       "      <td>0.202778</td>\n",
       "      <td>-0.239297</td>\n",
       "      <td>...</td>\n",
       "      <td>-0.458214</td>\n",
       "      <td>0.535461</td>\n",
       "      <td>-0.120767</td>\n",
       "      <td>0.027277</td>\n",
       "      <td>0.383095</td>\n",
       "      <td>-0.258017</td>\n",
       "      <td>-0.341915</td>\n",
       "      <td>1</td>\n",
       "      <td>9341</td>\n",
       "      <td>critical</td>\n",
       "    </tr>\n",
       "    <tr>\n",
       "      <th>3</th>\n",
       "      <td>-0.156379</td>\n",
       "      <td>0.350339</td>\n",
       "      <td>-0.023524</td>\n",
       "      <td>0.044902</td>\n",
       "      <td>0.050281</td>\n",
       "      <td>-0.233743</td>\n",
       "      <td>-0.032882</td>\n",
       "      <td>0.050380</td>\n",
       "      <td>0.233215</td>\n",
       "      <td>-0.224153</td>\n",
       "      <td>...</td>\n",
       "      <td>0.447567</td>\n",
       "      <td>-0.113060</td>\n",
       "      <td>0.024070</td>\n",
       "      <td>0.371381</td>\n",
       "      <td>-0.312726</td>\n",
       "      <td>-0.301403</td>\n",
       "      <td>0.337536</td>\n",
       "      <td>1</td>\n",
       "      <td>10419</td>\n",
       "      <td>critical</td>\n",
       "    </tr>\n",
       "    <tr>\n",
       "      <th>4</th>\n",
       "      <td>-0.153420</td>\n",
       "      <td>0.293056</td>\n",
       "      <td>-0.017605</td>\n",
       "      <td>0.055680</td>\n",
       "      <td>0.082783</td>\n",
       "      <td>-0.264073</td>\n",
       "      <td>0.030169</td>\n",
       "      <td>0.041353</td>\n",
       "      <td>0.281950</td>\n",
       "      <td>-0.263212</td>\n",
       "      <td>...</td>\n",
       "      <td>0.552090</td>\n",
       "      <td>-0.065288</td>\n",
       "      <td>-0.011406</td>\n",
       "      <td>0.399021</td>\n",
       "      <td>-0.295382</td>\n",
       "      <td>-0.346146</td>\n",
       "      <td>0.336526</td>\n",
       "      <td>1</td>\n",
       "      <td>12232</td>\n",
       "      <td>critical</td>\n",
       "    </tr>\n",
       "  </tbody>\n",
       "</table>\n",
       "<p>5 rows × 771 columns</p>\n",
       "</div>"
      ],
      "text/plain": [
       "      emb_1     emb_2     emb_3     emb_4     emb_5     emb_6     emb_7  \\\n",
       "0 -0.153420  0.293056 -0.017605  0.055680  0.082783 -0.264073  0.030169   \n",
       "1 -0.134803  0.287359  0.010192  0.057800  0.042312 -0.167175 -0.049066   \n",
       "2 -0.140983  0.332473 -0.003147  0.057381  0.086165 -0.191188 -0.024117   \n",
       "3 -0.156379  0.350339 -0.023524  0.044902  0.050281 -0.233743 -0.032882   \n",
       "4 -0.153420  0.293056 -0.017605  0.055680  0.082783 -0.264073  0.030169   \n",
       "\n",
       "      emb_8     emb_9    emb_10  ...   emb_762   emb_763   emb_764   emb_765  \\\n",
       "0  0.041353  0.281950 -0.263212  ...  0.552090 -0.065288 -0.011406  0.399021   \n",
       "1  0.046448  0.154361 -0.159874  ...  0.583667 -0.215274  0.060102  0.400974   \n",
       "2  0.044012  0.202778 -0.239297  ... -0.458214  0.535461 -0.120767  0.027277   \n",
       "3  0.050380  0.233215 -0.224153  ...  0.447567 -0.113060  0.024070  0.371381   \n",
       "4  0.041353  0.281950 -0.263212  ...  0.552090 -0.065288 -0.011406  0.399021   \n",
       "\n",
       "    emb_766   emb_767   emb_768  label  sample_id  severity  \n",
       "0 -0.295382 -0.346146  0.336526      1       8077  critical  \n",
       "1 -0.245126 -0.341638  0.333059      1       5553  critical  \n",
       "2  0.383095 -0.258017 -0.341915      1       9341  critical  \n",
       "3 -0.312726 -0.301403  0.337536      1      10419  critical  \n",
       "4 -0.295382 -0.346146  0.336526      1      12232  critical  \n",
       "\n",
       "[5 rows x 771 columns]"
      ]
     },
     "execution_count": 23,
     "metadata": {},
     "output_type": "execute_result"
    }
   ],
   "source": [
    "columns = [f'emb_{i+1}' for i in range(n)]\n",
    "data = pd.DataFrame(embeded_avg[\"embeded_sequence_avg\"].to_list(), columns=columns)\n",
    "data['label'] = embeded_avg['label']\n",
    "data['sample_id'] = embeded_avg['sample_id']\n",
    "data['severity'] = embeded_avg['severity']\n",
    "data.head()"
   ]
  },
  {
   "cell_type": "code",
   "execution_count": 24,
   "metadata": {},
   "outputs": [],
   "source": [
    "dataset_path = '/Users/mac/Desktop/Code_Smell_Detection/dataset/data_class/codebert_embeddings/processed_embeddings/codebert_base_embed_line_by_line_avg.pkl'\n",
    "pd.to_pickle(data, dataset_path)"
   ]
  }
 ],
 "metadata": {
  "kernelspec": {
   "display_name": "Python 3",
   "language": "python",
   "name": "python3"
  },
  "language_info": {
   "codemirror_mode": {
    "name": "ipython",
    "version": 3
   },
   "file_extension": ".py",
   "mimetype": "text/x-python",
   "name": "python",
   "nbconvert_exporter": "python",
   "pygments_lexer": "ipython3",
   "version": "3.13.0"
  }
 },
 "nbformat": 4,
 "nbformat_minor": 2
}
