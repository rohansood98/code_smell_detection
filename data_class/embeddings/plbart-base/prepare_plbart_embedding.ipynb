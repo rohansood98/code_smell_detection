{
 "cells": [
  {
   "cell_type": "code",
   "execution_count": 41,
   "metadata": {},
   "outputs": [],
   "source": [
    "import pandas as pd\n",
    "import pickle"
   ]
  },
  {
   "cell_type": "code",
   "execution_count": 42,
   "metadata": {},
   "outputs": [
    {
     "name": "stderr",
     "output_type": "stream",
     "text": [
      "/var/folders/d8/cr798cb57kzd5kz_r8g8jm380000gn/T/ipykernel_34947/2512578579.py:3: DeprecationWarning: numpy.core.numeric is deprecated and has been renamed to numpy._core.numeric. The numpy._core namespace contains private NumPy internals and its use is discouraged, as NumPy internals can change without warning in any release. In practice, most real-world usage of numpy.core is to access functionality in the public NumPy API. If that is the case, use the public NumPy API. If not, you are using NumPy internals. If you would still like to access an internal attribute, use numpy._core.numeric._frombuffer.\n",
      "  df = pickle.load(fh)\n"
     ]
    }
   ],
   "source": [
    "file_path = \"/Users/mac/Desktop/Code_Smell_Detection/dataset/data_class/plbart_base_embeddings/df_dc_embeded_by_line_plbart.pkl\"\n",
    "with open(file_path, \"rb\") as fh:\n",
    "  df = pickle.load(fh)"
   ]
  },
  {
   "cell_type": "code",
   "execution_count": 43,
   "metadata": {},
   "outputs": [
    {
     "data": {
      "text/html": [
       "<div>\n",
       "<style scoped>\n",
       "    .dataframe tbody tr th:only-of-type {\n",
       "        vertical-align: middle;\n",
       "    }\n",
       "\n",
       "    .dataframe tbody tr th {\n",
       "        vertical-align: top;\n",
       "    }\n",
       "\n",
       "    .dataframe thead th {\n",
       "        text-align: right;\n",
       "    }\n",
       "</style>\n",
       "<table border=\"1\" class=\"dataframe\">\n",
       "  <thead>\n",
       "    <tr style=\"text-align: right;\">\n",
       "      <th></th>\n",
       "      <th>sample_id</th>\n",
       "      <th>severity</th>\n",
       "      <th>method</th>\n",
       "      <th>label</th>\n",
       "      <th>embeded_sequence_sum</th>\n",
       "      <th>embeded_sequence_avg</th>\n",
       "    </tr>\n",
       "  </thead>\n",
       "  <tbody>\n",
       "    <tr>\n",
       "      <th>0</th>\n",
       "      <td>8077</td>\n",
       "      <td>critical</td>\n",
       "      <td>public class DruidPooledCallableStatement exte...</td>\n",
       "      <td>1</td>\n",
       "      <td>[[710.2053833007812, -799.0264892578125, 321.9...</td>\n",
       "      <td>[[0.7653075456619263, -0.8610199093818665, 0.3...</td>\n",
       "    </tr>\n",
       "    <tr>\n",
       "      <th>1</th>\n",
       "      <td>5553</td>\n",
       "      <td>critical</td>\n",
       "      <td>public interface IAopReferenceModel {\\n\\t\\n\\tv...</td>\n",
       "      <td>1</td>\n",
       "      <td>[[32.499385833740234, -1.5158289670944214, -24...</td>\n",
       "      <td>[[1.8055214881896973, -0.08421272039413452, -1...</td>\n",
       "    </tr>\n",
       "    <tr>\n",
       "      <th>2</th>\n",
       "      <td>9341</td>\n",
       "      <td>critical</td>\n",
       "      <td>@XmlAccessorType(XmlAccessType.FIELD)\\n@XmlTyp...</td>\n",
       "      <td>1</td>\n",
       "      <td>[[124.71330261230469, -38.58845138549805, -42....</td>\n",
       "      <td>[[3.3706297874450684, -1.042931079864502, -1.1...</td>\n",
       "    </tr>\n",
       "    <tr>\n",
       "      <th>3</th>\n",
       "      <td>10419</td>\n",
       "      <td>critical</td>\n",
       "      <td>public class Ipam {\\n  private String driver;\\...</td>\n",
       "      <td>1</td>\n",
       "      <td>[[130.8542022705078, -74.68362426757812, 18.32...</td>\n",
       "      <td>[[1.9243265390396118, -1.0982885360717773, 0.2...</td>\n",
       "    </tr>\n",
       "    <tr>\n",
       "      <th>4</th>\n",
       "      <td>12232</td>\n",
       "      <td>critical</td>\n",
       "      <td>public class DruidPooledCallableStatement exte...</td>\n",
       "      <td>1</td>\n",
       "      <td>[[710.2053833007812, -799.0264892578125, 321.9...</td>\n",
       "      <td>[[0.7653075456619263, -0.8610199093818665, 0.3...</td>\n",
       "    </tr>\n",
       "  </tbody>\n",
       "</table>\n",
       "</div>"
      ],
      "text/plain": [
       "   sample_id  severity                                             method  \\\n",
       "0       8077  critical  public class DruidPooledCallableStatement exte...   \n",
       "1       5553  critical  public interface IAopReferenceModel {\\n\\t\\n\\tv...   \n",
       "2       9341  critical  @XmlAccessorType(XmlAccessType.FIELD)\\n@XmlTyp...   \n",
       "3      10419  critical  public class Ipam {\\n  private String driver;\\...   \n",
       "4      12232  critical  public class DruidPooledCallableStatement exte...   \n",
       "\n",
       "   label                               embeded_sequence_sum  \\\n",
       "0      1  [[710.2053833007812, -799.0264892578125, 321.9...   \n",
       "1      1  [[32.499385833740234, -1.5158289670944214, -24...   \n",
       "2      1  [[124.71330261230469, -38.58845138549805, -42....   \n",
       "3      1  [[130.8542022705078, -74.68362426757812, 18.32...   \n",
       "4      1  [[710.2053833007812, -799.0264892578125, 321.9...   \n",
       "\n",
       "                                embeded_sequence_avg  \n",
       "0  [[0.7653075456619263, -0.8610199093818665, 0.3...  \n",
       "1  [[1.8055214881896973, -0.08421272039413452, -1...  \n",
       "2  [[3.3706297874450684, -1.042931079864502, -1.1...  \n",
       "3  [[1.9243265390396118, -1.0982885360717773, 0.2...  \n",
       "4  [[0.7653075456619263, -0.8610199093818665, 0.3...  "
      ]
     },
     "execution_count": 43,
     "metadata": {},
     "output_type": "execute_result"
    }
   ],
   "source": [
    "df.head()"
   ]
  },
  {
   "cell_type": "code",
   "execution_count": 44,
   "metadata": {},
   "outputs": [
    {
     "data": {
      "text/html": [
       "<div>\n",
       "<style scoped>\n",
       "    .dataframe tbody tr th:only-of-type {\n",
       "        vertical-align: middle;\n",
       "    }\n",
       "\n",
       "    .dataframe tbody tr th {\n",
       "        vertical-align: top;\n",
       "    }\n",
       "\n",
       "    .dataframe thead th {\n",
       "        text-align: right;\n",
       "    }\n",
       "</style>\n",
       "<table border=\"1\" class=\"dataframe\">\n",
       "  <thead>\n",
       "    <tr style=\"text-align: right;\">\n",
       "      <th></th>\n",
       "      <th>sample_id</th>\n",
       "      <th>severity</th>\n",
       "      <th>label</th>\n",
       "      <th>embeded_sequence_sum</th>\n",
       "    </tr>\n",
       "  </thead>\n",
       "  <tbody>\n",
       "    <tr>\n",
       "      <th>0</th>\n",
       "      <td>8077</td>\n",
       "      <td>critical</td>\n",
       "      <td>1</td>\n",
       "      <td>[[710.2053833007812, -799.0264892578125, 321.9...</td>\n",
       "    </tr>\n",
       "    <tr>\n",
       "      <th>1</th>\n",
       "      <td>5553</td>\n",
       "      <td>critical</td>\n",
       "      <td>1</td>\n",
       "      <td>[[32.499385833740234, -1.5158289670944214, -24...</td>\n",
       "    </tr>\n",
       "    <tr>\n",
       "      <th>2</th>\n",
       "      <td>9341</td>\n",
       "      <td>critical</td>\n",
       "      <td>1</td>\n",
       "      <td>[[124.71330261230469, -38.58845138549805, -42....</td>\n",
       "    </tr>\n",
       "    <tr>\n",
       "      <th>3</th>\n",
       "      <td>10419</td>\n",
       "      <td>critical</td>\n",
       "      <td>1</td>\n",
       "      <td>[[130.8542022705078, -74.68362426757812, 18.32...</td>\n",
       "    </tr>\n",
       "    <tr>\n",
       "      <th>4</th>\n",
       "      <td>12232</td>\n",
       "      <td>critical</td>\n",
       "      <td>1</td>\n",
       "      <td>[[710.2053833007812, -799.0264892578125, 321.9...</td>\n",
       "    </tr>\n",
       "  </tbody>\n",
       "</table>\n",
       "</div>"
      ],
      "text/plain": [
       "   sample_id  severity  label  \\\n",
       "0       8077  critical      1   \n",
       "1       5553  critical      1   \n",
       "2       9341  critical      1   \n",
       "3      10419  critical      1   \n",
       "4      12232  critical      1   \n",
       "\n",
       "                                embeded_sequence_sum  \n",
       "0  [[710.2053833007812, -799.0264892578125, 321.9...  \n",
       "1  [[32.499385833740234, -1.5158289670944214, -24...  \n",
       "2  [[124.71330261230469, -38.58845138549805, -42....  \n",
       "3  [[130.8542022705078, -74.68362426757812, 18.32...  \n",
       "4  [[710.2053833007812, -799.0264892578125, 321.9...  "
      ]
     },
     "execution_count": 44,
     "metadata": {},
     "output_type": "execute_result"
    }
   ],
   "source": [
    "embeded_sum = df.loc[:, ['sample_id', 'severity', 'label', 'embeded_sequence_sum']]\n",
    "embeded_avg = df.loc[:, ['sample_id', 'severity', 'label', 'embeded_sequence_avg']]\n",
    "embeded_sum.head()"
   ]
  },
  {
   "cell_type": "code",
   "execution_count": 45,
   "metadata": {},
   "outputs": [
    {
     "name": "stdout",
     "output_type": "stream",
     "text": [
      "0    [[710.2053833007812, -799.0264892578125, 321.9...\n",
      "1    [[32.499385833740234, -1.5158289670944214, -24...\n",
      "2    [[124.71330261230469, -38.58845138549805, -42....\n",
      "3    [[130.8542022705078, -74.68362426757812, 18.32...\n",
      "4    [[710.2053833007812, -799.0264892578125, 321.9...\n",
      "Name: embeded_sequence_sum, dtype: object\n",
      "embeded_sequence_sum\n",
      "<class 'list'>    3694\n",
      "Name: count, dtype: int64\n"
     ]
    }
   ],
   "source": [
    "print(embeded_sum[\"embeded_sequence_sum\"].head())\n",
    "print(embeded_sum[\"embeded_sequence_sum\"].apply(type).value_counts())"
   ]
  },
  {
   "cell_type": "code",
   "execution_count": 46,
   "metadata": {},
   "outputs": [],
   "source": [
    "def process_embedding(x):\n",
    "    if x is None:\n",
    "        return []  \n",
    "    elif isinstance(x, pd.Series):\n",
    "        return \" \".join(map(str, x))\n",
    "    else:\n",
    "        return str(x)  \n",
    "\n",
    "embeded_sum[\"embeded_sequence_sum\"] = embeded_sum[\"embeded_sequence_sum\"].apply(process_embedding)\n"
   ]
  },
  {
   "cell_type": "code",
   "execution_count": 47,
   "metadata": {},
   "outputs": [
    {
     "name": "stdout",
     "output_type": "stream",
     "text": [
      "0    [[710.2053833007812, -799.0264892578125, 321.9...\n",
      "1    [[32.499385833740234, -1.5158289670944214, -24...\n",
      "2    [[124.71330261230469, -38.58845138549805, -42....\n",
      "3    [[130.8542022705078, -74.68362426757812, 18.32...\n",
      "4    [[710.2053833007812, -799.0264892578125, 321.9...\n",
      "Name: embeded_sequence_sum, dtype: object\n"
     ]
    }
   ],
   "source": [
    "print(embeded_sum[\"embeded_sequence_sum\"].head())"
   ]
  },
  {
   "cell_type": "code",
   "execution_count": 48,
   "metadata": {},
   "outputs": [],
   "source": [
    "embeded_sum[\"embeded_sequence_sum\"] = embeded_sum[\"embeded_sequence_sum\"].apply(\n",
    "    lambda x: \" \".join(str(i) for i in x) if isinstance(x, pd.Series) else str(x)\n",
    ")"
   ]
  },
  {
   "cell_type": "code",
   "execution_count": 49,
   "metadata": {},
   "outputs": [],
   "source": [
    "import re\n",
    "\n",
    "def parse_flat_embedding(embedding_str):\n",
    "    # Ensure input is a string\n",
    "    if not isinstance(embedding_str, str):\n",
    "        return []\n",
    "    try:\n",
    "        # Extract numerical values from the string\n",
    "        values = re.findall(r\"[-+]?\\d*\\.\\d+|\\d+\", embedding_str)\n",
    "        return [float(v) for v in values]\n",
    "    except Exception as e:\n",
    "        print(f\"Error parsing: {embedding_str} -> {e}\")\n",
    "        return []\n"
   ]
  },
  {
   "cell_type": "code",
   "execution_count": 50,
   "metadata": {},
   "outputs": [],
   "source": [
    "embeded_sum[\"embeded_sequence_sum\"] = embeded_sum[\"embeded_sequence_sum\"].apply(parse_flat_embedding)"
   ]
  },
  {
   "cell_type": "code",
   "execution_count": 51,
   "metadata": {},
   "outputs": [
    {
     "name": "stdout",
     "output_type": "stream",
     "text": [
      "Embedding length: 768\n",
      "Most common sequence length: 768\n",
      "Count of rows with this length: 3690\n"
     ]
    }
   ],
   "source": [
    "n = len(embeded_sum[\"embeded_sequence_sum\"][0])\n",
    "print(f\"Embedding length: {n}\")\n",
    "\n",
    "embed_lengths = embeded_sum[\"embeded_sequence_sum\"].apply(len)\n",
    "length_counts = embed_lengths.value_counts()\n",
    "most_common_length = length_counts.idxmax()\n",
    "\n",
    "n = most_common_length\n",
    "print(f\"Most common sequence length: {most_common_length}\")\n",
    "print(f\"Count of rows with this length: {length_counts[most_common_length]}\")\n"
   ]
  },
  {
   "cell_type": "code",
   "execution_count": 52,
   "metadata": {},
   "outputs": [
    {
     "name": "stdout",
     "output_type": "stream",
     "text": [
      "0    [710.2053833007812, -799.0264892578125, 321.91...\n",
      "1    [32.499385833740234, -1.5158289670944214, -24....\n",
      "2    [124.71330261230469, -38.58845138549805, -42.5...\n",
      "3    [130.8542022705078, -74.68362426757812, 18.322...\n",
      "4    [710.2053833007812, -799.0264892578125, 321.91...\n",
      "Name: embeded_sequence_sum, dtype: object\n"
     ]
    }
   ],
   "source": [
    " # Function to handle the trimming or padding of the sequence\n",
    "embeded_sum[\"embeded_sequence_sum\"] = embeded_sum[\"embeded_sequence_sum\"].apply(\n",
    "    lambda x: (x[:n] if len(x) > n else x + [0] * (n - len(x))) if isinstance(x, list) else [0] * n\n",
    ")\n",
    "\n",
    "print(embeded_sum[\"embeded_sequence_sum\"].head())"
   ]
  },
  {
   "cell_type": "code",
   "execution_count": 53,
   "metadata": {},
   "outputs": [
    {
     "name": "stdout",
     "output_type": "stream",
     "text": [
      "embeded_sequence_sum\n",
      "768    3694\n",
      "Name: count, dtype: int64\n"
     ]
    }
   ],
   "source": [
    "embed_lengths = embeded_sum[\"embeded_sequence_sum\"].apply(len)\n",
    "print(embed_lengths.value_counts())\n"
   ]
  },
  {
   "cell_type": "code",
   "execution_count": 54,
   "metadata": {},
   "outputs": [
    {
     "name": "stdout",
     "output_type": "stream",
     "text": [
      "        emb_1       emb_2       emb_3        emb_4        emb_5        emb_6  \\\n",
      "0  710.205383 -799.026489  321.919617 -1624.527222  2408.093262 -2533.795166   \n",
      "1   32.499386   -1.515829  -24.590275   -30.602459    47.787666   -27.378401   \n",
      "2  124.713303  -38.588451  -42.579781   -39.911690    85.068405   -40.210751   \n",
      "3  130.854202  -74.683624   18.322701   -92.782379   122.927406   -85.169540   \n",
      "4  710.205383 -799.026489  321.919617 -1624.527222  2408.093262 -2533.795166   \n",
      "\n",
      "        emb_7       emb_8       emb_9      emb_10  ...    emb_762     emb_763  \\\n",
      "0 -817.205566 -702.485046 -464.826233 -554.832153  ... -90.683929  149.631775   \n",
      "1  -21.693262   -6.852709  -29.279053  -34.747868  ... -26.822235    2.004940   \n",
      "2  -44.931362    6.869379  -48.874641  -76.863480  ...  45.405861   45.218468   \n",
      "3  -60.637974  -51.506363  -53.193283  -14.298395  ... -42.749687   43.243038   \n",
      "4 -817.205566 -702.485046 -464.826233 -554.832153  ... -90.683929  149.631775   \n",
      "\n",
      "       emb_764      emb_765      emb_766      emb_767      emb_768  label  \\\n",
      "0 -2021.500854 -3153.117676 -2010.092651  1909.142456  1098.878174      1   \n",
      "1   -24.598465   -17.089935   -55.195568    30.086657   -24.063192      1   \n",
      "2   -40.648548  -134.478836   -97.419083    32.619202    46.201210      1   \n",
      "3  -101.961884  -263.908386  -107.037132   140.791351    59.563663      1   \n",
      "4 -2021.500854 -3153.117676 -2010.092651  1909.142456  1098.878174      1   \n",
      "\n",
      "   sample_id  severity  \n",
      "0       8077  critical  \n",
      "1       5553  critical  \n",
      "2       9341  critical  \n",
      "3      10419  critical  \n",
      "4      12232  critical  \n",
      "\n",
      "[5 rows x 771 columns]\n"
     ]
    }
   ],
   "source": [
    "# Create column names for embeddings\n",
    "columns = [f'emb_{i+1}' for i in range(n)]\n",
    "\n",
    "# Create a DataFrame for embedding values\n",
    "data = pd.DataFrame(embeded_sum[\"embeded_sequence_sum\"].to_list(), columns=columns)\n",
    "\n",
    "# Add metadata columns\n",
    "data['label'] = embeded_sum['label']\n",
    "data['sample_id'] = embeded_sum['sample_id']\n",
    "data['severity'] = embeded_sum['severity']\n",
    "\n",
    "# Display the result\n",
    "print(data.head())\n"
   ]
  },
  {
   "cell_type": "code",
   "execution_count": 55,
   "metadata": {},
   "outputs": [],
   "source": [
    "dataset_path = '/Users/mac/Desktop/Code_Smell_Detection/dataset/data_class/plbart_base_embeddings/processed_embeddings/plbart_embed_line_by_line_sum.pkl'\n",
    "pd.to_pickle(data, dataset_path)"
   ]
  },
  {
   "cell_type": "code",
   "execution_count": 56,
   "metadata": {},
   "outputs": [
    {
     "name": "stdout",
     "output_type": "stream",
     "text": [
      "0    [[0.7653075456619263, -0.8610199093818665, 0.3...\n",
      "1    [[1.8055214881896973, -0.08421272039413452, -1...\n",
      "2    [[3.3706297874450684, -1.042931079864502, -1.1...\n",
      "3    [[1.9243265390396118, -1.0982885360717773, 0.2...\n",
      "4    [[0.7653075456619263, -0.8610199093818665, 0.3...\n",
      "Name: embeded_sequence_avg, dtype: object\n",
      "embeded_sequence_avg\n",
      "<class 'list'>    3694\n",
      "Name: count, dtype: int64\n"
     ]
    }
   ],
   "source": [
    "print(embeded_avg[\"embeded_sequence_avg\"].head())\n",
    "print(embeded_avg[\"embeded_sequence_avg\"].apply(type).value_counts())"
   ]
  },
  {
   "cell_type": "code",
   "execution_count": 57,
   "metadata": {},
   "outputs": [],
   "source": [
    "embeded_avg[\"embeded_sequence_avg\"] = embeded_avg[\"embeded_sequence_avg\"].apply(\n",
    "    lambda x: \" \".join(str(i) for i in x) if isinstance(x, pd.Series) else str(x)\n",
    ")"
   ]
  },
  {
   "cell_type": "code",
   "execution_count": 58,
   "metadata": {},
   "outputs": [
    {
     "name": "stdout",
     "output_type": "stream",
     "text": [
      "Embedding length: 15697\n"
     ]
    }
   ],
   "source": [
    "n = len(embeded_avg[\"embeded_sequence_avg\"][0])\n",
    "print(f\"Embedding length: {n}\")"
   ]
  },
  {
   "cell_type": "code",
   "execution_count": 59,
   "metadata": {},
   "outputs": [],
   "source": [
    "embeded_avg[\"embeded_sequence_avg\"] = embeded_avg[\"embeded_sequence_avg\"].apply(parse_flat_embedding)"
   ]
  },
  {
   "cell_type": "code",
   "execution_count": 60,
   "metadata": {},
   "outputs": [
    {
     "name": "stdout",
     "output_type": "stream",
     "text": [
      "Most common sequence length: 768\n",
      "Count of rows with this length: 3588\n"
     ]
    }
   ],
   "source": [
    "embed_lengths = embeded_avg[\"embeded_sequence_avg\"].apply(len)\n",
    "length_counts = embed_lengths.value_counts()\n",
    "most_common_length = length_counts.idxmax()\n",
    "\n",
    "n = most_common_length\n",
    "print(f\"Most common sequence length: {most_common_length}\")\n",
    "print(f\"Count of rows with this length: {length_counts[most_common_length]}\")"
   ]
  },
  {
   "cell_type": "code",
   "execution_count": 61,
   "metadata": {},
   "outputs": [
    {
     "name": "stdout",
     "output_type": "stream",
     "text": [
      "0    [0.7653075456619263, -0.8610199093818665, 0.34...\n",
      "1    [1.8055214881896973, -0.08421272039413452, -1....\n",
      "2    [3.3706297874450684, -1.042931079864502, -1.15...\n",
      "3    [1.9243265390396118, -1.0982885360717773, 0.26...\n",
      "4    [0.7653075456619263, -0.8610199093818665, 0.34...\n",
      "Name: embeded_sequence_avg, dtype: object\n"
     ]
    }
   ],
   "source": [
    "# Function to handle the trimming or padding of the sequence\n",
    "embeded_avg[\"embeded_sequence_avg\"] = embeded_avg[\"embeded_sequence_avg\"].apply(\n",
    "    lambda x: (x[:n] if len(x) > n else x + [0] * (n - len(x))) if isinstance(x, list) else [0] * n\n",
    ")\n",
    "\n",
    "print(embeded_avg[\"embeded_sequence_avg\"].head())"
   ]
  },
  {
   "cell_type": "code",
   "execution_count": 62,
   "metadata": {},
   "outputs": [
    {
     "name": "stdout",
     "output_type": "stream",
     "text": [
      "embeded_sequence_avg\n",
      "768    3694\n",
      "Name: count, dtype: int64\n"
     ]
    }
   ],
   "source": [
    "embed_lengths = embeded_avg[\"embeded_sequence_avg\"].apply(len)\n",
    "print(embed_lengths.value_counts())"
   ]
  },
  {
   "cell_type": "code",
   "execution_count": 63,
   "metadata": {},
   "outputs": [
    {
     "data": {
      "text/html": [
       "<div>\n",
       "<style scoped>\n",
       "    .dataframe tbody tr th:only-of-type {\n",
       "        vertical-align: middle;\n",
       "    }\n",
       "\n",
       "    .dataframe tbody tr th {\n",
       "        vertical-align: top;\n",
       "    }\n",
       "\n",
       "    .dataframe thead th {\n",
       "        text-align: right;\n",
       "    }\n",
       "</style>\n",
       "<table border=\"1\" class=\"dataframe\">\n",
       "  <thead>\n",
       "    <tr style=\"text-align: right;\">\n",
       "      <th></th>\n",
       "      <th>emb_1</th>\n",
       "      <th>emb_2</th>\n",
       "      <th>emb_3</th>\n",
       "      <th>emb_4</th>\n",
       "      <th>emb_5</th>\n",
       "      <th>emb_6</th>\n",
       "      <th>emb_7</th>\n",
       "      <th>emb_8</th>\n",
       "      <th>emb_9</th>\n",
       "      <th>emb_10</th>\n",
       "      <th>...</th>\n",
       "      <th>emb_762</th>\n",
       "      <th>emb_763</th>\n",
       "      <th>emb_764</th>\n",
       "      <th>emb_765</th>\n",
       "      <th>emb_766</th>\n",
       "      <th>emb_767</th>\n",
       "      <th>emb_768</th>\n",
       "      <th>label</th>\n",
       "      <th>sample_id</th>\n",
       "      <th>severity</th>\n",
       "    </tr>\n",
       "  </thead>\n",
       "  <tbody>\n",
       "    <tr>\n",
       "      <th>0</th>\n",
       "      <td>0.765308</td>\n",
       "      <td>-0.861020</td>\n",
       "      <td>0.346896</td>\n",
       "      <td>-1.750568</td>\n",
       "      <td>2.594928</td>\n",
       "      <td>-2.730383</td>\n",
       "      <td>-0.880609</td>\n",
       "      <td>-0.756988</td>\n",
       "      <td>-0.500890</td>\n",
       "      <td>-0.597879</td>\n",
       "      <td>...</td>\n",
       "      <td>-0.097720</td>\n",
       "      <td>0.161241</td>\n",
       "      <td>-2.178341</td>\n",
       "      <td>-3.397756</td>\n",
       "      <td>-2.166048</td>\n",
       "      <td>2.057266</td>\n",
       "      <td>1.184136</td>\n",
       "      <td>1</td>\n",
       "      <td>8077</td>\n",
       "      <td>critical</td>\n",
       "    </tr>\n",
       "    <tr>\n",
       "      <th>1</th>\n",
       "      <td>1.805521</td>\n",
       "      <td>-0.084213</td>\n",
       "      <td>-1.366126</td>\n",
       "      <td>-1.700137</td>\n",
       "      <td>2.654870</td>\n",
       "      <td>-1.521022</td>\n",
       "      <td>-1.205181</td>\n",
       "      <td>-0.380706</td>\n",
       "      <td>-1.626614</td>\n",
       "      <td>-1.930437</td>\n",
       "      <td>...</td>\n",
       "      <td>-1.490124</td>\n",
       "      <td>0.111386</td>\n",
       "      <td>-1.366581</td>\n",
       "      <td>-0.949441</td>\n",
       "      <td>-3.066421</td>\n",
       "      <td>1.671481</td>\n",
       "      <td>-1.336844</td>\n",
       "      <td>1</td>\n",
       "      <td>5553</td>\n",
       "      <td>critical</td>\n",
       "    </tr>\n",
       "    <tr>\n",
       "      <th>2</th>\n",
       "      <td>3.370630</td>\n",
       "      <td>-1.042931</td>\n",
       "      <td>-1.150805</td>\n",
       "      <td>-1.078694</td>\n",
       "      <td>2.299146</td>\n",
       "      <td>-1.086777</td>\n",
       "      <td>-1.214361</td>\n",
       "      <td>0.185659</td>\n",
       "      <td>-1.320936</td>\n",
       "      <td>-2.077391</td>\n",
       "      <td>...</td>\n",
       "      <td>1.227185</td>\n",
       "      <td>1.222121</td>\n",
       "      <td>-1.098609</td>\n",
       "      <td>-3.634563</td>\n",
       "      <td>-2.632948</td>\n",
       "      <td>0.881600</td>\n",
       "      <td>1.248681</td>\n",
       "      <td>1</td>\n",
       "      <td>9341</td>\n",
       "      <td>critical</td>\n",
       "    </tr>\n",
       "    <tr>\n",
       "      <th>3</th>\n",
       "      <td>1.924327</td>\n",
       "      <td>-1.098289</td>\n",
       "      <td>0.269451</td>\n",
       "      <td>-1.364447</td>\n",
       "      <td>1.807756</td>\n",
       "      <td>-1.252493</td>\n",
       "      <td>-0.891735</td>\n",
       "      <td>-0.757447</td>\n",
       "      <td>-0.782254</td>\n",
       "      <td>-0.210271</td>\n",
       "      <td>...</td>\n",
       "      <td>-0.628672</td>\n",
       "      <td>0.635927</td>\n",
       "      <td>-1.499439</td>\n",
       "      <td>-3.881006</td>\n",
       "      <td>-1.574075</td>\n",
       "      <td>2.070461</td>\n",
       "      <td>0.875936</td>\n",
       "      <td>1</td>\n",
       "      <td>10419</td>\n",
       "      <td>critical</td>\n",
       "    </tr>\n",
       "    <tr>\n",
       "      <th>4</th>\n",
       "      <td>0.765308</td>\n",
       "      <td>-0.861020</td>\n",
       "      <td>0.346896</td>\n",
       "      <td>-1.750568</td>\n",
       "      <td>2.594928</td>\n",
       "      <td>-2.730383</td>\n",
       "      <td>-0.880609</td>\n",
       "      <td>-0.756988</td>\n",
       "      <td>-0.500890</td>\n",
       "      <td>-0.597879</td>\n",
       "      <td>...</td>\n",
       "      <td>-0.097720</td>\n",
       "      <td>0.161241</td>\n",
       "      <td>-2.178341</td>\n",
       "      <td>-3.397756</td>\n",
       "      <td>-2.166048</td>\n",
       "      <td>2.057266</td>\n",
       "      <td>1.184136</td>\n",
       "      <td>1</td>\n",
       "      <td>12232</td>\n",
       "      <td>critical</td>\n",
       "    </tr>\n",
       "  </tbody>\n",
       "</table>\n",
       "<p>5 rows × 771 columns</p>\n",
       "</div>"
      ],
      "text/plain": [
       "      emb_1     emb_2     emb_3     emb_4     emb_5     emb_6     emb_7  \\\n",
       "0  0.765308 -0.861020  0.346896 -1.750568  2.594928 -2.730383 -0.880609   \n",
       "1  1.805521 -0.084213 -1.366126 -1.700137  2.654870 -1.521022 -1.205181   \n",
       "2  3.370630 -1.042931 -1.150805 -1.078694  2.299146 -1.086777 -1.214361   \n",
       "3  1.924327 -1.098289  0.269451 -1.364447  1.807756 -1.252493 -0.891735   \n",
       "4  0.765308 -0.861020  0.346896 -1.750568  2.594928 -2.730383 -0.880609   \n",
       "\n",
       "      emb_8     emb_9    emb_10  ...   emb_762   emb_763   emb_764   emb_765  \\\n",
       "0 -0.756988 -0.500890 -0.597879  ... -0.097720  0.161241 -2.178341 -3.397756   \n",
       "1 -0.380706 -1.626614 -1.930437  ... -1.490124  0.111386 -1.366581 -0.949441   \n",
       "2  0.185659 -1.320936 -2.077391  ...  1.227185  1.222121 -1.098609 -3.634563   \n",
       "3 -0.757447 -0.782254 -0.210271  ... -0.628672  0.635927 -1.499439 -3.881006   \n",
       "4 -0.756988 -0.500890 -0.597879  ... -0.097720  0.161241 -2.178341 -3.397756   \n",
       "\n",
       "    emb_766   emb_767   emb_768  label  sample_id  severity  \n",
       "0 -2.166048  2.057266  1.184136      1       8077  critical  \n",
       "1 -3.066421  1.671481 -1.336844      1       5553  critical  \n",
       "2 -2.632948  0.881600  1.248681      1       9341  critical  \n",
       "3 -1.574075  2.070461  0.875936      1      10419  critical  \n",
       "4 -2.166048  2.057266  1.184136      1      12232  critical  \n",
       "\n",
       "[5 rows x 771 columns]"
      ]
     },
     "execution_count": 63,
     "metadata": {},
     "output_type": "execute_result"
    }
   ],
   "source": [
    "columns = [f'emb_{i+1}' for i in range(n)]\n",
    "data = pd.DataFrame(embeded_avg[\"embeded_sequence_avg\"].to_list(), columns=columns)\n",
    "data['label'] = embeded_avg['label']\n",
    "data['sample_id'] = embeded_avg['sample_id']\n",
    "data['severity'] = embeded_avg['severity']\n",
    "data.head()"
   ]
  },
  {
   "cell_type": "code",
   "execution_count": 64,
   "metadata": {},
   "outputs": [],
   "source": [
    "dataset_path = '/Users/mac/Desktop/Code_Smell_Detection/dataset/data_class/plbart_base_embeddings/processed_embeddings/plbart_embed_line_by_line_avg.pkl'\n",
    "pd.to_pickle(data, dataset_path)"
   ]
  }
 ],
 "metadata": {
  "kernelspec": {
   "display_name": "Python 3",
   "language": "python",
   "name": "python3"
  },
  "language_info": {
   "codemirror_mode": {
    "name": "ipython",
    "version": 3
   },
   "file_extension": ".py",
   "mimetype": "text/x-python",
   "name": "python",
   "nbconvert_exporter": "python",
   "pygments_lexer": "ipython3",
   "version": "3.13.0"
  }
 },
 "nbformat": 4,
 "nbformat_minor": 2
}
