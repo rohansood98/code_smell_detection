{
 "cells": [
  {
   "cell_type": "code",
   "execution_count": 1,
   "metadata": {},
   "outputs": [],
   "source": [
    "import pandas as pd\n",
    "import pickle"
   ]
  },
  {
   "cell_type": "code",
   "execution_count": 2,
   "metadata": {},
   "outputs": [
    {
     "name": "stderr",
     "output_type": "stream",
     "text": [
      "/var/folders/d8/cr798cb57kzd5kz_r8g8jm380000gn/T/ipykernel_32941/3914566794.py:3: DeprecationWarning: numpy.core.numeric is deprecated and has been renamed to numpy._core.numeric. The numpy._core namespace contains private NumPy internals and its use is discouraged, as NumPy internals can change without warning in any release. In practice, most real-world usage of numpy.core is to access functionality in the public NumPy API. If that is the case, use the public NumPy API. If not, you are using NumPy internals. If you would still like to access an internal attribute, use numpy._core.numeric._frombuffer.\n",
      "  df = pickle.load(fh)\n"
     ]
    }
   ],
   "source": [
    "file_path = \"/Users/mac/Desktop/Code_Smell_Detection/dataset/feature_envy/codeT5_embeddings/df_fe_embeded_by_line_base.pkl\"\n",
    "with open(file_path, \"rb\") as fh:\n",
    "  df = pickle.load(fh)"
   ]
  },
  {
   "cell_type": "code",
   "execution_count": 3,
   "metadata": {},
   "outputs": [
    {
     "data": {
      "text/html": [
       "<div>\n",
       "<style scoped>\n",
       "    .dataframe tbody tr th:only-of-type {\n",
       "        vertical-align: middle;\n",
       "    }\n",
       "\n",
       "    .dataframe tbody tr th {\n",
       "        vertical-align: top;\n",
       "    }\n",
       "\n",
       "    .dataframe thead th {\n",
       "        text-align: right;\n",
       "    }\n",
       "</style>\n",
       "<table border=\"1\" class=\"dataframe\">\n",
       "  <thead>\n",
       "    <tr style=\"text-align: right;\">\n",
       "      <th></th>\n",
       "      <th>sample_id</th>\n",
       "      <th>severity</th>\n",
       "      <th>method</th>\n",
       "      <th>label</th>\n",
       "      <th>embeded_sequence_sum</th>\n",
       "      <th>embeded_sequence_avg</th>\n",
       "    </tr>\n",
       "  </thead>\n",
       "  <tbody>\n",
       "    <tr>\n",
       "      <th>0</th>\n",
       "      <td>12150</td>\n",
       "      <td>critical</td>\n",
       "      <td>public SystemDiagnosticsDTO createSystemDi...</td>\n",
       "      <td>1</td>\n",
       "      <td>0      -7.521571\n",
       "1      -7.762787\n",
       "2     -10.40...</td>\n",
       "      <td>0     -0.119390\n",
       "1     -0.123219\n",
       "2     -0.16519...</td>\n",
       "    </tr>\n",
       "    <tr>\n",
       "      <th>1</th>\n",
       "      <td>10168</td>\n",
       "      <td>critical</td>\n",
       "      <td>protected void addRequiredAlertProperties(Se...</td>\n",
       "      <td>1</td>\n",
       "      <td>0     -0.616862\n",
       "1     -1.671327\n",
       "2     -0.71217...</td>\n",
       "      <td>0     -0.123372\n",
       "1     -0.334265\n",
       "2     -0.14243...</td>\n",
       "    </tr>\n",
       "    <tr>\n",
       "      <th>2</th>\n",
       "      <td>12783</td>\n",
       "      <td>critical</td>\n",
       "      <td>@SuppressWarnings(\"try\")\\n    private void...</td>\n",
       "      <td>1</td>\n",
       "      <td>0     -11.226764\n",
       "1     -15.170425\n",
       "2     -18.57...</td>\n",
       "      <td>0     -0.091274\n",
       "1     -0.123337\n",
       "2     -0.15097...</td>\n",
       "    </tr>\n",
       "    <tr>\n",
       "      <th>3</th>\n",
       "      <td>12754</td>\n",
       "      <td>critical</td>\n",
       "      <td>public void validateDepositDetailForUpdate...</td>\n",
       "      <td>1</td>\n",
       "      <td>0      -7.613076\n",
       "1     -22.431355\n",
       "2     -27.73...</td>\n",
       "      <td>0     -0.067974\n",
       "1     -0.200280\n",
       "2     -0.24763...</td>\n",
       "    </tr>\n",
       "    <tr>\n",
       "      <th>4</th>\n",
       "      <td>4277</td>\n",
       "      <td>critical</td>\n",
       "      <td>@Override\\n    public ListenableFuture&lt;Voi...</td>\n",
       "      <td>1</td>\n",
       "      <td>0      -7.992052\n",
       "1      -9.275466\n",
       "2     -14.10...</td>\n",
       "      <td>0     -0.103793\n",
       "1     -0.120461\n",
       "2     -0.18320...</td>\n",
       "    </tr>\n",
       "  </tbody>\n",
       "</table>\n",
       "</div>"
      ],
      "text/plain": [
       "   sample_id  severity                                             method  \\\n",
       "0      12150  critical      public SystemDiagnosticsDTO createSystemDi...   \n",
       "1      10168  critical    protected void addRequiredAlertProperties(Se...   \n",
       "2      12783  critical      @SuppressWarnings(\"try\")\\n    private void...   \n",
       "3      12754  critical      public void validateDepositDetailForUpdate...   \n",
       "4       4277  critical      @Override\\n    public ListenableFuture<Voi...   \n",
       "\n",
       "   label                               embeded_sequence_sum  \\\n",
       "0      1  0      -7.521571\n",
       "1      -7.762787\n",
       "2     -10.40...   \n",
       "1      1  0     -0.616862\n",
       "1     -1.671327\n",
       "2     -0.71217...   \n",
       "2      1  0     -11.226764\n",
       "1     -15.170425\n",
       "2     -18.57...   \n",
       "3      1  0      -7.613076\n",
       "1     -22.431355\n",
       "2     -27.73...   \n",
       "4      1  0      -7.992052\n",
       "1      -9.275466\n",
       "2     -14.10...   \n",
       "\n",
       "                                embeded_sequence_avg  \n",
       "0  0     -0.119390\n",
       "1     -0.123219\n",
       "2     -0.16519...  \n",
       "1  0     -0.123372\n",
       "1     -0.334265\n",
       "2     -0.14243...  \n",
       "2  0     -0.091274\n",
       "1     -0.123337\n",
       "2     -0.15097...  \n",
       "3  0     -0.067974\n",
       "1     -0.200280\n",
       "2     -0.24763...  \n",
       "4  0     -0.103793\n",
       "1     -0.120461\n",
       "2     -0.18320...  "
      ]
     },
     "execution_count": 3,
     "metadata": {},
     "output_type": "execute_result"
    }
   ],
   "source": [
    "df.head()"
   ]
  },
  {
   "cell_type": "code",
   "execution_count": 4,
   "metadata": {},
   "outputs": [
    {
     "data": {
      "text/html": [
       "<div>\n",
       "<style scoped>\n",
       "    .dataframe tbody tr th:only-of-type {\n",
       "        vertical-align: middle;\n",
       "    }\n",
       "\n",
       "    .dataframe tbody tr th {\n",
       "        vertical-align: top;\n",
       "    }\n",
       "\n",
       "    .dataframe thead th {\n",
       "        text-align: right;\n",
       "    }\n",
       "</style>\n",
       "<table border=\"1\" class=\"dataframe\">\n",
       "  <thead>\n",
       "    <tr style=\"text-align: right;\">\n",
       "      <th></th>\n",
       "      <th>sample_id</th>\n",
       "      <th>severity</th>\n",
       "      <th>label</th>\n",
       "      <th>embeded_sequence_sum</th>\n",
       "    </tr>\n",
       "  </thead>\n",
       "  <tbody>\n",
       "    <tr>\n",
       "      <th>0</th>\n",
       "      <td>12150</td>\n",
       "      <td>critical</td>\n",
       "      <td>1</td>\n",
       "      <td>0      -7.521571\n",
       "1      -7.762787\n",
       "2     -10.40...</td>\n",
       "    </tr>\n",
       "    <tr>\n",
       "      <th>1</th>\n",
       "      <td>10168</td>\n",
       "      <td>critical</td>\n",
       "      <td>1</td>\n",
       "      <td>0     -0.616862\n",
       "1     -1.671327\n",
       "2     -0.71217...</td>\n",
       "    </tr>\n",
       "    <tr>\n",
       "      <th>2</th>\n",
       "      <td>12783</td>\n",
       "      <td>critical</td>\n",
       "      <td>1</td>\n",
       "      <td>0     -11.226764\n",
       "1     -15.170425\n",
       "2     -18.57...</td>\n",
       "    </tr>\n",
       "    <tr>\n",
       "      <th>3</th>\n",
       "      <td>12754</td>\n",
       "      <td>critical</td>\n",
       "      <td>1</td>\n",
       "      <td>0      -7.613076\n",
       "1     -22.431355\n",
       "2     -27.73...</td>\n",
       "    </tr>\n",
       "    <tr>\n",
       "      <th>4</th>\n",
       "      <td>4277</td>\n",
       "      <td>critical</td>\n",
       "      <td>1</td>\n",
       "      <td>0      -7.992052\n",
       "1      -9.275466\n",
       "2     -14.10...</td>\n",
       "    </tr>\n",
       "  </tbody>\n",
       "</table>\n",
       "</div>"
      ],
      "text/plain": [
       "   sample_id  severity  label  \\\n",
       "0      12150  critical      1   \n",
       "1      10168  critical      1   \n",
       "2      12783  critical      1   \n",
       "3      12754  critical      1   \n",
       "4       4277  critical      1   \n",
       "\n",
       "                                embeded_sequence_sum  \n",
       "0  0      -7.521571\n",
       "1      -7.762787\n",
       "2     -10.40...  \n",
       "1  0     -0.616862\n",
       "1     -1.671327\n",
       "2     -0.71217...  \n",
       "2  0     -11.226764\n",
       "1     -15.170425\n",
       "2     -18.57...  \n",
       "3  0      -7.613076\n",
       "1     -22.431355\n",
       "2     -27.73...  \n",
       "4  0      -7.992052\n",
       "1      -9.275466\n",
       "2     -14.10...  "
      ]
     },
     "execution_count": 4,
     "metadata": {},
     "output_type": "execute_result"
    }
   ],
   "source": [
    "embeded_sum = df.loc[:, ['sample_id', 'severity', 'label', 'embeded_sequence_sum']]\n",
    "embeded_avg = df.loc[:, ['sample_id', 'severity', 'label', 'embeded_sequence_avg']]\n",
    "embeded_sum.head()"
   ]
  },
  {
   "cell_type": "code",
   "execution_count": 5,
   "metadata": {},
   "outputs": [
    {
     "name": "stdout",
     "output_type": "stream",
     "text": [
      "0    0      -7.521571\n",
      "1      -7.762787\n",
      "2     -10.40...\n",
      "1    0     -0.616862\n",
      "1     -1.671327\n",
      "2     -0.71217...\n",
      "2    0     -11.226764\n",
      "1     -15.170425\n",
      "2     -18.57...\n",
      "3    0      -7.613076\n",
      "1     -22.431355\n",
      "2     -27.73...\n",
      "4    0      -7.992052\n",
      "1      -9.275466\n",
      "2     -14.10...\n",
      "Name: embeded_sequence_sum, dtype: object\n",
      "embeded_sequence_sum\n",
      "<class 'pandas.core.series.Series'>    3027\n",
      "Name: count, dtype: int64\n"
     ]
    }
   ],
   "source": [
    "print(embeded_sum[\"embeded_sequence_sum\"].head())\n",
    "print(embeded_sum[\"embeded_sequence_sum\"].apply(type).value_counts())"
   ]
  },
  {
   "cell_type": "code",
   "execution_count": 6,
   "metadata": {},
   "outputs": [],
   "source": [
    "def process_embedding(x):\n",
    "    if x is None:\n",
    "        return []  \n",
    "    elif isinstance(x, pd.Series):\n",
    "        return \" \".join(map(str, x))\n",
    "    else:\n",
    "        return str(x)  \n",
    "\n",
    "embeded_sum[\"embeded_sequence_sum\"] = embeded_sum[\"embeded_sequence_sum\"].apply(process_embedding)\n"
   ]
  },
  {
   "cell_type": "code",
   "execution_count": 7,
   "metadata": {},
   "outputs": [
    {
     "name": "stdout",
     "output_type": "stream",
     "text": [
      "0    -7.521571159362793 -7.762787342071533 -10.4074...\n",
      "1    -0.6168618202209473 -1.6713271141052246 -0.712...\n",
      "2    -11.226763725280762 -15.170425415039062 -18.57...\n",
      "3    -7.613076210021973 -22.431354522705078 -27.734...\n",
      "4    -7.992051601409912 -9.275465965270996 -14.1064...\n",
      "Name: embeded_sequence_sum, dtype: object\n"
     ]
    }
   ],
   "source": [
    "print(embeded_sum[\"embeded_sequence_sum\"].head())"
   ]
  },
  {
   "cell_type": "code",
   "execution_count": 8,
   "metadata": {},
   "outputs": [],
   "source": [
    "embeded_sum[\"embeded_sequence_sum\"] = embeded_sum[\"embeded_sequence_sum\"].apply(\n",
    "    lambda x: \" \".join(str(i) for i in x) if isinstance(x, pd.Series) else str(x)\n",
    ")"
   ]
  },
  {
   "cell_type": "code",
   "execution_count": 9,
   "metadata": {},
   "outputs": [],
   "source": [
    "import re\n",
    "\n",
    "def parse_flat_embedding(embedding_str):\n",
    "    # Ensure input is a string\n",
    "    if not isinstance(embedding_str, str):\n",
    "        return []\n",
    "    try:\n",
    "        # Extract numerical values from the string\n",
    "        values = re.findall(r\"[-+]?\\d*\\.\\d+|\\d+\", embedding_str)\n",
    "        return [float(v) for v in values]\n",
    "    except Exception as e:\n",
    "        print(f\"Error parsing: {embedding_str} -> {e}\")\n",
    "        return []\n"
   ]
  },
  {
   "cell_type": "code",
   "execution_count": 10,
   "metadata": {},
   "outputs": [],
   "source": [
    "embeded_sum[\"embeded_sequence_sum\"] = embeded_sum[\"embeded_sequence_sum\"].apply(parse_flat_embedding)"
   ]
  },
  {
   "cell_type": "code",
   "execution_count": 11,
   "metadata": {},
   "outputs": [
    {
     "name": "stdout",
     "output_type": "stream",
     "text": [
      "Embedding length: 768\n",
      "Most common sequence length: 768\n",
      "Count of rows with this length: 2880\n"
     ]
    }
   ],
   "source": [
    "n = len(embeded_sum[\"embeded_sequence_sum\"][0])\n",
    "print(f\"Embedding length: {n}\")\n",
    "\n",
    "embed_lengths = embeded_sum[\"embeded_sequence_sum\"].apply(len)\n",
    "length_counts = embed_lengths.value_counts()\n",
    "most_common_length = length_counts.idxmax()\n",
    "\n",
    "n = most_common_length\n",
    "print(f\"Most common sequence length: {most_common_length}\")\n",
    "print(f\"Count of rows with this length: {length_counts[most_common_length]}\")\n"
   ]
  },
  {
   "cell_type": "code",
   "execution_count": 12,
   "metadata": {},
   "outputs": [
    {
     "name": "stdout",
     "output_type": "stream",
     "text": [
      "0    [-7.521571159362793, -7.762787342071533, -10.4...\n",
      "1    [-0.6168618202209473, -1.6713271141052246, -0....\n",
      "2    [-11.226763725280762, -15.170425415039062, -18...\n",
      "3    [-7.613076210021973, -22.431354522705078, -27....\n",
      "4    [-7.992051601409912, -9.275465965270996, -14.1...\n",
      "Name: embeded_sequence_sum, dtype: object\n"
     ]
    }
   ],
   "source": [
    " # Function to handle the trimming or padding of the sequence\n",
    "embeded_sum[\"embeded_sequence_sum\"] = embeded_sum[\"embeded_sequence_sum\"].apply(\n",
    "    lambda x: (x[:n] if len(x) > n else x + [0] * (n - len(x))) if isinstance(x, list) else [0] * n\n",
    ")\n",
    "\n",
    "print(embeded_sum[\"embeded_sequence_sum\"].head())"
   ]
  },
  {
   "cell_type": "code",
   "execution_count": 13,
   "metadata": {},
   "outputs": [
    {
     "name": "stdout",
     "output_type": "stream",
     "text": [
      "embeded_sequence_sum\n",
      "768    3027\n",
      "Name: count, dtype: int64\n"
     ]
    }
   ],
   "source": [
    "embed_lengths = embeded_sum[\"embeded_sequence_sum\"].apply(len)\n",
    "print(embed_lengths.value_counts())\n"
   ]
  },
  {
   "cell_type": "code",
   "execution_count": 14,
   "metadata": {},
   "outputs": [
    {
     "name": "stdout",
     "output_type": "stream",
     "text": [
      "       emb_1      emb_2      emb_3      emb_4     emb_5      emb_6     emb_7  \\\n",
      "0  -7.521571  -7.762787 -10.407430   6.591759  7.070191  11.705015  2.640116   \n",
      "1  -0.616862  -1.671327  -0.712171   1.246349  0.389413   1.486012 -0.136272   \n",
      "2 -11.226764 -15.170425 -18.570446  13.167607  4.495738  24.991566  6.812870   \n",
      "3  -7.613076 -22.431355 -27.734577  13.366014  4.421761  25.526434  3.585086   \n",
      "4  -7.992052  -9.275466 -14.106435  11.998210  3.758430  11.559190  5.180464   \n",
      "\n",
      "       emb_8     emb_9     emb_10  ...   emb_762    emb_763    emb_764  \\\n",
      "0  12.856184 -7.146132  -2.885672  ...  3.887118  11.322876 -13.805436   \n",
      "1   0.673206  0.153740  -0.755592  ...  0.656833   0.333388  -0.605158   \n",
      "2  10.403657  1.928948 -12.261045  ... -2.955463  29.813223 -14.873217   \n",
      "3  16.604767  0.640552  -9.345515  ... -7.696403  27.382660 -11.144313   \n",
      "4   7.495634 -1.092035  -8.209684  ... -0.886266  20.001431 -10.732095   \n",
      "\n",
      "     emb_765   emb_766    emb_767    emb_768  label  sample_id  severity  \n",
      "0   8.518064 -5.794276  24.714706 -13.311764      1      12150  critical  \n",
      "1   0.488275 -0.003898   1.431420  -0.495983      1      10168  critical  \n",
      "2  15.325475  6.093493  35.506905 -19.922787      1      12783  critical  \n",
      "3  17.118818 -2.077492  30.522797 -15.070001      1      12754  critical  \n",
      "4  13.953420  1.484560  26.704624 -11.948315      1       4277  critical  \n",
      "\n",
      "[5 rows x 771 columns]\n"
     ]
    }
   ],
   "source": [
    "# Create column names for embeddings\n",
    "columns = [f'emb_{i+1}' for i in range(n)]\n",
    "\n",
    "# Create a DataFrame for embedding values\n",
    "data = pd.DataFrame(embeded_sum[\"embeded_sequence_sum\"].to_list(), columns=columns)\n",
    "\n",
    "# Add metadata columns\n",
    "data['label'] = embeded_sum['label']\n",
    "data['sample_id'] = embeded_sum['sample_id']\n",
    "data['severity'] = embeded_sum['severity']\n",
    "\n",
    "# Display the result\n",
    "print(data.head())\n"
   ]
  },
  {
   "cell_type": "code",
   "execution_count": 15,
   "metadata": {},
   "outputs": [],
   "source": [
    "dataset_path = '/Users/mac/Desktop/Code_Smell_Detection/dataset/feature_envy/codeT5_embeddings/processed_embeddings/codeT5_base_embed_line_by_line_sum.pkl'\n",
    "pd.to_pickle(data, dataset_path)"
   ]
  },
  {
   "cell_type": "code",
   "execution_count": 16,
   "metadata": {},
   "outputs": [
    {
     "name": "stdout",
     "output_type": "stream",
     "text": [
      "0    0     -0.119390\n",
      "1     -0.123219\n",
      "2     -0.16519...\n",
      "1    0     -0.123372\n",
      "1     -0.334265\n",
      "2     -0.14243...\n",
      "2    0     -0.091274\n",
      "1     -0.123337\n",
      "2     -0.15097...\n",
      "3    0     -0.067974\n",
      "1     -0.200280\n",
      "2     -0.24763...\n",
      "4    0     -0.103793\n",
      "1     -0.120461\n",
      "2     -0.18320...\n",
      "Name: embeded_sequence_avg, dtype: object\n",
      "embeded_sequence_avg\n",
      "<class 'pandas.core.series.Series'>    3027\n",
      "Name: count, dtype: int64\n"
     ]
    }
   ],
   "source": [
    "print(embeded_avg[\"embeded_sequence_avg\"].head())\n",
    "print(embeded_avg[\"embeded_sequence_avg\"].apply(type).value_counts())"
   ]
  },
  {
   "cell_type": "code",
   "execution_count": 17,
   "metadata": {},
   "outputs": [],
   "source": [
    "embeded_avg[\"embeded_sequence_avg\"] = embeded_avg[\"embeded_sequence_avg\"].apply(\n",
    "    lambda x: \" \".join(str(i) for i in x) if isinstance(x, pd.Series) else str(x)\n",
    ")"
   ]
  },
  {
   "cell_type": "code",
   "execution_count": 18,
   "metadata": {},
   "outputs": [
    {
     "name": "stdout",
     "output_type": "stream",
     "text": [
      "Embedding length: 15685\n"
     ]
    }
   ],
   "source": [
    "n = len(embeded_avg[\"embeded_sequence_avg\"][0])\n",
    "print(f\"Embedding length: {n}\")"
   ]
  },
  {
   "cell_type": "code",
   "execution_count": 19,
   "metadata": {},
   "outputs": [],
   "source": [
    "embeded_avg[\"embeded_sequence_avg\"] = embeded_avg[\"embeded_sequence_avg\"].apply(parse_flat_embedding)"
   ]
  },
  {
   "cell_type": "code",
   "execution_count": 20,
   "metadata": {},
   "outputs": [
    {
     "name": "stdout",
     "output_type": "stream",
     "text": [
      "Most common sequence length: 768\n",
      "Count of rows with this length: 2065\n"
     ]
    }
   ],
   "source": [
    "embed_lengths = embeded_avg[\"embeded_sequence_avg\"].apply(len)\n",
    "length_counts = embed_lengths.value_counts()\n",
    "most_common_length = length_counts.idxmax()\n",
    "\n",
    "n = most_common_length\n",
    "print(f\"Most common sequence length: {most_common_length}\")\n",
    "print(f\"Count of rows with this length: {length_counts[most_common_length]}\")"
   ]
  },
  {
   "cell_type": "code",
   "execution_count": 21,
   "metadata": {},
   "outputs": [
    {
     "name": "stdout",
     "output_type": "stream",
     "text": [
      "0    [-0.11939001828432083, -0.1232188493013382, -0...\n",
      "1    [-0.12337236106395721, -0.33426541090011597, -...\n",
      "2    [-0.09127449989318848, -0.1233367919921875, -0...\n",
      "3    [-0.06797389686107635, -0.20027995109558105, -...\n",
      "4    [-0.10379287600517273, -0.12046059966087341, -...\n",
      "Name: embeded_sequence_avg, dtype: object\n"
     ]
    }
   ],
   "source": [
    "# Function to handle the trimming or padding of the sequence\n",
    "embeded_avg[\"embeded_sequence_avg\"] = embeded_avg[\"embeded_sequence_avg\"].apply(\n",
    "    lambda x: (x[:n] if len(x) > n else x + [0] * (n - len(x))) if isinstance(x, list) else [0] * n\n",
    ")\n",
    "\n",
    "print(embeded_avg[\"embeded_sequence_avg\"].head())"
   ]
  },
  {
   "cell_type": "code",
   "execution_count": 22,
   "metadata": {},
   "outputs": [
    {
     "name": "stdout",
     "output_type": "stream",
     "text": [
      "embeded_sequence_avg\n",
      "768    3027\n",
      "Name: count, dtype: int64\n"
     ]
    }
   ],
   "source": [
    "embed_lengths = embeded_avg[\"embeded_sequence_avg\"].apply(len)\n",
    "print(embed_lengths.value_counts())"
   ]
  },
  {
   "cell_type": "code",
   "execution_count": 23,
   "metadata": {},
   "outputs": [
    {
     "data": {
      "text/html": [
       "<div>\n",
       "<style scoped>\n",
       "    .dataframe tbody tr th:only-of-type {\n",
       "        vertical-align: middle;\n",
       "    }\n",
       "\n",
       "    .dataframe tbody tr th {\n",
       "        vertical-align: top;\n",
       "    }\n",
       "\n",
       "    .dataframe thead th {\n",
       "        text-align: right;\n",
       "    }\n",
       "</style>\n",
       "<table border=\"1\" class=\"dataframe\">\n",
       "  <thead>\n",
       "    <tr style=\"text-align: right;\">\n",
       "      <th></th>\n",
       "      <th>emb_1</th>\n",
       "      <th>emb_2</th>\n",
       "      <th>emb_3</th>\n",
       "      <th>emb_4</th>\n",
       "      <th>emb_5</th>\n",
       "      <th>emb_6</th>\n",
       "      <th>emb_7</th>\n",
       "      <th>emb_8</th>\n",
       "      <th>emb_9</th>\n",
       "      <th>emb_10</th>\n",
       "      <th>...</th>\n",
       "      <th>emb_762</th>\n",
       "      <th>emb_763</th>\n",
       "      <th>emb_764</th>\n",
       "      <th>emb_765</th>\n",
       "      <th>emb_766</th>\n",
       "      <th>emb_767</th>\n",
       "      <th>emb_768</th>\n",
       "      <th>label</th>\n",
       "      <th>sample_id</th>\n",
       "      <th>severity</th>\n",
       "    </tr>\n",
       "  </thead>\n",
       "  <tbody>\n",
       "    <tr>\n",
       "      <th>0</th>\n",
       "      <td>-0.119390</td>\n",
       "      <td>-0.123219</td>\n",
       "      <td>-0.165197</td>\n",
       "      <td>0.104631</td>\n",
       "      <td>0.112225</td>\n",
       "      <td>0.185794</td>\n",
       "      <td>0.041907</td>\n",
       "      <td>0.204066</td>\n",
       "      <td>-0.113431</td>\n",
       "      <td>-0.045804</td>\n",
       "      <td>...</td>\n",
       "      <td>0.061700</td>\n",
       "      <td>0.179728</td>\n",
       "      <td>-0.219134</td>\n",
       "      <td>0.135207</td>\n",
       "      <td>-0.091973</td>\n",
       "      <td>0.392297</td>\n",
       "      <td>-0.211298</td>\n",
       "      <td>1</td>\n",
       "      <td>12150</td>\n",
       "      <td>critical</td>\n",
       "    </tr>\n",
       "    <tr>\n",
       "      <th>1</th>\n",
       "      <td>-0.123372</td>\n",
       "      <td>-0.334265</td>\n",
       "      <td>-0.142434</td>\n",
       "      <td>0.249270</td>\n",
       "      <td>0.077883</td>\n",
       "      <td>0.297202</td>\n",
       "      <td>-0.027254</td>\n",
       "      <td>0.134641</td>\n",
       "      <td>0.030748</td>\n",
       "      <td>-0.151118</td>\n",
       "      <td>...</td>\n",
       "      <td>0.131367</td>\n",
       "      <td>0.066678</td>\n",
       "      <td>-0.121032</td>\n",
       "      <td>0.097655</td>\n",
       "      <td>-0.000780</td>\n",
       "      <td>0.286284</td>\n",
       "      <td>-0.099197</td>\n",
       "      <td>1</td>\n",
       "      <td>10168</td>\n",
       "      <td>critical</td>\n",
       "    </tr>\n",
       "    <tr>\n",
       "      <th>2</th>\n",
       "      <td>-0.091274</td>\n",
       "      <td>-0.123337</td>\n",
       "      <td>-0.150979</td>\n",
       "      <td>0.107054</td>\n",
       "      <td>0.036551</td>\n",
       "      <td>0.203183</td>\n",
       "      <td>0.055389</td>\n",
       "      <td>0.084583</td>\n",
       "      <td>0.015683</td>\n",
       "      <td>-0.099683</td>\n",
       "      <td>...</td>\n",
       "      <td>-0.024028</td>\n",
       "      <td>0.242384</td>\n",
       "      <td>-0.120920</td>\n",
       "      <td>0.124597</td>\n",
       "      <td>0.049541</td>\n",
       "      <td>0.288674</td>\n",
       "      <td>-0.161974</td>\n",
       "      <td>1</td>\n",
       "      <td>12783</td>\n",
       "      <td>critical</td>\n",
       "    </tr>\n",
       "    <tr>\n",
       "      <th>3</th>\n",
       "      <td>-0.067974</td>\n",
       "      <td>-0.200280</td>\n",
       "      <td>-0.247630</td>\n",
       "      <td>0.119339</td>\n",
       "      <td>0.039480</td>\n",
       "      <td>0.227915</td>\n",
       "      <td>0.032010</td>\n",
       "      <td>0.148257</td>\n",
       "      <td>0.005719</td>\n",
       "      <td>-0.083442</td>\n",
       "      <td>...</td>\n",
       "      <td>-0.068718</td>\n",
       "      <td>0.244488</td>\n",
       "      <td>-0.099503</td>\n",
       "      <td>0.152847</td>\n",
       "      <td>-0.018549</td>\n",
       "      <td>0.272525</td>\n",
       "      <td>-0.134554</td>\n",
       "      <td>1</td>\n",
       "      <td>12754</td>\n",
       "      <td>critical</td>\n",
       "    </tr>\n",
       "    <tr>\n",
       "      <th>4</th>\n",
       "      <td>-0.103793</td>\n",
       "      <td>-0.120461</td>\n",
       "      <td>-0.183200</td>\n",
       "      <td>0.155821</td>\n",
       "      <td>0.048811</td>\n",
       "      <td>0.150119</td>\n",
       "      <td>0.067279</td>\n",
       "      <td>0.097346</td>\n",
       "      <td>-0.014182</td>\n",
       "      <td>-0.106619</td>\n",
       "      <td>...</td>\n",
       "      <td>-0.011510</td>\n",
       "      <td>0.259759</td>\n",
       "      <td>-0.139378</td>\n",
       "      <td>0.181213</td>\n",
       "      <td>0.019280</td>\n",
       "      <td>0.346813</td>\n",
       "      <td>-0.155173</td>\n",
       "      <td>1</td>\n",
       "      <td>4277</td>\n",
       "      <td>critical</td>\n",
       "    </tr>\n",
       "  </tbody>\n",
       "</table>\n",
       "<p>5 rows × 771 columns</p>\n",
       "</div>"
      ],
      "text/plain": [
       "      emb_1     emb_2     emb_3     emb_4     emb_5     emb_6     emb_7  \\\n",
       "0 -0.119390 -0.123219 -0.165197  0.104631  0.112225  0.185794  0.041907   \n",
       "1 -0.123372 -0.334265 -0.142434  0.249270  0.077883  0.297202 -0.027254   \n",
       "2 -0.091274 -0.123337 -0.150979  0.107054  0.036551  0.203183  0.055389   \n",
       "3 -0.067974 -0.200280 -0.247630  0.119339  0.039480  0.227915  0.032010   \n",
       "4 -0.103793 -0.120461 -0.183200  0.155821  0.048811  0.150119  0.067279   \n",
       "\n",
       "      emb_8     emb_9    emb_10  ...   emb_762   emb_763   emb_764   emb_765  \\\n",
       "0  0.204066 -0.113431 -0.045804  ...  0.061700  0.179728 -0.219134  0.135207   \n",
       "1  0.134641  0.030748 -0.151118  ...  0.131367  0.066678 -0.121032  0.097655   \n",
       "2  0.084583  0.015683 -0.099683  ... -0.024028  0.242384 -0.120920  0.124597   \n",
       "3  0.148257  0.005719 -0.083442  ... -0.068718  0.244488 -0.099503  0.152847   \n",
       "4  0.097346 -0.014182 -0.106619  ... -0.011510  0.259759 -0.139378  0.181213   \n",
       "\n",
       "    emb_766   emb_767   emb_768  label  sample_id  severity  \n",
       "0 -0.091973  0.392297 -0.211298      1      12150  critical  \n",
       "1 -0.000780  0.286284 -0.099197      1      10168  critical  \n",
       "2  0.049541  0.288674 -0.161974      1      12783  critical  \n",
       "3 -0.018549  0.272525 -0.134554      1      12754  critical  \n",
       "4  0.019280  0.346813 -0.155173      1       4277  critical  \n",
       "\n",
       "[5 rows x 771 columns]"
      ]
     },
     "execution_count": 23,
     "metadata": {},
     "output_type": "execute_result"
    }
   ],
   "source": [
    "columns = [f'emb_{i+1}' for i in range(n)]\n",
    "data = pd.DataFrame(embeded_avg[\"embeded_sequence_avg\"].to_list(), columns=columns)\n",
    "data['label'] = embeded_avg['label']\n",
    "data['sample_id'] = embeded_avg['sample_id']\n",
    "data['severity'] = embeded_avg['severity']\n",
    "data.head()"
   ]
  },
  {
   "cell_type": "code",
   "execution_count": 24,
   "metadata": {},
   "outputs": [],
   "source": [
    "dataset_path = '/Users/mac/Desktop/Code_Smell_Detection/dataset/feature_envy/codeT5_embeddings/processed_embeddings/codeT5_base_embed_line_by_line_avg.pkl'\n",
    "pd.to_pickle(data, dataset_path)"
   ]
  }
 ],
 "metadata": {
  "kernelspec": {
   "display_name": "Python 3",
   "language": "python",
   "name": "python3"
  },
  "language_info": {
   "codemirror_mode": {
    "name": "ipython",
    "version": 3
   },
   "file_extension": ".py",
   "mimetype": "text/x-python",
   "name": "python",
   "nbconvert_exporter": "python",
   "pygments_lexer": "ipython3",
   "version": "3.13.0"
  }
 },
 "nbformat": 4,
 "nbformat_minor": 2
}
