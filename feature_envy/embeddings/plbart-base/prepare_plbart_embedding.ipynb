{
 "cells": [
  {
   "cell_type": "code",
   "execution_count": 1,
   "metadata": {},
   "outputs": [],
   "source": [
    "import pandas as pd\n",
    "import pickle"
   ]
  },
  {
   "cell_type": "code",
   "execution_count": 2,
   "metadata": {},
   "outputs": [
    {
     "name": "stderr",
     "output_type": "stream",
     "text": [
      "/var/folders/d8/cr798cb57kzd5kz_r8g8jm380000gn/T/ipykernel_36393/207127160.py:3: DeprecationWarning: numpy.core.numeric is deprecated and has been renamed to numpy._core.numeric. The numpy._core namespace contains private NumPy internals and its use is discouraged, as NumPy internals can change without warning in any release. In practice, most real-world usage of numpy.core is to access functionality in the public NumPy API. If that is the case, use the public NumPy API. If not, you are using NumPy internals. If you would still like to access an internal attribute, use numpy._core.numeric._frombuffer.\n",
      "  df = pickle.load(fh)\n"
     ]
    }
   ],
   "source": [
    "file_path = \"/Users/mac/Desktop/Code_Smell_Detection/dataset/feature_envy/plbart_base_embeddings/df_fe_embeded_by_line_plbart.pkl\"\n",
    "with open(file_path, \"rb\") as fh:\n",
    "  df = pickle.load(fh)"
   ]
  },
  {
   "cell_type": "code",
   "execution_count": 3,
   "metadata": {},
   "outputs": [
    {
     "data": {
      "text/html": [
       "<div>\n",
       "<style scoped>\n",
       "    .dataframe tbody tr th:only-of-type {\n",
       "        vertical-align: middle;\n",
       "    }\n",
       "\n",
       "    .dataframe tbody tr th {\n",
       "        vertical-align: top;\n",
       "    }\n",
       "\n",
       "    .dataframe thead th {\n",
       "        text-align: right;\n",
       "    }\n",
       "</style>\n",
       "<table border=\"1\" class=\"dataframe\">\n",
       "  <thead>\n",
       "    <tr style=\"text-align: right;\">\n",
       "      <th></th>\n",
       "      <th>sample_id</th>\n",
       "      <th>severity</th>\n",
       "      <th>method</th>\n",
       "      <th>label</th>\n",
       "      <th>embeded_sequence_sum</th>\n",
       "      <th>embeded_sequence_avg</th>\n",
       "    </tr>\n",
       "  </thead>\n",
       "  <tbody>\n",
       "    <tr>\n",
       "      <th>0</th>\n",
       "      <td>12150</td>\n",
       "      <td>critical</td>\n",
       "      <td>public SystemDiagnosticsDTO createSystemDi...</td>\n",
       "      <td>1</td>\n",
       "      <td>[[45.86921691894531, -159.51837158203125, 23.2...</td>\n",
       "      <td>[[0.7280828356742859, -2.5320377349853516, 0.3...</td>\n",
       "    </tr>\n",
       "    <tr>\n",
       "      <th>1</th>\n",
       "      <td>10168</td>\n",
       "      <td>critical</td>\n",
       "      <td>protected void addRequiredAlertProperties(Se...</td>\n",
       "      <td>1</td>\n",
       "      <td>[[3.429672956466675, -8.77796459197998, 4.4912...</td>\n",
       "      <td>[[0.6859346032142639, -1.755592942237854, 0.89...</td>\n",
       "    </tr>\n",
       "    <tr>\n",
       "      <th>2</th>\n",
       "      <td>12783</td>\n",
       "      <td>critical</td>\n",
       "      <td>@SuppressWarnings(\"try\")\\n    private void...</td>\n",
       "      <td>1</td>\n",
       "      <td>[[247.75167846679688, -129.33477783203125, -16...</td>\n",
       "      <td>[[2.0142412185668945, -1.0515022277832031, -0....</td>\n",
       "    </tr>\n",
       "    <tr>\n",
       "      <th>3</th>\n",
       "      <td>12754</td>\n",
       "      <td>critical</td>\n",
       "      <td>public void validateDepositDetailForUpdate...</td>\n",
       "      <td>1</td>\n",
       "      <td>[[65.13414001464844, -127.0123519897461, -15.7...</td>\n",
       "      <td>[[0.5815548300743103, -1.1340388059616089, -0....</td>\n",
       "    </tr>\n",
       "    <tr>\n",
       "      <th>4</th>\n",
       "      <td>4277</td>\n",
       "      <td>critical</td>\n",
       "      <td>@Override\\n    public ListenableFuture&lt;Voi...</td>\n",
       "      <td>1</td>\n",
       "      <td>[[125.08989715576172, -107.79071044921875, 18....</td>\n",
       "      <td>[[1.6245441436767578, -1.3998793363571167, 0.2...</td>\n",
       "    </tr>\n",
       "  </tbody>\n",
       "</table>\n",
       "</div>"
      ],
      "text/plain": [
       "   sample_id  severity                                             method  \\\n",
       "0      12150  critical      public SystemDiagnosticsDTO createSystemDi...   \n",
       "1      10168  critical    protected void addRequiredAlertProperties(Se...   \n",
       "2      12783  critical      @SuppressWarnings(\"try\")\\n    private void...   \n",
       "3      12754  critical      public void validateDepositDetailForUpdate...   \n",
       "4       4277  critical      @Override\\n    public ListenableFuture<Voi...   \n",
       "\n",
       "   label                               embeded_sequence_sum  \\\n",
       "0      1  [[45.86921691894531, -159.51837158203125, 23.2...   \n",
       "1      1  [[3.429672956466675, -8.77796459197998, 4.4912...   \n",
       "2      1  [[247.75167846679688, -129.33477783203125, -16...   \n",
       "3      1  [[65.13414001464844, -127.0123519897461, -15.7...   \n",
       "4      1  [[125.08989715576172, -107.79071044921875, 18....   \n",
       "\n",
       "                                embeded_sequence_avg  \n",
       "0  [[0.7280828356742859, -2.5320377349853516, 0.3...  \n",
       "1  [[0.6859346032142639, -1.755592942237854, 0.89...  \n",
       "2  [[2.0142412185668945, -1.0515022277832031, -0....  \n",
       "3  [[0.5815548300743103, -1.1340388059616089, -0....  \n",
       "4  [[1.6245441436767578, -1.3998793363571167, 0.2...  "
      ]
     },
     "execution_count": 3,
     "metadata": {},
     "output_type": "execute_result"
    }
   ],
   "source": [
    "df.head()"
   ]
  },
  {
   "cell_type": "code",
   "execution_count": 4,
   "metadata": {},
   "outputs": [
    {
     "data": {
      "text/html": [
       "<div>\n",
       "<style scoped>\n",
       "    .dataframe tbody tr th:only-of-type {\n",
       "        vertical-align: middle;\n",
       "    }\n",
       "\n",
       "    .dataframe tbody tr th {\n",
       "        vertical-align: top;\n",
       "    }\n",
       "\n",
       "    .dataframe thead th {\n",
       "        text-align: right;\n",
       "    }\n",
       "</style>\n",
       "<table border=\"1\" class=\"dataframe\">\n",
       "  <thead>\n",
       "    <tr style=\"text-align: right;\">\n",
       "      <th></th>\n",
       "      <th>sample_id</th>\n",
       "      <th>severity</th>\n",
       "      <th>label</th>\n",
       "      <th>embeded_sequence_sum</th>\n",
       "    </tr>\n",
       "  </thead>\n",
       "  <tbody>\n",
       "    <tr>\n",
       "      <th>0</th>\n",
       "      <td>12150</td>\n",
       "      <td>critical</td>\n",
       "      <td>1</td>\n",
       "      <td>[[45.86921691894531, -159.51837158203125, 23.2...</td>\n",
       "    </tr>\n",
       "    <tr>\n",
       "      <th>1</th>\n",
       "      <td>10168</td>\n",
       "      <td>critical</td>\n",
       "      <td>1</td>\n",
       "      <td>[[3.429672956466675, -8.77796459197998, 4.4912...</td>\n",
       "    </tr>\n",
       "    <tr>\n",
       "      <th>2</th>\n",
       "      <td>12783</td>\n",
       "      <td>critical</td>\n",
       "      <td>1</td>\n",
       "      <td>[[247.75167846679688, -129.33477783203125, -16...</td>\n",
       "    </tr>\n",
       "    <tr>\n",
       "      <th>3</th>\n",
       "      <td>12754</td>\n",
       "      <td>critical</td>\n",
       "      <td>1</td>\n",
       "      <td>[[65.13414001464844, -127.0123519897461, -15.7...</td>\n",
       "    </tr>\n",
       "    <tr>\n",
       "      <th>4</th>\n",
       "      <td>4277</td>\n",
       "      <td>critical</td>\n",
       "      <td>1</td>\n",
       "      <td>[[125.08989715576172, -107.79071044921875, 18....</td>\n",
       "    </tr>\n",
       "  </tbody>\n",
       "</table>\n",
       "</div>"
      ],
      "text/plain": [
       "   sample_id  severity  label  \\\n",
       "0      12150  critical      1   \n",
       "1      10168  critical      1   \n",
       "2      12783  critical      1   \n",
       "3      12754  critical      1   \n",
       "4       4277  critical      1   \n",
       "\n",
       "                                embeded_sequence_sum  \n",
       "0  [[45.86921691894531, -159.51837158203125, 23.2...  \n",
       "1  [[3.429672956466675, -8.77796459197998, 4.4912...  \n",
       "2  [[247.75167846679688, -129.33477783203125, -16...  \n",
       "3  [[65.13414001464844, -127.0123519897461, -15.7...  \n",
       "4  [[125.08989715576172, -107.79071044921875, 18....  "
      ]
     },
     "execution_count": 4,
     "metadata": {},
     "output_type": "execute_result"
    }
   ],
   "source": [
    "embeded_sum = df.loc[:, ['sample_id', 'severity', 'label', 'embeded_sequence_sum']]\n",
    "embeded_avg = df.loc[:, ['sample_id', 'severity', 'label', 'embeded_sequence_avg']]\n",
    "embeded_sum.head()"
   ]
  },
  {
   "cell_type": "code",
   "execution_count": 5,
   "metadata": {},
   "outputs": [
    {
     "name": "stdout",
     "output_type": "stream",
     "text": [
      "0    [[45.86921691894531, -159.51837158203125, 23.2...\n",
      "1    [[3.429672956466675, -8.77796459197998, 4.4912...\n",
      "2    [[247.75167846679688, -129.33477783203125, -16...\n",
      "3    [[65.13414001464844, -127.0123519897461, -15.7...\n",
      "4    [[125.08989715576172, -107.79071044921875, 18....\n",
      "Name: embeded_sequence_sum, dtype: object\n",
      "embeded_sequence_sum\n",
      "<class 'list'>    3027\n",
      "Name: count, dtype: int64\n"
     ]
    }
   ],
   "source": [
    "print(embeded_sum[\"embeded_sequence_sum\"].head())\n",
    "print(embeded_sum[\"embeded_sequence_sum\"].apply(type).value_counts())"
   ]
  },
  {
   "cell_type": "code",
   "execution_count": 6,
   "metadata": {},
   "outputs": [],
   "source": [
    "def process_embedding(x):\n",
    "    if x is None:\n",
    "        return []  \n",
    "    elif isinstance(x, pd.Series):\n",
    "        return \" \".join(map(str, x))\n",
    "    else:\n",
    "        return str(x)  \n",
    "\n",
    "embeded_sum[\"embeded_sequence_sum\"] = embeded_sum[\"embeded_sequence_sum\"].apply(process_embedding)\n"
   ]
  },
  {
   "cell_type": "code",
   "execution_count": 7,
   "metadata": {},
   "outputs": [
    {
     "name": "stdout",
     "output_type": "stream",
     "text": [
      "0    [[45.86921691894531, -159.51837158203125, 23.2...\n",
      "1    [[3.429672956466675, -8.77796459197998, 4.4912...\n",
      "2    [[247.75167846679688, -129.33477783203125, -16...\n",
      "3    [[65.13414001464844, -127.0123519897461, -15.7...\n",
      "4    [[125.08989715576172, -107.79071044921875, 18....\n",
      "Name: embeded_sequence_sum, dtype: object\n"
     ]
    }
   ],
   "source": [
    "print(embeded_sum[\"embeded_sequence_sum\"].head())"
   ]
  },
  {
   "cell_type": "code",
   "execution_count": 8,
   "metadata": {},
   "outputs": [],
   "source": [
    "embeded_sum[\"embeded_sequence_sum\"] = embeded_sum[\"embeded_sequence_sum\"].apply(\n",
    "    lambda x: \" \".join(str(i) for i in x) if isinstance(x, pd.Series) else str(x)\n",
    ")"
   ]
  },
  {
   "cell_type": "code",
   "execution_count": 9,
   "metadata": {},
   "outputs": [],
   "source": [
    "import re\n",
    "\n",
    "def parse_flat_embedding(embedding_str):\n",
    "    # Ensure input is a string\n",
    "    if not isinstance(embedding_str, str):\n",
    "        return []\n",
    "    try:\n",
    "        # Extract numerical values from the string\n",
    "        values = re.findall(r\"[-+]?\\d*\\.\\d+|\\d+\", embedding_str)\n",
    "        return [float(v) for v in values]\n",
    "    except Exception as e:\n",
    "        print(f\"Error parsing: {embedding_str} -> {e}\")\n",
    "        return []\n"
   ]
  },
  {
   "cell_type": "code",
   "execution_count": 10,
   "metadata": {},
   "outputs": [],
   "source": [
    "embeded_sum[\"embeded_sequence_sum\"] = embeded_sum[\"embeded_sequence_sum\"].apply(parse_flat_embedding)"
   ]
  },
  {
   "cell_type": "code",
   "execution_count": 11,
   "metadata": {},
   "outputs": [
    {
     "name": "stdout",
     "output_type": "stream",
     "text": [
      "Embedding length: 768\n",
      "Most common sequence length: 768\n",
      "Count of rows with this length: 3017\n"
     ]
    }
   ],
   "source": [
    "n = len(embeded_sum[\"embeded_sequence_sum\"][0])\n",
    "print(f\"Embedding length: {n}\")\n",
    "\n",
    "embed_lengths = embeded_sum[\"embeded_sequence_sum\"].apply(len)\n",
    "length_counts = embed_lengths.value_counts()\n",
    "most_common_length = length_counts.idxmax()\n",
    "\n",
    "n = most_common_length\n",
    "print(f\"Most common sequence length: {most_common_length}\")\n",
    "print(f\"Count of rows with this length: {length_counts[most_common_length]}\")\n"
   ]
  },
  {
   "cell_type": "code",
   "execution_count": 12,
   "metadata": {},
   "outputs": [
    {
     "name": "stdout",
     "output_type": "stream",
     "text": [
      "0    [45.86921691894531, -159.51837158203125, 23.20...\n",
      "1    [3.429672956466675, -8.77796459197998, 4.49120...\n",
      "2    [247.75167846679688, -129.33477783203125, -16....\n",
      "3    [65.13414001464844, -127.0123519897461, -15.72...\n",
      "4    [125.08989715576172, -107.79071044921875, 18.8...\n",
      "Name: embeded_sequence_sum, dtype: object\n"
     ]
    }
   ],
   "source": [
    " # Function to handle the trimming or padding of the sequence\n",
    "embeded_sum[\"embeded_sequence_sum\"] = embeded_sum[\"embeded_sequence_sum\"].apply(\n",
    "    lambda x: (x[:n] if len(x) > n else x + [0] * (n - len(x))) if isinstance(x, list) else [0] * n\n",
    ")\n",
    "\n",
    "print(embeded_sum[\"embeded_sequence_sum\"].head())"
   ]
  },
  {
   "cell_type": "code",
   "execution_count": 13,
   "metadata": {},
   "outputs": [
    {
     "name": "stdout",
     "output_type": "stream",
     "text": [
      "embeded_sequence_sum\n",
      "768    3027\n",
      "Name: count, dtype: int64\n"
     ]
    }
   ],
   "source": [
    "embed_lengths = embeded_sum[\"embeded_sequence_sum\"].apply(len)\n",
    "print(embed_lengths.value_counts())\n"
   ]
  },
  {
   "cell_type": "code",
   "execution_count": 14,
   "metadata": {},
   "outputs": [
    {
     "name": "stdout",
     "output_type": "stream",
     "text": [
      "        emb_1       emb_2      emb_3       emb_4       emb_5       emb_6  \\\n",
      "0   45.869217 -159.518372  23.207367 -137.124603  128.811096  -82.769165   \n",
      "1    3.429673   -8.777965   4.491210  -10.657660    9.625399   -4.418340   \n",
      "2  247.751678 -129.334778 -16.591146 -173.292419  301.242645 -194.701111   \n",
      "3   65.134140 -127.012352 -15.722034 -256.294617  304.530762 -158.203156   \n",
      "4  125.089897 -107.790710  18.801786 -104.372971  193.609970 -143.885544   \n",
      "\n",
      "        emb_7      emb_8       emb_9      emb_10  ...     emb_762     emb_763  \\\n",
      "0  -81.768135  -0.640440 -128.941055  -85.681137  ...   81.719536  111.293434   \n",
      "1    3.721420  -7.408656   -4.963110  -15.298643  ...    7.573229    5.523479   \n",
      "2 -162.284851  -9.360210 -156.371552 -213.367981  ...  124.247910   92.825050   \n",
      "3 -216.614334  -7.443196 -264.936035 -183.173889  ...  113.942245   72.379677   \n",
      "4  -98.533447  15.337610 -114.026794  -96.366798  ...   83.062164   54.470287   \n",
      "\n",
      "      emb_764     emb_765     emb_766     emb_767     emb_768  label  \\\n",
      "0  -95.435867 -221.365875 -222.611801  117.390900  -35.564804      1   \n",
      "1   -7.450909  -16.093414  -12.905525   13.912349    8.611141      1   \n",
      "2 -123.665474 -353.930145 -335.222412  256.613007   18.244608      1   \n",
      "3 -109.332008 -295.930847 -333.070648  286.990631 -100.377357      1   \n",
      "4  -99.624298 -274.242889 -184.718567  147.438492    6.238143      1   \n",
      "\n",
      "   sample_id  severity  \n",
      "0      12150  critical  \n",
      "1      10168  critical  \n",
      "2      12783  critical  \n",
      "3      12754  critical  \n",
      "4       4277  critical  \n",
      "\n",
      "[5 rows x 771 columns]\n"
     ]
    }
   ],
   "source": [
    "# Create column names for embeddings\n",
    "columns = [f'emb_{i+1}' for i in range(n)]\n",
    "\n",
    "# Create a DataFrame for embedding values\n",
    "data = pd.DataFrame(embeded_sum[\"embeded_sequence_sum\"].to_list(), columns=columns)\n",
    "\n",
    "# Add metadata columns\n",
    "data['label'] = embeded_sum['label']\n",
    "data['sample_id'] = embeded_sum['sample_id']\n",
    "data['severity'] = embeded_sum['severity']\n",
    "\n",
    "# Display the result\n",
    "print(data.head())\n"
   ]
  },
  {
   "cell_type": "code",
   "execution_count": 15,
   "metadata": {},
   "outputs": [],
   "source": [
    "dataset_path = '/Users/mac/Desktop/Code_Smell_Detection/dataset/feature_envy/plbart_base_embeddings/processed_embeddings/plbart_embed_line_by_line_sum.pkl'\n",
    "pd.to_pickle(data, dataset_path)"
   ]
  },
  {
   "cell_type": "code",
   "execution_count": 16,
   "metadata": {},
   "outputs": [
    {
     "name": "stdout",
     "output_type": "stream",
     "text": [
      "0    [[0.7280828356742859, -2.5320377349853516, 0.3...\n",
      "1    [[0.6859346032142639, -1.755592942237854, 0.89...\n",
      "2    [[2.0142412185668945, -1.0515022277832031, -0....\n",
      "3    [[0.5815548300743103, -1.1340388059616089, -0....\n",
      "4    [[1.6245441436767578, -1.3998793363571167, 0.2...\n",
      "Name: embeded_sequence_avg, dtype: object\n",
      "embeded_sequence_avg\n",
      "<class 'list'>    3027\n",
      "Name: count, dtype: int64\n"
     ]
    }
   ],
   "source": [
    "print(embeded_avg[\"embeded_sequence_avg\"].head())\n",
    "print(embeded_avg[\"embeded_sequence_avg\"].apply(type).value_counts())"
   ]
  },
  {
   "cell_type": "code",
   "execution_count": 17,
   "metadata": {},
   "outputs": [],
   "source": [
    "embeded_avg[\"embeded_sequence_avg\"] = embeded_avg[\"embeded_sequence_avg\"].apply(\n",
    "    lambda x: \" \".join(str(i) for i in x) if isinstance(x, pd.Series) else str(x)\n",
    ")"
   ]
  },
  {
   "cell_type": "code",
   "execution_count": 18,
   "metadata": {},
   "outputs": [
    {
     "name": "stdout",
     "output_type": "stream",
     "text": [
      "Embedding length: 15720\n"
     ]
    }
   ],
   "source": [
    "n = len(embeded_avg[\"embeded_sequence_avg\"][0])\n",
    "print(f\"Embedding length: {n}\")"
   ]
  },
  {
   "cell_type": "code",
   "execution_count": 19,
   "metadata": {},
   "outputs": [],
   "source": [
    "embeded_avg[\"embeded_sequence_avg\"] = embeded_avg[\"embeded_sequence_avg\"].apply(parse_flat_embedding)"
   ]
  },
  {
   "cell_type": "code",
   "execution_count": 20,
   "metadata": {},
   "outputs": [
    {
     "name": "stdout",
     "output_type": "stream",
     "text": [
      "Most common sequence length: 768\n",
      "Count of rows with this length: 2937\n"
     ]
    }
   ],
   "source": [
    "embed_lengths = embeded_avg[\"embeded_sequence_avg\"].apply(len)\n",
    "length_counts = embed_lengths.value_counts()\n",
    "most_common_length = length_counts.idxmax()\n",
    "\n",
    "n = most_common_length\n",
    "print(f\"Most common sequence length: {most_common_length}\")\n",
    "print(f\"Count of rows with this length: {length_counts[most_common_length]}\")"
   ]
  },
  {
   "cell_type": "code",
   "execution_count": 21,
   "metadata": {},
   "outputs": [
    {
     "name": "stdout",
     "output_type": "stream",
     "text": [
      "0    [0.7280828356742859, -2.5320377349853516, 0.36...\n",
      "1    [0.6859346032142639, -1.755592942237854, 0.898...\n",
      "2    [2.0142412185668945, -1.0515022277832031, -0.1...\n",
      "3    [0.5815548300743103, -1.1340388059616089, -0.1...\n",
      "4    [1.6245441436767578, -1.3998793363571167, 0.24...\n",
      "Name: embeded_sequence_avg, dtype: object\n"
     ]
    }
   ],
   "source": [
    "# Function to handle the trimming or padding of the sequence\n",
    "embeded_avg[\"embeded_sequence_avg\"] = embeded_avg[\"embeded_sequence_avg\"].apply(\n",
    "    lambda x: (x[:n] if len(x) > n else x + [0] * (n - len(x))) if isinstance(x, list) else [0] * n\n",
    ")\n",
    "\n",
    "print(embeded_avg[\"embeded_sequence_avg\"].head())"
   ]
  },
  {
   "cell_type": "code",
   "execution_count": 22,
   "metadata": {},
   "outputs": [
    {
     "name": "stdout",
     "output_type": "stream",
     "text": [
      "embeded_sequence_avg\n",
      "768    3027\n",
      "Name: count, dtype: int64\n"
     ]
    }
   ],
   "source": [
    "embed_lengths = embeded_avg[\"embeded_sequence_avg\"].apply(len)\n",
    "print(embed_lengths.value_counts())"
   ]
  },
  {
   "cell_type": "code",
   "execution_count": 23,
   "metadata": {},
   "outputs": [
    {
     "data": {
      "text/html": [
       "<div>\n",
       "<style scoped>\n",
       "    .dataframe tbody tr th:only-of-type {\n",
       "        vertical-align: middle;\n",
       "    }\n",
       "\n",
       "    .dataframe tbody tr th {\n",
       "        vertical-align: top;\n",
       "    }\n",
       "\n",
       "    .dataframe thead th {\n",
       "        text-align: right;\n",
       "    }\n",
       "</style>\n",
       "<table border=\"1\" class=\"dataframe\">\n",
       "  <thead>\n",
       "    <tr style=\"text-align: right;\">\n",
       "      <th></th>\n",
       "      <th>emb_1</th>\n",
       "      <th>emb_2</th>\n",
       "      <th>emb_3</th>\n",
       "      <th>emb_4</th>\n",
       "      <th>emb_5</th>\n",
       "      <th>emb_6</th>\n",
       "      <th>emb_7</th>\n",
       "      <th>emb_8</th>\n",
       "      <th>emb_9</th>\n",
       "      <th>emb_10</th>\n",
       "      <th>...</th>\n",
       "      <th>emb_762</th>\n",
       "      <th>emb_763</th>\n",
       "      <th>emb_764</th>\n",
       "      <th>emb_765</th>\n",
       "      <th>emb_766</th>\n",
       "      <th>emb_767</th>\n",
       "      <th>emb_768</th>\n",
       "      <th>label</th>\n",
       "      <th>sample_id</th>\n",
       "      <th>severity</th>\n",
       "    </tr>\n",
       "  </thead>\n",
       "  <tbody>\n",
       "    <tr>\n",
       "      <th>0</th>\n",
       "      <td>0.728083</td>\n",
       "      <td>-2.532038</td>\n",
       "      <td>0.368371</td>\n",
       "      <td>-2.176581</td>\n",
       "      <td>2.044621</td>\n",
       "      <td>-1.313796</td>\n",
       "      <td>-1.297907</td>\n",
       "      <td>-0.010166</td>\n",
       "      <td>-2.046683</td>\n",
       "      <td>-1.360018</td>\n",
       "      <td>...</td>\n",
       "      <td>1.297135</td>\n",
       "      <td>1.766562</td>\n",
       "      <td>-1.514855</td>\n",
       "      <td>-3.513744</td>\n",
       "      <td>-3.533521</td>\n",
       "      <td>1.863348</td>\n",
       "      <td>-0.564521</td>\n",
       "      <td>1</td>\n",
       "      <td>12150</td>\n",
       "      <td>critical</td>\n",
       "    </tr>\n",
       "    <tr>\n",
       "      <th>1</th>\n",
       "      <td>0.685935</td>\n",
       "      <td>-1.755593</td>\n",
       "      <td>0.898242</td>\n",
       "      <td>-2.131532</td>\n",
       "      <td>1.925080</td>\n",
       "      <td>-0.883668</td>\n",
       "      <td>0.744284</td>\n",
       "      <td>-1.481731</td>\n",
       "      <td>-0.992622</td>\n",
       "      <td>-3.059729</td>\n",
       "      <td>...</td>\n",
       "      <td>1.514646</td>\n",
       "      <td>1.104696</td>\n",
       "      <td>-1.490182</td>\n",
       "      <td>-3.218683</td>\n",
       "      <td>-2.581105</td>\n",
       "      <td>2.782470</td>\n",
       "      <td>1.722228</td>\n",
       "      <td>1</td>\n",
       "      <td>10168</td>\n",
       "      <td>critical</td>\n",
       "    </tr>\n",
       "    <tr>\n",
       "      <th>2</th>\n",
       "      <td>2.014241</td>\n",
       "      <td>-1.051502</td>\n",
       "      <td>-0.134887</td>\n",
       "      <td>-1.408881</td>\n",
       "      <td>2.449127</td>\n",
       "      <td>-1.582936</td>\n",
       "      <td>-1.319389</td>\n",
       "      <td>-0.076099</td>\n",
       "      <td>-1.271313</td>\n",
       "      <td>-1.734699</td>\n",
       "      <td>...</td>\n",
       "      <td>1.010146</td>\n",
       "      <td>0.754675</td>\n",
       "      <td>-1.005410</td>\n",
       "      <td>-2.877481</td>\n",
       "      <td>-2.725385</td>\n",
       "      <td>2.086285</td>\n",
       "      <td>0.148330</td>\n",
       "      <td>1</td>\n",
       "      <td>12783</td>\n",
       "      <td>critical</td>\n",
       "    </tr>\n",
       "    <tr>\n",
       "      <th>3</th>\n",
       "      <td>0.581555</td>\n",
       "      <td>-1.134039</td>\n",
       "      <td>-0.140375</td>\n",
       "      <td>-2.288345</td>\n",
       "      <td>2.719025</td>\n",
       "      <td>-1.412528</td>\n",
       "      <td>-1.934057</td>\n",
       "      <td>-0.066457</td>\n",
       "      <td>-2.365500</td>\n",
       "      <td>-1.635481</td>\n",
       "      <td>...</td>\n",
       "      <td>1.017341</td>\n",
       "      <td>0.646247</td>\n",
       "      <td>-0.976179</td>\n",
       "      <td>-2.642240</td>\n",
       "      <td>-2.973845</td>\n",
       "      <td>2.562416</td>\n",
       "      <td>-0.896226</td>\n",
       "      <td>1</td>\n",
       "      <td>12754</td>\n",
       "      <td>critical</td>\n",
       "    </tr>\n",
       "    <tr>\n",
       "      <th>4</th>\n",
       "      <td>1.624544</td>\n",
       "      <td>-1.399879</td>\n",
       "      <td>0.244179</td>\n",
       "      <td>-1.355493</td>\n",
       "      <td>2.514415</td>\n",
       "      <td>-1.868643</td>\n",
       "      <td>-1.279655</td>\n",
       "      <td>0.199190</td>\n",
       "      <td>-1.480868</td>\n",
       "      <td>-1.251517</td>\n",
       "      <td>...</td>\n",
       "      <td>1.078729</td>\n",
       "      <td>0.707406</td>\n",
       "      <td>-1.293822</td>\n",
       "      <td>-3.561596</td>\n",
       "      <td>-2.398942</td>\n",
       "      <td>1.914786</td>\n",
       "      <td>0.081015</td>\n",
       "      <td>1</td>\n",
       "      <td>4277</td>\n",
       "      <td>critical</td>\n",
       "    </tr>\n",
       "  </tbody>\n",
       "</table>\n",
       "<p>5 rows × 771 columns</p>\n",
       "</div>"
      ],
      "text/plain": [
       "      emb_1     emb_2     emb_3     emb_4     emb_5     emb_6     emb_7  \\\n",
       "0  0.728083 -2.532038  0.368371 -2.176581  2.044621 -1.313796 -1.297907   \n",
       "1  0.685935 -1.755593  0.898242 -2.131532  1.925080 -0.883668  0.744284   \n",
       "2  2.014241 -1.051502 -0.134887 -1.408881  2.449127 -1.582936 -1.319389   \n",
       "3  0.581555 -1.134039 -0.140375 -2.288345  2.719025 -1.412528 -1.934057   \n",
       "4  1.624544 -1.399879  0.244179 -1.355493  2.514415 -1.868643 -1.279655   \n",
       "\n",
       "      emb_8     emb_9    emb_10  ...   emb_762   emb_763   emb_764   emb_765  \\\n",
       "0 -0.010166 -2.046683 -1.360018  ...  1.297135  1.766562 -1.514855 -3.513744   \n",
       "1 -1.481731 -0.992622 -3.059729  ...  1.514646  1.104696 -1.490182 -3.218683   \n",
       "2 -0.076099 -1.271313 -1.734699  ...  1.010146  0.754675 -1.005410 -2.877481   \n",
       "3 -0.066457 -2.365500 -1.635481  ...  1.017341  0.646247 -0.976179 -2.642240   \n",
       "4  0.199190 -1.480868 -1.251517  ...  1.078729  0.707406 -1.293822 -3.561596   \n",
       "\n",
       "    emb_766   emb_767   emb_768  label  sample_id  severity  \n",
       "0 -3.533521  1.863348 -0.564521      1      12150  critical  \n",
       "1 -2.581105  2.782470  1.722228      1      10168  critical  \n",
       "2 -2.725385  2.086285  0.148330      1      12783  critical  \n",
       "3 -2.973845  2.562416 -0.896226      1      12754  critical  \n",
       "4 -2.398942  1.914786  0.081015      1       4277  critical  \n",
       "\n",
       "[5 rows x 771 columns]"
      ]
     },
     "execution_count": 23,
     "metadata": {},
     "output_type": "execute_result"
    }
   ],
   "source": [
    "columns = [f'emb_{i+1}' for i in range(n)]\n",
    "data = pd.DataFrame(embeded_avg[\"embeded_sequence_avg\"].to_list(), columns=columns)\n",
    "data['label'] = embeded_avg['label']\n",
    "data['sample_id'] = embeded_avg['sample_id']\n",
    "data['severity'] = embeded_avg['severity']\n",
    "data.head()"
   ]
  },
  {
   "cell_type": "code",
   "execution_count": 24,
   "metadata": {},
   "outputs": [],
   "source": [
    "dataset_path = '/Users/mac/Desktop/Code_Smell_Detection/dataset/feature_envy/plbart_base_embeddings/processed_embeddings/plbart_embed_line_by_line_avg.pkl'\n",
    "pd.to_pickle(data, dataset_path)"
   ]
  }
 ],
 "metadata": {
  "kernelspec": {
   "display_name": "Python 3",
   "language": "python",
   "name": "python3"
  },
  "language_info": {
   "codemirror_mode": {
    "name": "ipython",
    "version": 3
   },
   "file_extension": ".py",
   "mimetype": "text/x-python",
   "name": "python",
   "nbconvert_exporter": "python",
   "pygments_lexer": "ipython3",
   "version": "3.13.0"
  }
 },
 "nbformat": 4,
 "nbformat_minor": 2
}
