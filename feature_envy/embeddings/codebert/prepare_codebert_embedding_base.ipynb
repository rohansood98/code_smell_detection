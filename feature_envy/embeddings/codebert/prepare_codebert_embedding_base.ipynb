{
 "cells": [
  {
   "cell_type": "code",
   "execution_count": 1,
   "metadata": {},
   "outputs": [],
   "source": [
    "import pandas as pd\n",
    "import pickle"
   ]
  },
  {
   "cell_type": "code",
   "execution_count": 2,
   "metadata": {},
   "outputs": [
    {
     "name": "stderr",
     "output_type": "stream",
     "text": [
      "/var/folders/d8/cr798cb57kzd5kz_r8g8jm380000gn/T/ipykernel_35919/711735428.py:3: DeprecationWarning: numpy.core.numeric is deprecated and has been renamed to numpy._core.numeric. The numpy._core namespace contains private NumPy internals and its use is discouraged, as NumPy internals can change without warning in any release. In practice, most real-world usage of numpy.core is to access functionality in the public NumPy API. If that is the case, use the public NumPy API. If not, you are using NumPy internals. If you would still like to access an internal attribute, use numpy._core.numeric._frombuffer.\n",
      "  df = pickle.load(fh)\n"
     ]
    }
   ],
   "source": [
    "file_path = \"/Users/mac/Desktop/Code_Smell_Detection/dataset/feature_envy/codebert_embeddings/df_fe_embeded_by_line_codebert_base.pkl\"\n",
    "with open(file_path, \"rb\") as fh:\n",
    "  df = pickle.load(fh)"
   ]
  },
  {
   "cell_type": "code",
   "execution_count": 3,
   "metadata": {},
   "outputs": [
    {
     "data": {
      "text/html": [
       "<div>\n",
       "<style scoped>\n",
       "    .dataframe tbody tr th:only-of-type {\n",
       "        vertical-align: middle;\n",
       "    }\n",
       "\n",
       "    .dataframe tbody tr th {\n",
       "        vertical-align: top;\n",
       "    }\n",
       "\n",
       "    .dataframe thead th {\n",
       "        text-align: right;\n",
       "    }\n",
       "</style>\n",
       "<table border=\"1\" class=\"dataframe\">\n",
       "  <thead>\n",
       "    <tr style=\"text-align: right;\">\n",
       "      <th></th>\n",
       "      <th>sample_id</th>\n",
       "      <th>severity</th>\n",
       "      <th>method</th>\n",
       "      <th>label</th>\n",
       "      <th>embeded_sequence_sum</th>\n",
       "      <th>embeded_sequence_avg</th>\n",
       "    </tr>\n",
       "  </thead>\n",
       "  <tbody>\n",
       "    <tr>\n",
       "      <th>0</th>\n",
       "      <td>12150</td>\n",
       "      <td>critical</td>\n",
       "      <td>public SystemDiagnosticsDTO createSystemDi...</td>\n",
       "      <td>1</td>\n",
       "      <td>[[-10.351140975952148, 18.46828842163086, -1.5...</td>\n",
       "      <td>[[-0.16430382430553436, 0.2931474447250366, -0...</td>\n",
       "    </tr>\n",
       "    <tr>\n",
       "      <th>1</th>\n",
       "      <td>10168</td>\n",
       "      <td>critical</td>\n",
       "      <td>protected void addRequiredAlertProperties(Se...</td>\n",
       "      <td>1</td>\n",
       "      <td>[[-0.611336886882782, 1.667067050933838, -0.08...</td>\n",
       "      <td>[[-0.12226738035678864, 0.33341342210769653, -...</td>\n",
       "    </tr>\n",
       "    <tr>\n",
       "      <th>2</th>\n",
       "      <td>12783</td>\n",
       "      <td>critical</td>\n",
       "      <td>@SuppressWarnings(\"try\")\\n    private void...</td>\n",
       "      <td>1</td>\n",
       "      <td>[[-25.163928985595703, 32.38447189331055, -5.0...</td>\n",
       "      <td>[[-0.20458479225635529, 0.26328837871551514, -...</td>\n",
       "    </tr>\n",
       "    <tr>\n",
       "      <th>3</th>\n",
       "      <td>12754</td>\n",
       "      <td>critical</td>\n",
       "      <td>public void validateDepositDetailForUpdate...</td>\n",
       "      <td>1</td>\n",
       "      <td>[[-13.66582202911377, 26.740516662597656, -6.1...</td>\n",
       "      <td>[[-0.12201626598834991, 0.23875461518764496, -...</td>\n",
       "    </tr>\n",
       "    <tr>\n",
       "      <th>4</th>\n",
       "      <td>4277</td>\n",
       "      <td>critical</td>\n",
       "      <td>@Override\\n    public ListenableFuture&lt;Voi...</td>\n",
       "      <td>1</td>\n",
       "      <td>[[-15.209061622619629, 20.849018096923828, -4....</td>\n",
       "      <td>[[-0.19752028584480286, 0.2707664668560028, -0...</td>\n",
       "    </tr>\n",
       "  </tbody>\n",
       "</table>\n",
       "</div>"
      ],
      "text/plain": [
       "   sample_id  severity                                             method  \\\n",
       "0      12150  critical      public SystemDiagnosticsDTO createSystemDi...   \n",
       "1      10168  critical    protected void addRequiredAlertProperties(Se...   \n",
       "2      12783  critical      @SuppressWarnings(\"try\")\\n    private void...   \n",
       "3      12754  critical      public void validateDepositDetailForUpdate...   \n",
       "4       4277  critical      @Override\\n    public ListenableFuture<Voi...   \n",
       "\n",
       "   label                               embeded_sequence_sum  \\\n",
       "0      1  [[-10.351140975952148, 18.46828842163086, -1.5...   \n",
       "1      1  [[-0.611336886882782, 1.667067050933838, -0.08...   \n",
       "2      1  [[-25.163928985595703, 32.38447189331055, -5.0...   \n",
       "3      1  [[-13.66582202911377, 26.740516662597656, -6.1...   \n",
       "4      1  [[-15.209061622619629, 20.849018096923828, -4....   \n",
       "\n",
       "                                embeded_sequence_avg  \n",
       "0  [[-0.16430382430553436, 0.2931474447250366, -0...  \n",
       "1  [[-0.12226738035678864, 0.33341342210769653, -...  \n",
       "2  [[-0.20458479225635529, 0.26328837871551514, -...  \n",
       "3  [[-0.12201626598834991, 0.23875461518764496, -...  \n",
       "4  [[-0.19752028584480286, 0.2707664668560028, -0...  "
      ]
     },
     "execution_count": 3,
     "metadata": {},
     "output_type": "execute_result"
    }
   ],
   "source": [
    "df.head()"
   ]
  },
  {
   "cell_type": "code",
   "execution_count": 4,
   "metadata": {},
   "outputs": [
    {
     "data": {
      "text/html": [
       "<div>\n",
       "<style scoped>\n",
       "    .dataframe tbody tr th:only-of-type {\n",
       "        vertical-align: middle;\n",
       "    }\n",
       "\n",
       "    .dataframe tbody tr th {\n",
       "        vertical-align: top;\n",
       "    }\n",
       "\n",
       "    .dataframe thead th {\n",
       "        text-align: right;\n",
       "    }\n",
       "</style>\n",
       "<table border=\"1\" class=\"dataframe\">\n",
       "  <thead>\n",
       "    <tr style=\"text-align: right;\">\n",
       "      <th></th>\n",
       "      <th>sample_id</th>\n",
       "      <th>severity</th>\n",
       "      <th>label</th>\n",
       "      <th>embeded_sequence_sum</th>\n",
       "    </tr>\n",
       "  </thead>\n",
       "  <tbody>\n",
       "    <tr>\n",
       "      <th>0</th>\n",
       "      <td>12150</td>\n",
       "      <td>critical</td>\n",
       "      <td>1</td>\n",
       "      <td>[[-10.351140975952148, 18.46828842163086, -1.5...</td>\n",
       "    </tr>\n",
       "    <tr>\n",
       "      <th>1</th>\n",
       "      <td>10168</td>\n",
       "      <td>critical</td>\n",
       "      <td>1</td>\n",
       "      <td>[[-0.611336886882782, 1.667067050933838, -0.08...</td>\n",
       "    </tr>\n",
       "    <tr>\n",
       "      <th>2</th>\n",
       "      <td>12783</td>\n",
       "      <td>critical</td>\n",
       "      <td>1</td>\n",
       "      <td>[[-25.163928985595703, 32.38447189331055, -5.0...</td>\n",
       "    </tr>\n",
       "    <tr>\n",
       "      <th>3</th>\n",
       "      <td>12754</td>\n",
       "      <td>critical</td>\n",
       "      <td>1</td>\n",
       "      <td>[[-13.66582202911377, 26.740516662597656, -6.1...</td>\n",
       "    </tr>\n",
       "    <tr>\n",
       "      <th>4</th>\n",
       "      <td>4277</td>\n",
       "      <td>critical</td>\n",
       "      <td>1</td>\n",
       "      <td>[[-15.209061622619629, 20.849018096923828, -4....</td>\n",
       "    </tr>\n",
       "  </tbody>\n",
       "</table>\n",
       "</div>"
      ],
      "text/plain": [
       "   sample_id  severity  label  \\\n",
       "0      12150  critical      1   \n",
       "1      10168  critical      1   \n",
       "2      12783  critical      1   \n",
       "3      12754  critical      1   \n",
       "4       4277  critical      1   \n",
       "\n",
       "                                embeded_sequence_sum  \n",
       "0  [[-10.351140975952148, 18.46828842163086, -1.5...  \n",
       "1  [[-0.611336886882782, 1.667067050933838, -0.08...  \n",
       "2  [[-25.163928985595703, 32.38447189331055, -5.0...  \n",
       "3  [[-13.66582202911377, 26.740516662597656, -6.1...  \n",
       "4  [[-15.209061622619629, 20.849018096923828, -4....  "
      ]
     },
     "execution_count": 4,
     "metadata": {},
     "output_type": "execute_result"
    }
   ],
   "source": [
    "embeded_sum = df.loc[:, ['sample_id', 'severity', 'label', 'embeded_sequence_sum']]\n",
    "embeded_avg = df.loc[:, ['sample_id', 'severity', 'label', 'embeded_sequence_avg']]\n",
    "embeded_sum.head()"
   ]
  },
  {
   "cell_type": "code",
   "execution_count": 5,
   "metadata": {},
   "outputs": [
    {
     "name": "stdout",
     "output_type": "stream",
     "text": [
      "0    [[-10.351140975952148, 18.46828842163086, -1.5...\n",
      "1    [[-0.611336886882782, 1.667067050933838, -0.08...\n",
      "2    [[-25.163928985595703, 32.38447189331055, -5.0...\n",
      "3    [[-13.66582202911377, 26.740516662597656, -6.1...\n",
      "4    [[-15.209061622619629, 20.849018096923828, -4....\n",
      "Name: embeded_sequence_sum, dtype: object\n",
      "embeded_sequence_sum\n",
      "<class 'list'>    3027\n",
      "Name: count, dtype: int64\n"
     ]
    }
   ],
   "source": [
    "print(embeded_sum[\"embeded_sequence_sum\"].head())\n",
    "print(embeded_sum[\"embeded_sequence_sum\"].apply(type).value_counts())"
   ]
  },
  {
   "cell_type": "code",
   "execution_count": 6,
   "metadata": {},
   "outputs": [],
   "source": [
    "def process_embedding(x):\n",
    "    if x is None:\n",
    "        return []  \n",
    "    elif isinstance(x, pd.Series):\n",
    "        return \" \".join(map(str, x))\n",
    "    else:\n",
    "        return str(x)  \n",
    "\n",
    "embeded_sum[\"embeded_sequence_sum\"] = embeded_sum[\"embeded_sequence_sum\"].apply(process_embedding)\n"
   ]
  },
  {
   "cell_type": "code",
   "execution_count": 7,
   "metadata": {},
   "outputs": [
    {
     "name": "stdout",
     "output_type": "stream",
     "text": [
      "0    [[-10.351140975952148, 18.46828842163086, -1.5...\n",
      "1    [[-0.611336886882782, 1.667067050933838, -0.08...\n",
      "2    [[-25.163928985595703, 32.38447189331055, -5.0...\n",
      "3    [[-13.66582202911377, 26.740516662597656, -6.1...\n",
      "4    [[-15.209061622619629, 20.849018096923828, -4....\n",
      "Name: embeded_sequence_sum, dtype: object\n"
     ]
    }
   ],
   "source": [
    "print(embeded_sum[\"embeded_sequence_sum\"].head())"
   ]
  },
  {
   "cell_type": "code",
   "execution_count": 8,
   "metadata": {},
   "outputs": [],
   "source": [
    "embeded_sum[\"embeded_sequence_sum\"] = embeded_sum[\"embeded_sequence_sum\"].apply(\n",
    "    lambda x: \" \".join(str(i) for i in x) if isinstance(x, pd.Series) else str(x)\n",
    ")"
   ]
  },
  {
   "cell_type": "code",
   "execution_count": 9,
   "metadata": {},
   "outputs": [],
   "source": [
    "import re\n",
    "\n",
    "def parse_flat_embedding(embedding_str):\n",
    "    # Ensure input is a string\n",
    "    if not isinstance(embedding_str, str):\n",
    "        return []\n",
    "    try:\n",
    "        # Extract numerical values from the string\n",
    "        values = re.findall(r\"[-+]?\\d*\\.\\d+|\\d+\", embedding_str)\n",
    "        return [float(v) for v in values]\n",
    "    except Exception as e:\n",
    "        print(f\"Error parsing: {embedding_str} -> {e}\")\n",
    "        return []\n"
   ]
  },
  {
   "cell_type": "code",
   "execution_count": 10,
   "metadata": {},
   "outputs": [],
   "source": [
    "embeded_sum[\"embeded_sequence_sum\"] = embeded_sum[\"embeded_sequence_sum\"].apply(parse_flat_embedding)"
   ]
  },
  {
   "cell_type": "code",
   "execution_count": 11,
   "metadata": {},
   "outputs": [
    {
     "name": "stdout",
     "output_type": "stream",
     "text": [
      "Embedding length: 768\n",
      "Most common sequence length: 768\n",
      "Count of rows with this length: 2894\n"
     ]
    }
   ],
   "source": [
    "n = len(embeded_sum[\"embeded_sequence_sum\"][0])\n",
    "print(f\"Embedding length: {n}\")\n",
    "\n",
    "embed_lengths = embeded_sum[\"embeded_sequence_sum\"].apply(len)\n",
    "length_counts = embed_lengths.value_counts()\n",
    "most_common_length = length_counts.idxmax()\n",
    "\n",
    "n = most_common_length\n",
    "print(f\"Most common sequence length: {most_common_length}\")\n",
    "print(f\"Count of rows with this length: {length_counts[most_common_length]}\")\n"
   ]
  },
  {
   "cell_type": "code",
   "execution_count": 12,
   "metadata": {},
   "outputs": [
    {
     "name": "stdout",
     "output_type": "stream",
     "text": [
      "0    [-10.351140975952148, 18.46828842163086, -1.58...\n",
      "1    [-0.611336886882782, 1.667067050933838, -0.084...\n",
      "2    [-25.163928985595703, 32.38447189331055, -5.07...\n",
      "3    [-13.66582202911377, 26.740516662597656, -6.12...\n",
      "4    [-15.209061622619629, 20.849018096923828, -4.4...\n",
      "Name: embeded_sequence_sum, dtype: object\n"
     ]
    }
   ],
   "source": [
    " # Function to handle the trimming or padding of the sequence\n",
    "embeded_sum[\"embeded_sequence_sum\"] = embeded_sum[\"embeded_sequence_sum\"].apply(\n",
    "    lambda x: (x[:n] if len(x) > n else x + [0] * (n - len(x))) if isinstance(x, list) else [0] * n\n",
    ")\n",
    "\n",
    "print(embeded_sum[\"embeded_sequence_sum\"].head())"
   ]
  },
  {
   "cell_type": "code",
   "execution_count": 13,
   "metadata": {},
   "outputs": [
    {
     "name": "stdout",
     "output_type": "stream",
     "text": [
      "embeded_sequence_sum\n",
      "768    3027\n",
      "Name: count, dtype: int64\n"
     ]
    }
   ],
   "source": [
    "embed_lengths = embeded_sum[\"embeded_sequence_sum\"].apply(len)\n",
    "print(embed_lengths.value_counts())\n"
   ]
  },
  {
   "cell_type": "code",
   "execution_count": 14,
   "metadata": {},
   "outputs": [
    {
     "name": "stdout",
     "output_type": "stream",
     "text": [
      "       emb_1      emb_2     emb_3      emb_4      emb_5      emb_6      emb_7  \\\n",
      "0 -10.351141  18.468288 -1.587198   5.859317   6.370951 -15.148269   4.167015   \n",
      "1  -0.611337   1.667067 -0.084088   0.345362   0.262180  -0.930403   0.067351   \n",
      "2 -25.163929  32.384472 -5.075072  14.601456  21.233459 -35.906075  11.761786   \n",
      "3 -13.665822  26.740517 -6.125227  11.503922  20.571180 -28.369169   9.178022   \n",
      "4 -15.209062  20.849018 -4.461039   6.608896  12.249491 -21.742653   7.111282   \n",
      "\n",
      "      emb_8      emb_9     emb_10  ...    emb_762    emb_763   emb_764  \\\n",
      "0  1.770694  16.307508 -18.527201  ...  40.539562  -5.868604 -0.525147   \n",
      "1  0.382352   1.096432  -1.287243  ...   2.431135  -0.560943  0.054394   \n",
      "2  4.701000  33.779083 -38.444489  ...  89.350410  -8.292704 -4.148782   \n",
      "3  3.348720  27.385149 -33.969685  ...  81.852448 -11.761877  0.143565   \n",
      "4  2.520332  18.878557 -22.469709  ...  51.909943  -5.237012 -1.983984   \n",
      "\n",
      "     emb_765    emb_766    emb_767    emb_768  label  sample_id  severity  \n",
      "0  29.252869 -18.695196 -24.255198  24.902847      1      12150  critical  \n",
      "1   2.061535  -1.769360  -1.742720   1.817466      1      10168  critical  \n",
      "2  66.433205 -30.335083 -53.939602  48.110039      1      12783  critical  \n",
      "3  51.751614 -27.834795 -45.927044  45.104542      1      12754  critical  \n",
      "4  37.225739 -20.388968 -32.374943  29.900106      1       4277  critical  \n",
      "\n",
      "[5 rows x 771 columns]\n"
     ]
    }
   ],
   "source": [
    "# Create column names for embeddings\n",
    "columns = [f'emb_{i+1}' for i in range(n)]\n",
    "\n",
    "# Create a DataFrame for embedding values\n",
    "data = pd.DataFrame(embeded_sum[\"embeded_sequence_sum\"].to_list(), columns=columns)\n",
    "\n",
    "# Add metadata columns\n",
    "data['label'] = embeded_sum['label']\n",
    "data['sample_id'] = embeded_sum['sample_id']\n",
    "data['severity'] = embeded_sum['severity']\n",
    "\n",
    "# Display the result\n",
    "print(data.head())\n"
   ]
  },
  {
   "cell_type": "code",
   "execution_count": 15,
   "metadata": {},
   "outputs": [],
   "source": [
    "dataset_path = '/Users/mac/Desktop/Code_Smell_Detection/dataset/feature_envy/codebert_embeddings/processed_embeddings/codebert_base_embed_line_by_line_sum.pkl'\n",
    "pd.to_pickle(data, dataset_path)"
   ]
  },
  {
   "cell_type": "code",
   "execution_count": 16,
   "metadata": {},
   "outputs": [
    {
     "name": "stdout",
     "output_type": "stream",
     "text": [
      "0    [[-0.16430382430553436, 0.2931474447250366, -0...\n",
      "1    [[-0.12226738035678864, 0.33341342210769653, -...\n",
      "2    [[-0.20458479225635529, 0.26328837871551514, -...\n",
      "3    [[-0.12201626598834991, 0.23875461518764496, -...\n",
      "4    [[-0.19752028584480286, 0.2707664668560028, -0...\n",
      "Name: embeded_sequence_avg, dtype: object\n",
      "embeded_sequence_avg\n",
      "<class 'list'>    3027\n",
      "Name: count, dtype: int64\n"
     ]
    }
   ],
   "source": [
    "print(embeded_avg[\"embeded_sequence_avg\"].head())\n",
    "print(embeded_avg[\"embeded_sequence_avg\"].apply(type).value_counts())"
   ]
  },
  {
   "cell_type": "code",
   "execution_count": 17,
   "metadata": {},
   "outputs": [],
   "source": [
    "embeded_avg[\"embeded_sequence_avg\"] = embeded_avg[\"embeded_sequence_avg\"].apply(\n",
    "    lambda x: \" \".join(str(i) for i in x) if isinstance(x, pd.Series) else str(x)\n",
    ")"
   ]
  },
  {
   "cell_type": "code",
   "execution_count": 18,
   "metadata": {},
   "outputs": [
    {
     "name": "stdout",
     "output_type": "stream",
     "text": [
      "Embedding length: 16292\n"
     ]
    }
   ],
   "source": [
    "n = len(embeded_avg[\"embeded_sequence_avg\"][0])\n",
    "print(f\"Embedding length: {n}\")"
   ]
  },
  {
   "cell_type": "code",
   "execution_count": 19,
   "metadata": {},
   "outputs": [],
   "source": [
    "embeded_avg[\"embeded_sequence_avg\"] = embeded_avg[\"embeded_sequence_avg\"].apply(parse_flat_embedding)"
   ]
  },
  {
   "cell_type": "code",
   "execution_count": 20,
   "metadata": {},
   "outputs": [
    {
     "name": "stdout",
     "output_type": "stream",
     "text": [
      "Most common sequence length: 768\n",
      "Count of rows with this length: 2289\n"
     ]
    }
   ],
   "source": [
    "embed_lengths = embeded_avg[\"embeded_sequence_avg\"].apply(len)\n",
    "length_counts = embed_lengths.value_counts()\n",
    "most_common_length = length_counts.idxmax()\n",
    "\n",
    "n = most_common_length\n",
    "print(f\"Most common sequence length: {most_common_length}\")\n",
    "print(f\"Count of rows with this length: {length_counts[most_common_length]}\")"
   ]
  },
  {
   "cell_type": "code",
   "execution_count": 21,
   "metadata": {},
   "outputs": [
    {
     "name": "stdout",
     "output_type": "stream",
     "text": [
      "0    [-0.16430382430553436, 0.2931474447250366, -0....\n",
      "1    [-0.12226738035678864, 0.33341342210769653, -0...\n",
      "2    [-0.20458479225635529, 0.26328837871551514, -0...\n",
      "3    [-0.12201626598834991, 0.23875461518764496, -0...\n",
      "4    [-0.19752028584480286, 0.2707664668560028, -0....\n",
      "Name: embeded_sequence_avg, dtype: object\n"
     ]
    }
   ],
   "source": [
    "# Function to handle the trimming or padding of the sequence\n",
    "embeded_avg[\"embeded_sequence_avg\"] = embeded_avg[\"embeded_sequence_avg\"].apply(\n",
    "    lambda x: (x[:n] if len(x) > n else x + [0] * (n - len(x))) if isinstance(x, list) else [0] * n\n",
    ")\n",
    "\n",
    "print(embeded_avg[\"embeded_sequence_avg\"].head())"
   ]
  },
  {
   "cell_type": "code",
   "execution_count": 22,
   "metadata": {},
   "outputs": [
    {
     "name": "stdout",
     "output_type": "stream",
     "text": [
      "embeded_sequence_avg\n",
      "768    3027\n",
      "Name: count, dtype: int64\n"
     ]
    }
   ],
   "source": [
    "embed_lengths = embeded_avg[\"embeded_sequence_avg\"].apply(len)\n",
    "print(embed_lengths.value_counts())"
   ]
  },
  {
   "cell_type": "code",
   "execution_count": 23,
   "metadata": {},
   "outputs": [
    {
     "data": {
      "text/html": [
       "<div>\n",
       "<style scoped>\n",
       "    .dataframe tbody tr th:only-of-type {\n",
       "        vertical-align: middle;\n",
       "    }\n",
       "\n",
       "    .dataframe tbody tr th {\n",
       "        vertical-align: top;\n",
       "    }\n",
       "\n",
       "    .dataframe thead th {\n",
       "        text-align: right;\n",
       "    }\n",
       "</style>\n",
       "<table border=\"1\" class=\"dataframe\">\n",
       "  <thead>\n",
       "    <tr style=\"text-align: right;\">\n",
       "      <th></th>\n",
       "      <th>emb_1</th>\n",
       "      <th>emb_2</th>\n",
       "      <th>emb_3</th>\n",
       "      <th>emb_4</th>\n",
       "      <th>emb_5</th>\n",
       "      <th>emb_6</th>\n",
       "      <th>emb_7</th>\n",
       "      <th>emb_8</th>\n",
       "      <th>emb_9</th>\n",
       "      <th>emb_10</th>\n",
       "      <th>...</th>\n",
       "      <th>emb_762</th>\n",
       "      <th>emb_763</th>\n",
       "      <th>emb_764</th>\n",
       "      <th>emb_765</th>\n",
       "      <th>emb_766</th>\n",
       "      <th>emb_767</th>\n",
       "      <th>emb_768</th>\n",
       "      <th>label</th>\n",
       "      <th>sample_id</th>\n",
       "      <th>severity</th>\n",
       "    </tr>\n",
       "  </thead>\n",
       "  <tbody>\n",
       "    <tr>\n",
       "      <th>0</th>\n",
       "      <td>-0.164304</td>\n",
       "      <td>0.293147</td>\n",
       "      <td>-0.025194</td>\n",
       "      <td>0.093005</td>\n",
       "      <td>0.101126</td>\n",
       "      <td>-0.240449</td>\n",
       "      <td>0.066143</td>\n",
       "      <td>0.028106</td>\n",
       "      <td>0.258849</td>\n",
       "      <td>-0.294083</td>\n",
       "      <td>...</td>\n",
       "      <td>0.643485</td>\n",
       "      <td>-0.093152</td>\n",
       "      <td>-0.008336</td>\n",
       "      <td>0.464331</td>\n",
       "      <td>-0.296749</td>\n",
       "      <td>-0.385003</td>\n",
       "      <td>0.395283</td>\n",
       "      <td>1</td>\n",
       "      <td>12150</td>\n",
       "      <td>critical</td>\n",
       "    </tr>\n",
       "    <tr>\n",
       "      <th>1</th>\n",
       "      <td>-0.122267</td>\n",
       "      <td>0.333413</td>\n",
       "      <td>-0.016818</td>\n",
       "      <td>0.069072</td>\n",
       "      <td>0.052436</td>\n",
       "      <td>-0.186081</td>\n",
       "      <td>0.013470</td>\n",
       "      <td>0.076470</td>\n",
       "      <td>0.219286</td>\n",
       "      <td>-0.257449</td>\n",
       "      <td>...</td>\n",
       "      <td>0.486227</td>\n",
       "      <td>-0.112189</td>\n",
       "      <td>0.010879</td>\n",
       "      <td>0.412307</td>\n",
       "      <td>-0.353872</td>\n",
       "      <td>-0.348544</td>\n",
       "      <td>0.363493</td>\n",
       "      <td>1</td>\n",
       "      <td>10168</td>\n",
       "      <td>critical</td>\n",
       "    </tr>\n",
       "    <tr>\n",
       "      <th>2</th>\n",
       "      <td>-0.204585</td>\n",
       "      <td>0.263288</td>\n",
       "      <td>-0.041261</td>\n",
       "      <td>0.118711</td>\n",
       "      <td>0.172630</td>\n",
       "      <td>-0.291919</td>\n",
       "      <td>0.095624</td>\n",
       "      <td>0.038220</td>\n",
       "      <td>0.274627</td>\n",
       "      <td>-0.312557</td>\n",
       "      <td>...</td>\n",
       "      <td>0.726426</td>\n",
       "      <td>-0.067420</td>\n",
       "      <td>-0.033730</td>\n",
       "      <td>0.540107</td>\n",
       "      <td>-0.246627</td>\n",
       "      <td>-0.438533</td>\n",
       "      <td>0.391139</td>\n",
       "      <td>1</td>\n",
       "      <td>12783</td>\n",
       "      <td>critical</td>\n",
       "    </tr>\n",
       "    <tr>\n",
       "      <th>3</th>\n",
       "      <td>-0.122016</td>\n",
       "      <td>0.238755</td>\n",
       "      <td>-0.054690</td>\n",
       "      <td>0.102714</td>\n",
       "      <td>0.183671</td>\n",
       "      <td>-0.253296</td>\n",
       "      <td>0.081947</td>\n",
       "      <td>0.029899</td>\n",
       "      <td>0.244510</td>\n",
       "      <td>-0.303301</td>\n",
       "      <td>...</td>\n",
       "      <td>0.730825</td>\n",
       "      <td>-0.105017</td>\n",
       "      <td>0.001282</td>\n",
       "      <td>0.462068</td>\n",
       "      <td>-0.248525</td>\n",
       "      <td>-0.410063</td>\n",
       "      <td>0.402719</td>\n",
       "      <td>1</td>\n",
       "      <td>12754</td>\n",
       "      <td>critical</td>\n",
       "    </tr>\n",
       "    <tr>\n",
       "      <th>4</th>\n",
       "      <td>-0.197520</td>\n",
       "      <td>0.270766</td>\n",
       "      <td>-0.057936</td>\n",
       "      <td>0.085830</td>\n",
       "      <td>0.159084</td>\n",
       "      <td>-0.282372</td>\n",
       "      <td>0.092354</td>\n",
       "      <td>0.032732</td>\n",
       "      <td>0.245176</td>\n",
       "      <td>-0.291814</td>\n",
       "      <td>...</td>\n",
       "      <td>0.674155</td>\n",
       "      <td>-0.068013</td>\n",
       "      <td>-0.025766</td>\n",
       "      <td>0.483451</td>\n",
       "      <td>-0.264792</td>\n",
       "      <td>-0.420454</td>\n",
       "      <td>0.388313</td>\n",
       "      <td>1</td>\n",
       "      <td>4277</td>\n",
       "      <td>critical</td>\n",
       "    </tr>\n",
       "  </tbody>\n",
       "</table>\n",
       "<p>5 rows × 771 columns</p>\n",
       "</div>"
      ],
      "text/plain": [
       "      emb_1     emb_2     emb_3     emb_4     emb_5     emb_6     emb_7  \\\n",
       "0 -0.164304  0.293147 -0.025194  0.093005  0.101126 -0.240449  0.066143   \n",
       "1 -0.122267  0.333413 -0.016818  0.069072  0.052436 -0.186081  0.013470   \n",
       "2 -0.204585  0.263288 -0.041261  0.118711  0.172630 -0.291919  0.095624   \n",
       "3 -0.122016  0.238755 -0.054690  0.102714  0.183671 -0.253296  0.081947   \n",
       "4 -0.197520  0.270766 -0.057936  0.085830  0.159084 -0.282372  0.092354   \n",
       "\n",
       "      emb_8     emb_9    emb_10  ...   emb_762   emb_763   emb_764   emb_765  \\\n",
       "0  0.028106  0.258849 -0.294083  ...  0.643485 -0.093152 -0.008336  0.464331   \n",
       "1  0.076470  0.219286 -0.257449  ...  0.486227 -0.112189  0.010879  0.412307   \n",
       "2  0.038220  0.274627 -0.312557  ...  0.726426 -0.067420 -0.033730  0.540107   \n",
       "3  0.029899  0.244510 -0.303301  ...  0.730825 -0.105017  0.001282  0.462068   \n",
       "4  0.032732  0.245176 -0.291814  ...  0.674155 -0.068013 -0.025766  0.483451   \n",
       "\n",
       "    emb_766   emb_767   emb_768  label  sample_id  severity  \n",
       "0 -0.296749 -0.385003  0.395283      1      12150  critical  \n",
       "1 -0.353872 -0.348544  0.363493      1      10168  critical  \n",
       "2 -0.246627 -0.438533  0.391139      1      12783  critical  \n",
       "3 -0.248525 -0.410063  0.402719      1      12754  critical  \n",
       "4 -0.264792 -0.420454  0.388313      1       4277  critical  \n",
       "\n",
       "[5 rows x 771 columns]"
      ]
     },
     "execution_count": 23,
     "metadata": {},
     "output_type": "execute_result"
    }
   ],
   "source": [
    "columns = [f'emb_{i+1}' for i in range(n)]\n",
    "data = pd.DataFrame(embeded_avg[\"embeded_sequence_avg\"].to_list(), columns=columns)\n",
    "data['label'] = embeded_avg['label']\n",
    "data['sample_id'] = embeded_avg['sample_id']\n",
    "data['severity'] = embeded_avg['severity']\n",
    "data.head()"
   ]
  },
  {
   "cell_type": "code",
   "execution_count": 24,
   "metadata": {},
   "outputs": [],
   "source": [
    "dataset_path = '/Users/mac/Desktop/Code_Smell_Detection/dataset/feature_envy/codebert_embeddings/processed_embeddings/codebert_base_embed_line_by_line_avg.pkl'\n",
    "pd.to_pickle(data, dataset_path)"
   ]
  }
 ],
 "metadata": {
  "kernelspec": {
   "display_name": "Python 3",
   "language": "python",
   "name": "python3"
  },
  "language_info": {
   "codemirror_mode": {
    "name": "ipython",
    "version": 3
   },
   "file_extension": ".py",
   "mimetype": "text/x-python",
   "name": "python",
   "nbconvert_exporter": "python",
   "pygments_lexer": "ipython3",
   "version": "3.13.0"
  }
 },
 "nbformat": 4,
 "nbformat_minor": 2
}
