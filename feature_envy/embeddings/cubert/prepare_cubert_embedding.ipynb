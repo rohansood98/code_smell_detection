{
 "cells": [
  {
   "cell_type": "code",
   "execution_count": 1,
   "metadata": {},
   "outputs": [],
   "source": [
    "import pandas as pd\n",
    "import pickle"
   ]
  },
  {
   "cell_type": "code",
   "execution_count": 2,
   "metadata": {},
   "outputs": [
    {
     "name": "stderr",
     "output_type": "stream",
     "text": [
      "/var/folders/d8/cr798cb57kzd5kz_r8g8jm380000gn/T/ipykernel_51882/2128490750.py:3: DeprecationWarning: numpy.core.numeric is deprecated and has been renamed to numpy._core.numeric. The numpy._core namespace contains private NumPy internals and its use is discouraged, as NumPy internals can change without warning in any release. In practice, most real-world usage of numpy.core is to access functionality in the public NumPy API. If that is the case, use the public NumPy API. If not, you are using NumPy internals. If you would still like to access an internal attribute, use numpy._core.numeric._frombuffer.\n",
      "  df = pickle.load(fh)\n"
     ]
    }
   ],
   "source": [
    "file_path = \"/Users/mac/Desktop/Code_Smell_Detection/dataset/feature_envy/cubert_embeddings/df_fe_embeded_by_line_cubert.pkl\"\n",
    "with open(file_path, \"rb\") as fh:\n",
    "  df = pickle.load(fh)"
   ]
  },
  {
   "cell_type": "code",
   "execution_count": 3,
   "metadata": {},
   "outputs": [
    {
     "data": {
      "text/html": [
       "<div>\n",
       "<style scoped>\n",
       "    .dataframe tbody tr th:only-of-type {\n",
       "        vertical-align: middle;\n",
       "    }\n",
       "\n",
       "    .dataframe tbody tr th {\n",
       "        vertical-align: top;\n",
       "    }\n",
       "\n",
       "    .dataframe thead th {\n",
       "        text-align: right;\n",
       "    }\n",
       "</style>\n",
       "<table border=\"1\" class=\"dataframe\">\n",
       "  <thead>\n",
       "    <tr style=\"text-align: right;\">\n",
       "      <th></th>\n",
       "      <th>sample_id</th>\n",
       "      <th>severity</th>\n",
       "      <th>method</th>\n",
       "      <th>label</th>\n",
       "      <th>embeded_sequence_sum</th>\n",
       "      <th>embeded_sequence_avg</th>\n",
       "    </tr>\n",
       "  </thead>\n",
       "  <tbody>\n",
       "    <tr>\n",
       "      <th>0</th>\n",
       "      <td>12150</td>\n",
       "      <td>critical</td>\n",
       "      <td>public SystemDiagnosticsDTO createSystemDi...</td>\n",
       "      <td>1</td>\n",
       "      <td>[[-42.401798248291016, -26.870685577392578, -4...</td>\n",
       "      <td>[[-0.6730444431304932, -0.42651882767677307, -...</td>\n",
       "    </tr>\n",
       "    <tr>\n",
       "      <th>1</th>\n",
       "      <td>10168</td>\n",
       "      <td>critical</td>\n",
       "      <td>protected void addRequiredAlertProperties(Se...</td>\n",
       "      <td>1</td>\n",
       "      <td>[[4.771414279937744, -9.410942077636719, -2.36...</td>\n",
       "      <td>[[0.9542828798294067, -1.8821884393692017, -0....</td>\n",
       "    </tr>\n",
       "    <tr>\n",
       "      <th>2</th>\n",
       "      <td>12783</td>\n",
       "      <td>critical</td>\n",
       "      <td>@SuppressWarnings(\"try\")\\n    private void...</td>\n",
       "      <td>1</td>\n",
       "      <td>[[11.647194862365723, -80.076416015625, -124.1...</td>\n",
       "      <td>[[0.0946926400065422, -0.6510277986526489, -1....</td>\n",
       "    </tr>\n",
       "    <tr>\n",
       "      <th>3</th>\n",
       "      <td>12754</td>\n",
       "      <td>critical</td>\n",
       "      <td>public void validateDepositDetailForUpdate...</td>\n",
       "      <td>1</td>\n",
       "      <td>[[-6.452081680297852, -117.95765686035156, -12...</td>\n",
       "      <td>[[-0.05760787054896355, -1.0531933307647705, -...</td>\n",
       "    </tr>\n",
       "    <tr>\n",
       "      <th>4</th>\n",
       "      <td>4277</td>\n",
       "      <td>critical</td>\n",
       "      <td>@Override\\n    public ListenableFuture&lt;Voi...</td>\n",
       "      <td>1</td>\n",
       "      <td>[[8.61170482635498, -30.42780113220215, -61.42...</td>\n",
       "      <td>[[0.11184032261371613, -0.3951662480831146, -0...</td>\n",
       "    </tr>\n",
       "  </tbody>\n",
       "</table>\n",
       "</div>"
      ],
      "text/plain": [
       "   sample_id  severity                                             method  \\\n",
       "0      12150  critical      public SystemDiagnosticsDTO createSystemDi...   \n",
       "1      10168  critical    protected void addRequiredAlertProperties(Se...   \n",
       "2      12783  critical      @SuppressWarnings(\"try\")\\n    private void...   \n",
       "3      12754  critical      public void validateDepositDetailForUpdate...   \n",
       "4       4277  critical      @Override\\n    public ListenableFuture<Voi...   \n",
       "\n",
       "   label                               embeded_sequence_sum  \\\n",
       "0      1  [[-42.401798248291016, -26.870685577392578, -4...   \n",
       "1      1  [[4.771414279937744, -9.410942077636719, -2.36...   \n",
       "2      1  [[11.647194862365723, -80.076416015625, -124.1...   \n",
       "3      1  [[-6.452081680297852, -117.95765686035156, -12...   \n",
       "4      1  [[8.61170482635498, -30.42780113220215, -61.42...   \n",
       "\n",
       "                                embeded_sequence_avg  \n",
       "0  [[-0.6730444431304932, -0.42651882767677307, -...  \n",
       "1  [[0.9542828798294067, -1.8821884393692017, -0....  \n",
       "2  [[0.0946926400065422, -0.6510277986526489, -1....  \n",
       "3  [[-0.05760787054896355, -1.0531933307647705, -...  \n",
       "4  [[0.11184032261371613, -0.3951662480831146, -0...  "
      ]
     },
     "execution_count": 3,
     "metadata": {},
     "output_type": "execute_result"
    }
   ],
   "source": [
    "df.head()"
   ]
  },
  {
   "cell_type": "code",
   "execution_count": 4,
   "metadata": {},
   "outputs": [
    {
     "data": {
      "text/html": [
       "<div>\n",
       "<style scoped>\n",
       "    .dataframe tbody tr th:only-of-type {\n",
       "        vertical-align: middle;\n",
       "    }\n",
       "\n",
       "    .dataframe tbody tr th {\n",
       "        vertical-align: top;\n",
       "    }\n",
       "\n",
       "    .dataframe thead th {\n",
       "        text-align: right;\n",
       "    }\n",
       "</style>\n",
       "<table border=\"1\" class=\"dataframe\">\n",
       "  <thead>\n",
       "    <tr style=\"text-align: right;\">\n",
       "      <th></th>\n",
       "      <th>sample_id</th>\n",
       "      <th>severity</th>\n",
       "      <th>label</th>\n",
       "      <th>embeded_sequence_sum</th>\n",
       "    </tr>\n",
       "  </thead>\n",
       "  <tbody>\n",
       "    <tr>\n",
       "      <th>0</th>\n",
       "      <td>12150</td>\n",
       "      <td>critical</td>\n",
       "      <td>1</td>\n",
       "      <td>[[-42.401798248291016, -26.870685577392578, -4...</td>\n",
       "    </tr>\n",
       "    <tr>\n",
       "      <th>1</th>\n",
       "      <td>10168</td>\n",
       "      <td>critical</td>\n",
       "      <td>1</td>\n",
       "      <td>[[4.771414279937744, -9.410942077636719, -2.36...</td>\n",
       "    </tr>\n",
       "    <tr>\n",
       "      <th>2</th>\n",
       "      <td>12783</td>\n",
       "      <td>critical</td>\n",
       "      <td>1</td>\n",
       "      <td>[[11.647194862365723, -80.076416015625, -124.1...</td>\n",
       "    </tr>\n",
       "    <tr>\n",
       "      <th>3</th>\n",
       "      <td>12754</td>\n",
       "      <td>critical</td>\n",
       "      <td>1</td>\n",
       "      <td>[[-6.452081680297852, -117.95765686035156, -12...</td>\n",
       "    </tr>\n",
       "    <tr>\n",
       "      <th>4</th>\n",
       "      <td>4277</td>\n",
       "      <td>critical</td>\n",
       "      <td>1</td>\n",
       "      <td>[[8.61170482635498, -30.42780113220215, -61.42...</td>\n",
       "    </tr>\n",
       "  </tbody>\n",
       "</table>\n",
       "</div>"
      ],
      "text/plain": [
       "   sample_id  severity  label  \\\n",
       "0      12150  critical      1   \n",
       "1      10168  critical      1   \n",
       "2      12783  critical      1   \n",
       "3      12754  critical      1   \n",
       "4       4277  critical      1   \n",
       "\n",
       "                                embeded_sequence_sum  \n",
       "0  [[-42.401798248291016, -26.870685577392578, -4...  \n",
       "1  [[4.771414279937744, -9.410942077636719, -2.36...  \n",
       "2  [[11.647194862365723, -80.076416015625, -124.1...  \n",
       "3  [[-6.452081680297852, -117.95765686035156, -12...  \n",
       "4  [[8.61170482635498, -30.42780113220215, -61.42...  "
      ]
     },
     "execution_count": 4,
     "metadata": {},
     "output_type": "execute_result"
    }
   ],
   "source": [
    "embeded_sum = df.loc[:, ['sample_id', 'severity', 'label', 'embeded_sequence_sum']]\n",
    "embeded_avg = df.loc[:, ['sample_id', 'severity', 'label', 'embeded_sequence_avg']]\n",
    "embeded_sum.head()"
   ]
  },
  {
   "cell_type": "code",
   "execution_count": 5,
   "metadata": {},
   "outputs": [
    {
     "name": "stdout",
     "output_type": "stream",
     "text": [
      "0    [[-42.401798248291016, -26.870685577392578, -4...\n",
      "1    [[4.771414279937744, -9.410942077636719, -2.36...\n",
      "2    [[11.647194862365723, -80.076416015625, -124.1...\n",
      "3    [[-6.452081680297852, -117.95765686035156, -12...\n",
      "4    [[8.61170482635498, -30.42780113220215, -61.42...\n",
      "Name: embeded_sequence_sum, dtype: object\n",
      "embeded_sequence_sum\n",
      "<class 'list'>    3027\n",
      "Name: count, dtype: int64\n"
     ]
    }
   ],
   "source": [
    "print(embeded_sum[\"embeded_sequence_sum\"].head())\n",
    "print(embeded_sum[\"embeded_sequence_sum\"].apply(type).value_counts())"
   ]
  },
  {
   "cell_type": "code",
   "execution_count": 6,
   "metadata": {},
   "outputs": [],
   "source": [
    "def process_embedding(x):\n",
    "    if x is None:\n",
    "        return []  \n",
    "    elif isinstance(x, pd.Series):\n",
    "        return \" \".join(map(str, x))\n",
    "    else:\n",
    "        return str(x)  \n",
    "\n",
    "embeded_sum[\"embeded_sequence_sum\"] = embeded_sum[\"embeded_sequence_sum\"].apply(process_embedding)\n"
   ]
  },
  {
   "cell_type": "code",
   "execution_count": 7,
   "metadata": {},
   "outputs": [
    {
     "name": "stdout",
     "output_type": "stream",
     "text": [
      "0    [[-42.401798248291016, -26.870685577392578, -4...\n",
      "1    [[4.771414279937744, -9.410942077636719, -2.36...\n",
      "2    [[11.647194862365723, -80.076416015625, -124.1...\n",
      "3    [[-6.452081680297852, -117.95765686035156, -12...\n",
      "4    [[8.61170482635498, -30.42780113220215, -61.42...\n",
      "Name: embeded_sequence_sum, dtype: object\n"
     ]
    }
   ],
   "source": [
    "print(embeded_sum[\"embeded_sequence_sum\"].head())"
   ]
  },
  {
   "cell_type": "code",
   "execution_count": 8,
   "metadata": {},
   "outputs": [],
   "source": [
    "embeded_sum[\"embeded_sequence_sum\"] = embeded_sum[\"embeded_sequence_sum\"].apply(\n",
    "    lambda x: \" \".join(str(i) for i in x) if isinstance(x, pd.Series) else str(x)\n",
    ")"
   ]
  },
  {
   "cell_type": "code",
   "execution_count": 9,
   "metadata": {},
   "outputs": [],
   "source": [
    "import re\n",
    "\n",
    "def parse_flat_embedding(embedding_str):\n",
    "    # Ensure input is a string\n",
    "    if not isinstance(embedding_str, str):\n",
    "        return []\n",
    "    try:\n",
    "        # Extract numerical values from the string\n",
    "        values = re.findall(r\"[-+]?\\d*\\.\\d+|\\d+\", embedding_str)\n",
    "        return [float(v) for v in values]\n",
    "    except Exception as e:\n",
    "        print(f\"Error parsing: {embedding_str} -> {e}\")\n",
    "        return []\n"
   ]
  },
  {
   "cell_type": "code",
   "execution_count": 10,
   "metadata": {},
   "outputs": [],
   "source": [
    "embeded_sum[\"embeded_sequence_sum\"] = embeded_sum[\"embeded_sequence_sum\"].apply(parse_flat_embedding)"
   ]
  },
  {
   "cell_type": "code",
   "execution_count": 11,
   "metadata": {},
   "outputs": [
    {
     "name": "stdout",
     "output_type": "stream",
     "text": [
      "Embedding length: 768\n",
      "Most common sequence length: 768\n",
      "Count of rows with this length: 2985\n"
     ]
    }
   ],
   "source": [
    "n = len(embeded_sum[\"embeded_sequence_sum\"][0])\n",
    "print(f\"Embedding length: {n}\")\n",
    "\n",
    "embed_lengths = embeded_sum[\"embeded_sequence_sum\"].apply(len)\n",
    "length_counts = embed_lengths.value_counts()\n",
    "most_common_length = length_counts.idxmax()\n",
    "\n",
    "n = most_common_length\n",
    "print(f\"Most common sequence length: {most_common_length}\")\n",
    "print(f\"Count of rows with this length: {length_counts[most_common_length]}\")\n"
   ]
  },
  {
   "cell_type": "code",
   "execution_count": 12,
   "metadata": {},
   "outputs": [
    {
     "name": "stdout",
     "output_type": "stream",
     "text": [
      "0    [-42.401798248291016, -26.870685577392578, -46...\n",
      "1    [4.771414279937744, -9.410942077636719, -2.367...\n",
      "2    [11.647194862365723, -80.076416015625, -124.18...\n",
      "3    [-6.452081680297852, -117.95765686035156, -129...\n",
      "4    [8.61170482635498, -30.42780113220215, -61.426...\n",
      "Name: embeded_sequence_sum, dtype: object\n"
     ]
    }
   ],
   "source": [
    " # Function to handle the trimming or padding of the sequence\n",
    "embeded_sum[\"embeded_sequence_sum\"] = embeded_sum[\"embeded_sequence_sum\"].apply(\n",
    "    lambda x: (x[:n] if len(x) > n else x + [0] * (n - len(x))) if isinstance(x, list) else [0] * n\n",
    ")\n",
    "\n",
    "print(embeded_sum[\"embeded_sequence_sum\"].head())"
   ]
  },
  {
   "cell_type": "code",
   "execution_count": 13,
   "metadata": {},
   "outputs": [
    {
     "name": "stdout",
     "output_type": "stream",
     "text": [
      "embeded_sequence_sum\n",
      "768    3027\n",
      "Name: count, dtype: int64\n"
     ]
    }
   ],
   "source": [
    "embed_lengths = embeded_sum[\"embeded_sequence_sum\"].apply(len)\n",
    "print(embed_lengths.value_counts())\n"
   ]
  },
  {
   "cell_type": "code",
   "execution_count": 14,
   "metadata": {},
   "outputs": [
    {
     "name": "stdout",
     "output_type": "stream",
     "text": [
      "       emb_1       emb_2       emb_3      emb_4      emb_5      emb_6  \\\n",
      "0 -42.401798  -26.870686  -46.018105   8.521990  15.175569 -18.864988   \n",
      "1   4.771414   -9.410942   -2.367512   0.598740  -5.552438  -2.216153   \n",
      "2  11.647195  -80.076416 -124.189705  58.185944  48.472561  24.540005   \n",
      "3  -6.452082 -117.957657 -129.250961  41.561977 -21.422041 -83.653915   \n",
      "4   8.611705  -30.427801  -61.426537  33.076874  20.033140 -68.134056   \n",
      "\n",
      "        emb_7       emb_8      emb_9     emb_10  ...    emb_762    emb_763  \\\n",
      "0   -5.143667 -103.999161  52.696270  34.906448  ...  14.058058 -35.712307   \n",
      "1    2.808177   -3.373450   4.429100   3.801935  ...   0.464715   2.624750   \n",
      "2   36.780075  -63.776188  82.424889  20.396940  ...  31.705832   2.266652   \n",
      "3  104.651474 -106.414589  20.539492 -15.075366  ... -34.709187 -47.284946   \n",
      "4   14.036429  -13.502237  31.836353  34.797176  ...  21.287672  24.752357   \n",
      "\n",
      "     emb_764    emb_765    emb_766     emb_767    emb_768  label  sample_id  \\\n",
      "0  -3.190466  49.794823 -42.799503   48.233025 -43.109947      1      12150   \n",
      "1  -0.605876   2.401019  -3.718243    6.333813  -4.118282      1      10168   \n",
      "2  38.338787  61.845779  -0.191301  130.945633 -39.840389      1      12783   \n",
      "3  -4.274190  50.157265 -34.449261   68.198784  -8.792969      1      12754   \n",
      "4   2.240633  23.209963  -0.617386   50.764732 -25.916571      1       4277   \n",
      "\n",
      "   severity  \n",
      "0  critical  \n",
      "1  critical  \n",
      "2  critical  \n",
      "3  critical  \n",
      "4  critical  \n",
      "\n",
      "[5 rows x 771 columns]\n"
     ]
    }
   ],
   "source": [
    "# Create column names for embeddings\n",
    "columns = [f'emb_{i+1}' for i in range(n)]\n",
    "\n",
    "# Create a DataFrame for embedding values\n",
    "data = pd.DataFrame(embeded_sum[\"embeded_sequence_sum\"].to_list(), columns=columns)\n",
    "\n",
    "# Add metadata columns\n",
    "data['label'] = embeded_sum['label']\n",
    "data['sample_id'] = embeded_sum['sample_id']\n",
    "data['severity'] = embeded_sum['severity']\n",
    "\n",
    "# Display the result\n",
    "print(data.head())\n"
   ]
  },
  {
   "cell_type": "code",
   "execution_count": 15,
   "metadata": {},
   "outputs": [],
   "source": [
    "dataset_path = '/Users/mac/Desktop/Code_Smell_Detection/dataset/feature_envy/cubert_embeddings/processed_embeddings/cubert_embed_line_by_line_sum.pkl'\n",
    "pd.to_pickle(data, dataset_path)"
   ]
  },
  {
   "cell_type": "code",
   "execution_count": 16,
   "metadata": {},
   "outputs": [
    {
     "name": "stdout",
     "output_type": "stream",
     "text": [
      "0    [[-0.6730444431304932, -0.42651882767677307, -...\n",
      "1    [[0.9542828798294067, -1.8821884393692017, -0....\n",
      "2    [[0.0946926400065422, -0.6510277986526489, -1....\n",
      "3    [[-0.05760787054896355, -1.0531933307647705, -...\n",
      "4    [[0.11184032261371613, -0.3951662480831146, -0...\n",
      "Name: embeded_sequence_avg, dtype: object\n",
      "embeded_sequence_avg\n",
      "<class 'list'>    3027\n",
      "Name: count, dtype: int64\n"
     ]
    }
   ],
   "source": [
    "print(embeded_avg[\"embeded_sequence_avg\"].head())\n",
    "print(embeded_avg[\"embeded_sequence_avg\"].apply(type).value_counts())"
   ]
  },
  {
   "cell_type": "code",
   "execution_count": 17,
   "metadata": {},
   "outputs": [],
   "source": [
    "embeded_avg[\"embeded_sequence_avg\"] = embeded_avg[\"embeded_sequence_avg\"].apply(\n",
    "    lambda x: \" \".join(str(i) for i in x) if isinstance(x, pd.Series) else str(x)\n",
    ")"
   ]
  },
  {
   "cell_type": "code",
   "execution_count": 18,
   "metadata": {},
   "outputs": [
    {
     "name": "stdout",
     "output_type": "stream",
     "text": [
      "Embedding length: 15974\n"
     ]
    }
   ],
   "source": [
    "n = len(embeded_avg[\"embeded_sequence_avg\"][0])\n",
    "print(f\"Embedding length: {n}\")"
   ]
  },
  {
   "cell_type": "code",
   "execution_count": 19,
   "metadata": {},
   "outputs": [],
   "source": [
    "embeded_avg[\"embeded_sequence_avg\"] = embeded_avg[\"embeded_sequence_avg\"].apply(parse_flat_embedding)"
   ]
  },
  {
   "cell_type": "code",
   "execution_count": 20,
   "metadata": {},
   "outputs": [
    {
     "name": "stdout",
     "output_type": "stream",
     "text": [
      "Most common sequence length: 768\n",
      "Count of rows with this length: 2742\n"
     ]
    }
   ],
   "source": [
    "embed_lengths = embeded_avg[\"embeded_sequence_avg\"].apply(len)\n",
    "length_counts = embed_lengths.value_counts()\n",
    "most_common_length = length_counts.idxmax()\n",
    "\n",
    "n = most_common_length\n",
    "print(f\"Most common sequence length: {most_common_length}\")\n",
    "print(f\"Count of rows with this length: {length_counts[most_common_length]}\")"
   ]
  },
  {
   "cell_type": "code",
   "execution_count": 21,
   "metadata": {},
   "outputs": [
    {
     "name": "stdout",
     "output_type": "stream",
     "text": [
      "0    [-0.6730444431304932, -0.42651882767677307, -0...\n",
      "1    [0.9542828798294067, -1.8821884393692017, -0.4...\n",
      "2    [0.0946926400065422, -0.6510277986526489, -1.0...\n",
      "3    [-0.05760787054896355, -1.0531933307647705, -1...\n",
      "4    [0.11184032261371613, -0.3951662480831146, -0....\n",
      "Name: embeded_sequence_avg, dtype: object\n"
     ]
    }
   ],
   "source": [
    "# Function to handle the trimming or padding of the sequence\n",
    "embeded_avg[\"embeded_sequence_avg\"] = embeded_avg[\"embeded_sequence_avg\"].apply(\n",
    "    lambda x: (x[:n] if len(x) > n else x + [0] * (n - len(x))) if isinstance(x, list) else [0] * n\n",
    ")\n",
    "\n",
    "print(embeded_avg[\"embeded_sequence_avg\"].head())"
   ]
  },
  {
   "cell_type": "code",
   "execution_count": 22,
   "metadata": {},
   "outputs": [
    {
     "name": "stdout",
     "output_type": "stream",
     "text": [
      "embeded_sequence_avg\n",
      "768    3027\n",
      "Name: count, dtype: int64\n"
     ]
    }
   ],
   "source": [
    "embed_lengths = embeded_avg[\"embeded_sequence_avg\"].apply(len)\n",
    "print(embed_lengths.value_counts())"
   ]
  },
  {
   "cell_type": "code",
   "execution_count": 23,
   "metadata": {},
   "outputs": [
    {
     "data": {
      "text/html": [
       "<div>\n",
       "<style scoped>\n",
       "    .dataframe tbody tr th:only-of-type {\n",
       "        vertical-align: middle;\n",
       "    }\n",
       "\n",
       "    .dataframe tbody tr th {\n",
       "        vertical-align: top;\n",
       "    }\n",
       "\n",
       "    .dataframe thead th {\n",
       "        text-align: right;\n",
       "    }\n",
       "</style>\n",
       "<table border=\"1\" class=\"dataframe\">\n",
       "  <thead>\n",
       "    <tr style=\"text-align: right;\">\n",
       "      <th></th>\n",
       "      <th>emb_1</th>\n",
       "      <th>emb_2</th>\n",
       "      <th>emb_3</th>\n",
       "      <th>emb_4</th>\n",
       "      <th>emb_5</th>\n",
       "      <th>emb_6</th>\n",
       "      <th>emb_7</th>\n",
       "      <th>emb_8</th>\n",
       "      <th>emb_9</th>\n",
       "      <th>emb_10</th>\n",
       "      <th>...</th>\n",
       "      <th>emb_762</th>\n",
       "      <th>emb_763</th>\n",
       "      <th>emb_764</th>\n",
       "      <th>emb_765</th>\n",
       "      <th>emb_766</th>\n",
       "      <th>emb_767</th>\n",
       "      <th>emb_768</th>\n",
       "      <th>label</th>\n",
       "      <th>sample_id</th>\n",
       "      <th>severity</th>\n",
       "    </tr>\n",
       "  </thead>\n",
       "  <tbody>\n",
       "    <tr>\n",
       "      <th>0</th>\n",
       "      <td>-0.673044</td>\n",
       "      <td>-0.426519</td>\n",
       "      <td>-0.730446</td>\n",
       "      <td>0.135270</td>\n",
       "      <td>0.240882</td>\n",
       "      <td>-0.299444</td>\n",
       "      <td>-0.081646</td>\n",
       "      <td>-1.650780</td>\n",
       "      <td>0.836449</td>\n",
       "      <td>0.554071</td>\n",
       "      <td>...</td>\n",
       "      <td>0.223144</td>\n",
       "      <td>-0.566862</td>\n",
       "      <td>-0.050642</td>\n",
       "      <td>0.790394</td>\n",
       "      <td>-0.679357</td>\n",
       "      <td>0.765604</td>\n",
       "      <td>-0.684285</td>\n",
       "      <td>1</td>\n",
       "      <td>12150</td>\n",
       "      <td>critical</td>\n",
       "    </tr>\n",
       "    <tr>\n",
       "      <th>1</th>\n",
       "      <td>0.954283</td>\n",
       "      <td>-1.882188</td>\n",
       "      <td>-0.473502</td>\n",
       "      <td>0.119748</td>\n",
       "      <td>-1.110488</td>\n",
       "      <td>-0.443231</td>\n",
       "      <td>0.561635</td>\n",
       "      <td>-0.674690</td>\n",
       "      <td>0.885820</td>\n",
       "      <td>0.760387</td>\n",
       "      <td>...</td>\n",
       "      <td>0.092943</td>\n",
       "      <td>0.524950</td>\n",
       "      <td>-0.121175</td>\n",
       "      <td>0.480204</td>\n",
       "      <td>-0.743649</td>\n",
       "      <td>1.266763</td>\n",
       "      <td>-0.823656</td>\n",
       "      <td>1</td>\n",
       "      <td>10168</td>\n",
       "      <td>critical</td>\n",
       "    </tr>\n",
       "    <tr>\n",
       "      <th>2</th>\n",
       "      <td>0.094693</td>\n",
       "      <td>-0.651028</td>\n",
       "      <td>-1.009672</td>\n",
       "      <td>0.473056</td>\n",
       "      <td>0.394086</td>\n",
       "      <td>0.199512</td>\n",
       "      <td>0.299025</td>\n",
       "      <td>-0.518506</td>\n",
       "      <td>0.670121</td>\n",
       "      <td>0.165829</td>\n",
       "      <td>...</td>\n",
       "      <td>0.685719</td>\n",
       "      <td>0.257771</td>\n",
       "      <td>0.018428</td>\n",
       "      <td>0.311697</td>\n",
       "      <td>0.502811</td>\n",
       "      <td>-0.001555</td>\n",
       "      <td>1.064599</td>\n",
       "      <td>1</td>\n",
       "      <td>12783</td>\n",
       "      <td>critical</td>\n",
       "    </tr>\n",
       "    <tr>\n",
       "      <th>3</th>\n",
       "      <td>-0.057608</td>\n",
       "      <td>-1.053193</td>\n",
       "      <td>-1.154026</td>\n",
       "      <td>0.371089</td>\n",
       "      <td>-0.191268</td>\n",
       "      <td>-0.746910</td>\n",
       "      <td>0.934388</td>\n",
       "      <td>-0.950130</td>\n",
       "      <td>0.183388</td>\n",
       "      <td>-0.134601</td>\n",
       "      <td>...</td>\n",
       "      <td>-0.309903</td>\n",
       "      <td>-0.422187</td>\n",
       "      <td>-0.038162</td>\n",
       "      <td>0.447833</td>\n",
       "      <td>-0.307583</td>\n",
       "      <td>0.608918</td>\n",
       "      <td>-0.078509</td>\n",
       "      <td>1</td>\n",
       "      <td>12754</td>\n",
       "      <td>critical</td>\n",
       "    </tr>\n",
       "    <tr>\n",
       "      <th>4</th>\n",
       "      <td>0.111840</td>\n",
       "      <td>-0.395166</td>\n",
       "      <td>-0.797747</td>\n",
       "      <td>0.429570</td>\n",
       "      <td>0.260171</td>\n",
       "      <td>-0.884858</td>\n",
       "      <td>0.182291</td>\n",
       "      <td>-0.175354</td>\n",
       "      <td>0.413459</td>\n",
       "      <td>0.451911</td>\n",
       "      <td>...</td>\n",
       "      <td>0.276463</td>\n",
       "      <td>0.321459</td>\n",
       "      <td>0.029099</td>\n",
       "      <td>0.301428</td>\n",
       "      <td>-0.008018</td>\n",
       "      <td>0.659282</td>\n",
       "      <td>-0.336579</td>\n",
       "      <td>1</td>\n",
       "      <td>4277</td>\n",
       "      <td>critical</td>\n",
       "    </tr>\n",
       "  </tbody>\n",
       "</table>\n",
       "<p>5 rows × 771 columns</p>\n",
       "</div>"
      ],
      "text/plain": [
       "      emb_1     emb_2     emb_3     emb_4     emb_5     emb_6     emb_7  \\\n",
       "0 -0.673044 -0.426519 -0.730446  0.135270  0.240882 -0.299444 -0.081646   \n",
       "1  0.954283 -1.882188 -0.473502  0.119748 -1.110488 -0.443231  0.561635   \n",
       "2  0.094693 -0.651028 -1.009672  0.473056  0.394086  0.199512  0.299025   \n",
       "3 -0.057608 -1.053193 -1.154026  0.371089 -0.191268 -0.746910  0.934388   \n",
       "4  0.111840 -0.395166 -0.797747  0.429570  0.260171 -0.884858  0.182291   \n",
       "\n",
       "      emb_8     emb_9    emb_10  ...   emb_762   emb_763   emb_764   emb_765  \\\n",
       "0 -1.650780  0.836449  0.554071  ...  0.223144 -0.566862 -0.050642  0.790394   \n",
       "1 -0.674690  0.885820  0.760387  ...  0.092943  0.524950 -0.121175  0.480204   \n",
       "2 -0.518506  0.670121  0.165829  ...  0.685719  0.257771  0.018428  0.311697   \n",
       "3 -0.950130  0.183388 -0.134601  ... -0.309903 -0.422187 -0.038162  0.447833   \n",
       "4 -0.175354  0.413459  0.451911  ...  0.276463  0.321459  0.029099  0.301428   \n",
       "\n",
       "    emb_766   emb_767   emb_768  label  sample_id  severity  \n",
       "0 -0.679357  0.765604 -0.684285      1      12150  critical  \n",
       "1 -0.743649  1.266763 -0.823656      1      10168  critical  \n",
       "2  0.502811 -0.001555  1.064599      1      12783  critical  \n",
       "3 -0.307583  0.608918 -0.078509      1      12754  critical  \n",
       "4 -0.008018  0.659282 -0.336579      1       4277  critical  \n",
       "\n",
       "[5 rows x 771 columns]"
      ]
     },
     "execution_count": 23,
     "metadata": {},
     "output_type": "execute_result"
    }
   ],
   "source": [
    "columns = [f'emb_{i+1}' for i in range(n)]\n",
    "data = pd.DataFrame(embeded_avg[\"embeded_sequence_avg\"].to_list(), columns=columns)\n",
    "data['label'] = embeded_avg['label']\n",
    "data['sample_id'] = embeded_avg['sample_id']\n",
    "data['severity'] = embeded_avg['severity']\n",
    "data.head()"
   ]
  },
  {
   "cell_type": "code",
   "execution_count": 24,
   "metadata": {},
   "outputs": [],
   "source": [
    "dataset_path = '/Users/mac/Desktop/Code_Smell_Detection/dataset/feature_envy/cubert_embeddings/processed_embeddings/cubert_embed_line_by_line_avg.pkl'\n",
    "pd.to_pickle(data, dataset_path)"
   ]
  }
 ],
 "metadata": {
  "kernelspec": {
   "display_name": "Python 3",
   "language": "python",
   "name": "python3"
  },
  "language_info": {
   "codemirror_mode": {
    "name": "ipython",
    "version": 3
   },
   "file_extension": ".py",
   "mimetype": "text/x-python",
   "name": "python",
   "nbconvert_exporter": "python",
   "pygments_lexer": "ipython3",
   "version": "3.13.0"
  }
 },
 "nbformat": 4,
 "nbformat_minor": 2
}
